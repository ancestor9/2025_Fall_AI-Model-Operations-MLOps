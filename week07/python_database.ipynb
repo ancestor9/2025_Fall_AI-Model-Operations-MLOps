{
  "cells": [
    {
      "cell_type": "markdown",
      "metadata": {
        "id": "view-in-github",
        "colab_type": "text"
      },
      "source": [
        "<a href=\"https://colab.research.google.com/github/ancestor9/2025_Fall_AI-Model-Operations-MLOps/blob/main/week07/python_database.ipynb\" target=\"_parent\"><img src=\"https://colab.research.google.com/assets/colab-badge.svg\" alt=\"Open In Colab\"/></a>"
      ]
    },
    {
      "cell_type": "markdown",
      "source": [
        "database.py [링크](https://github.com/ancestor9/2025_Fall_AI-Model-Operations-MLOps/blob/main/week07/src/database.py)에 있는 코드를 copy -> paste"
      ],
      "metadata": {
        "id": "45ilJ5wEpc97"
      }
    },
    {
      "cell_type": "code",
      "source": [
        "from sqlalchemy import create_engine\n",
        "from sqlalchemy.orm import sessionmaker\n",
        "from sqlalchemy.ext.declarative import declarative_base\n",
        "\n",
        "# 데이터베이스 연결 URL\n",
        "# mvc_app.db 파일을 만들고 SQLite DB 연결 📞 전화기 만들기 (DB와 통화할 도구)\n",
        "SQLALCHEMY_DATABASE_URL = \"sqlite:///./mvc_app.db\"\n",
        "\n",
        "# engine = DB와 소통할 \"연결 통로\" 완성 ✅ 전화기가 완성됨!\n",
        "engine = create_engine(\n",
        "    SQLALCHEMY_DATABASE_URL,\n",
        "    connect_args={\"check_same_thread\": False} # SQLite 설정\n",
        ")\n",
        "\n",
        "# SessionLocal = \"세션을 찍어내는 공장\" 🏭 세션 공장 완성 (필요할 때마다 세션 발급)\n",
        "SessionLocal = sessionmaker(autocommit=False, autoflush=False, bind=engine)\n",
        "\n",
        "# SQLAlchemy 모델의 기본 클래스\n",
        "# Base = \"모든 테이블의 기본 설계도\"📐 기본 건축 설계도\n",
        "Base = declarative_base()\n",
        "# -----> models.py의 class DBUser(Base) = \"users 테이블 설계도\" 🏠 users 테이블 청사진\n",
        "\n",
        "# FastAPI DB 세션 의존성 함수 (Controller에 주입됨)\n",
        "# 📍 세션 제공 함수\n",
        "def get_db():\n",
        "    db = SessionLocal()     # ① 새 세션 발급\n",
        "    try:\n",
        "        yield db            # ② 세션 제공 (임시 사용권)\n",
        "    finally:\n",
        "        db.close()          # ③ 세션 반납 (자동 정리)\n",
        "\n",
        "# 실행 순서,코드 라인,무슨 일이 일어나나?,쉬운 비유,타이밍\n",
        "# ① 시작,db = SessionLocal(),공장에서 새 세션 발급,📦 새 도서관 대출권 발급,요청 받자마자\n",
        "# ② 제공,yield db,\"\"\"이 세션 써요!\"\"\",📖 책 건네주기,엔드포인트 실행 중\n",
        "# ③ 정리,db.close(),세션 자동 반납,📚 책 반납 (자동),응답 끝난 후\n",
        "# 🎯 핵심: yield = \"임시로 빌려주고, 끝나면 자동 정리!\" FastAPI가 이 마법을 알아서 처리해줘요"
      ],
      "metadata": {
        "colab": {
          "base_uri": "https://localhost:8080/"
        },
        "id": "HbJRLKNepdn4",
        "outputId": "c57d7ba4-7000-448d-b24b-2e4ffff4af8f"
      },
      "execution_count": 2,
      "outputs": [
        {
          "output_type": "stream",
          "name": "stderr",
          "text": [
            "/tmp/ipython-input-876353234.py:20: MovedIn20Warning: The ``declarative_base()`` function is now available as sqlalchemy.orm.declarative_base(). (deprecated since: 2.0) (Background on SQLAlchemy 2.0 at: https://sqlalche.me/e/b8d9)\n",
            "  Base = declarative_base()\n"
          ]
        }
      ]
    },
    {
      "cell_type": "code",
      "source": [
        "engine"
      ],
      "metadata": {
        "colab": {
          "base_uri": "https://localhost:8080/"
        },
        "id": "IbYZ_2_tsIib",
        "outputId": "44324e97-53b3-4833-b255-810d9e62bb9b"
      },
      "execution_count": 3,
      "outputs": [
        {
          "output_type": "execute_result",
          "data": {
            "text/plain": [
              "Engine(sqlite:///./mvc_app.db)"
            ]
          },
          "metadata": {},
          "execution_count": 3
        }
      ]
    },
    {
      "cell_type": "code",
      "source": [
        "SessionLocal"
      ],
      "metadata": {
        "colab": {
          "base_uri": "https://localhost:8080/"
        },
        "id": "NQLZbm90zWZl",
        "outputId": "85db05cd-53ff-40ea-d02b-d0413ea27cde"
      },
      "execution_count": 14,
      "outputs": [
        {
          "output_type": "execute_result",
          "data": {
            "text/plain": [
              "sessionmaker(class_='Session', autocommit=False, bind=Engine(sqlite:///./mvc_app_item_setup.db), autoflush=False, expire_on_commit=True)"
            ]
          },
          "metadata": {},
          "execution_count": 14
        }
      ]
    },
    {
      "cell_type": "markdown",
      "source": [
        "1. DB에 접속하여 user라는 테이블을 만드는 명령어"
      ],
      "metadata": {
        "id": "nd9lWGXXsVOF"
      }
    },
    {
      "cell_type": "code",
      "source": [
        "from sqlalchemy import create_engine, Column, Integer, String\n",
        "from sqlalchemy.orm import sessionmaker, Session\n",
        "from sqlalchemy.ext.declarative import declarative_base\n",
        "\n",
        "\n",
        "# 📦 모델 정의 for User table\n",
        "class User(Base):\n",
        "    __tablename__ = \"users\"\n",
        "\n",
        "    id = Column(Integer, primary_key=True, index=True)\n",
        "    username = Column(String, unique=True, index=True)\n",
        "    email = Column(String, unique=True, index=True)\n",
        "    hashed_password = Column(String)\n",
        "\n",
        "# 🚀 DB 초기화: 테이블 생성 (Using Base.metadata)\n",
        "def init_db():\n",
        "    # Create all tables defined in Base.metadata\n",
        "    Base.metadata.create_all(bind = engine)\n",
        "\n",
        "# Create the user table\n",
        "init_db()\n",
        "\n",
        "print(\"User table created successfully!\")"
      ],
      "metadata": {
        "colab": {
          "base_uri": "https://localhost:8080/"
        },
        "id": "c3WTiMIqr7j0",
        "outputId": "e659f2e4-c087-421a-9ef0-d29a2e03d823"
      },
      "execution_count": 4,
      "outputs": [
        {
          "output_type": "stream",
          "name": "stdout",
          "text": [
            "User table created successfully!\n"
          ]
        }
      ]
    },
    {
      "cell_type": "markdown",
      "source": [
        "2. user 테이블에 record 2개를 생성하는 코드"
      ],
      "metadata": {
        "id": "8mvjTr4gtjCH"
      }
    },
    {
      "cell_type": "code",
      "source": [
        "from sqlalchemy.orm import Session\n",
        "\n",
        "# 🔑 세션 관리 함수 (Using the get_db function defined earlier)\n",
        "def get_session_context() -> Session:\n",
        "    \"\"\"\n",
        "    Opens a session, uses it, and ensures it's closed.\n",
        "    \"\"\"\n",
        "    db = SessionLocal() # Create a session\n",
        "    try:\n",
        "        return db\n",
        "    finally:\n",
        "        db.close() # Close the session\n",
        "\n",
        "# 🧪 실행 로직\n",
        "print(\"--- Creating users ---\")\n",
        "\n",
        "# 1. Get a session context\n",
        "db_session = get_session_context()\n",
        "\n",
        "try:\n",
        "    # Create two User objects\n",
        "    user1 = User(username=\"user1\", email=\"user1@example.com\", hashed_password=\"password1\")\n",
        "    user2 = User(username=\"user2\", email=\"user2@example.com\", hashed_password=\"password2\")\n",
        "\n",
        "    # Add the users to the session\n",
        "    db_session.add(user1)\n",
        "    db_session.add(user2)\n",
        "\n",
        "    # Commit the transaction\n",
        "    db_session.commit()\n",
        "\n",
        "    print(\"✅ Two users created successfully!\")\n",
        "\n",
        "except Exception as e:\n",
        "    # Rollback in case of error\n",
        "    db_session.rollback()\n",
        "    print(f\"❌ Error creating users: {e}\")\n",
        "\n",
        "finally:\n",
        "    # Close the session\n",
        "    db_session.close()\n",
        "\n",
        "print(\"--- User creation completed ---\")"
      ],
      "metadata": {
        "colab": {
          "base_uri": "https://localhost:8080/"
        },
        "id": "z_8BeXt5sSUC",
        "outputId": "c87d7605-56bf-45c7-bcfe-26f619f20e38"
      },
      "execution_count": 5,
      "outputs": [
        {
          "output_type": "stream",
          "name": "stdout",
          "text": [
            "--- Creating users ---\n",
            "✅ Two users created successfully!\n",
            "--- User creation completed ---\n"
          ]
        }
      ]
    },
    {
      "cell_type": "markdown",
      "source": [
        "3. user 테이블을 모든 records를 조회하는 코드"
      ],
      "metadata": {
        "id": "j08uhqy1t03q"
      }
    },
    {
      "cell_type": "code",
      "source": [
        "# 🧪 실행 로직\n",
        "print(\"--- Retrieving users ---\")\n",
        "\n",
        "# 1. Get a session context\n",
        "db_session = get_session_context()\n",
        "\n",
        "try:\n",
        "    # Query all users\n",
        "    users = db_session.query(User).all()\n",
        "\n",
        "    if users:\n",
        "        print(\"✅ Retrieved users:\")\n",
        "        for user in users:\n",
        "            print(f\"  ID: {user.id}, Username: {user.username}, Email: {user.email}\")\n",
        "    else:\n",
        "        print(\"🔎 No users found in the table.\")\n",
        "\n",
        "except Exception as e:\n",
        "    print(f\"❌ Error retrieving users: {e}\")\n",
        "\n",
        "finally:\n",
        "    # Close the session\n",
        "    db_session.close()\n",
        "\n",
        "print(\"--- User retrieval completed ---\")"
      ],
      "metadata": {
        "colab": {
          "base_uri": "https://localhost:8080/"
        },
        "id": "VjB3Q0sKpdtD",
        "outputId": "590e9246-652f-49b8-e6da-8a8e3f19c0d9"
      },
      "execution_count": 6,
      "outputs": [
        {
          "output_type": "stream",
          "name": "stdout",
          "text": [
            "--- Retrieving users ---\n",
            "✅ Retrieved users:\n",
            "  ID: 1, Username: user1, Email: user1@example.com\n",
            "  ID: 2, Username: user2, Email: user2@example.com\n",
            "--- User retrieval completed ---\n"
          ]
        }
      ]
    },
    {
      "cell_type": "markdown",
      "source": [
        "4. ID 1을 지우는 코드"
      ],
      "metadata": {
        "id": "prBiqPpWuYSs"
      }
    },
    {
      "cell_type": "code",
      "source": [
        "# 🧪 실행 로직\n",
        "print(\"--- Deleting user with ID 1 ---\")\n",
        "\n",
        "# 1. Get a session context\n",
        "db_session = get_session_context()\n",
        "\n",
        "try:\n",
        "    # Find the user with ID 1\n",
        "    user_to_delete = db_session.query(User).filter(User.id == 1).first()\n",
        "\n",
        "    if user_to_delete:\n",
        "        # Delete the user\n",
        "        db_session.delete(user_to_delete)\n",
        "        # Commit the transaction\n",
        "        db_session.commit()\n",
        "        print(\"✅ User with ID 1 deleted successfully!\")\n",
        "    else:\n",
        "        print(\"🔎 User with ID 1 not found.\")\n",
        "\n",
        "except Exception as e:\n",
        "    # Rollback in case of error\n",
        "    db_session.rollback()\n",
        "    print(f\"❌ Error deleting user: {e}\")\n",
        "\n",
        "finally:\n",
        "    # Close the session\n",
        "    db_session.close()\n",
        "\n",
        "print(\"--- User deletion completed ---\")"
      ],
      "metadata": {
        "colab": {
          "base_uri": "https://localhost:8080/"
        },
        "id": "S39FEU-SuIan",
        "outputId": "a5994fe6-90b1-4529-8af9-3be4b117ba5e"
      },
      "execution_count": 7,
      "outputs": [
        {
          "output_type": "stream",
          "name": "stdout",
          "text": [
            "--- Deleting user with ID 1 ---\n",
            "✅ User with ID 1 deleted successfully!\n",
            "--- User deletion completed ---\n"
          ]
        }
      ]
    },
    {
      "cell_type": "markdown",
      "source": [
        "## **1. ORM 없이 코딩하기**\n",
        "ORM(Object-Relational Mapping)은 객체 지향 프로그래밍 언어와 관계형 데이터베이스 사이의 호환되지 않는 데이터를 변환해주는 기술입니다. ORM을 사용하면 개발자는 SQL을 직접 작성하지 않고도 객체처럼 데이터베이스를 다룰 수 있어 생산성 향상, 재사용성 증가, 유지보수 용이성 증진 등의 이점을 얻을 수 있습니다.\n",
        "\n",
        "SQLAlchemy ORM을 사용하지 않고, 표준 sqlite3 라이브러리를 사용하여 DB 의존성 코드를 구현한 예시"
      ],
      "metadata": {
        "id": "kaH-uB6VvA4v"
      }
    },
    {
      "cell_type": "code",
      "source": [
        "SessionLocal"
      ],
      "metadata": {
        "colab": {
          "base_uri": "https://localhost:8080/"
        },
        "id": "3p5txe-wzNrR",
        "outputId": "52d7dc9f-c9c0-4bd8-84c1-31b76975abd3"
      },
      "execution_count": 13,
      "outputs": [
        {
          "output_type": "execute_result",
          "data": {
            "text/plain": [
              "sessionmaker(class_='Session', autocommit=False, bind=Engine(sqlite:///./mvc_app_item_setup.db), autoflush=False, expire_on_commit=True)"
            ]
          },
          "metadata": {},
          "execution_count": 13
        }
      ]
    },
    {
      "cell_type": "code",
      "source": [
        "from sqlalchemy import create_engine, Column, Integer, String\n",
        "from sqlalchemy.orm import sessionmaker\n",
        "from sqlalchemy.ext.declarative import declarative_base\n",
        "\n",
        "# ----------------------------------------------------\n",
        "# 1. DB 설정 및 모델 정의 (Base 사용)\n",
        "# ----------------------------------------------------\n",
        "\n",
        "# SQLite 연결 설정 (mvc_app.db 파일을 사용)\n",
        "SQLALCHEMY_DATABASE_URL = \"sqlite:///./mvc_app_item_setup.db\"\n",
        "\n",
        "# 엔진 생성 (DB와의 소통 통로)\n",
        "engine = create_engine(\n",
        "    SQLALCHEMY_DATABASE_URL,\n",
        "    # SQLite를 다중 스레드 환경에서 사용할 때 필요한 설정이지만,\n",
        "    # 여기서는 단일 실행이므로 필수 아님. 습관적으로 포함.\n",
        "    connect_args={\"check_same_thread\": False}\n",
        ")\n",
        "\n",
        "# 모든 ORM 모델의 기본 클래스\n",
        "Base = declarative_base()\n",
        "\n",
        "# Item 테이블 모델 정의\n",
        "class Item(Base):\n",
        "    __tablename__ = \"items\" # 실제 DB 테이블 이름\n",
        "\n",
        "    id = Column(Integer, primary_key=True, index=True)\n",
        "    name = Column(String, index=True, unique=True)\n",
        "    price = Column(Integer)\n",
        "    description = Column(String, nullable=True)\n",
        "\n",
        "# 세션 생성기 정의 (세션을 발급하는 공장)\n",
        "SessionLocal = sessionmaker(autocommit=False, autoflush=False, bind=engine)\n",
        "\n",
        "# ----------------------------------------------------\n",
        "# 2. 실행 로직: 테이블 생성 및 레코드 삽입\n",
        "# ----------------------------------------------------\n",
        "\n",
        "def setup_database():\n",
        "    # 1. 테이블 생성\n",
        "    # Base에 정의된 모든 모델(여기서는 Item)을 사용하여 DB에 테이블을 생성합니다.\n",
        "    print(\"🚀 데이터베이스 파일 생성 및 테이블 구조 반영...\")\n",
        "    Base.metadata.create_all(bind=engine)\n",
        "\n",
        "def insert_records():\n",
        "    # 2. 세션 발급 및 트랜잭션 시작\n",
        "    session = SessionLocal()\n",
        "    print(\"⏳ 레코드 삽입 트랜잭션 시작...\")\n",
        "\n",
        "    try:\n",
        "        # 삽입할 레코드 1\n",
        "        item1 = Item(name=\"노트북\", price=1200000, description=\"고성능 작업용 기기\")\n",
        "        # 삽입할 레코드 2\n",
        "        item2 = Item(name=\"마우스\", price=35000, description=\"무선 광마우스\")\n",
        "\n",
        "        # 세션에 객체 추가 (DB에 반영할 준비)\n",
        "        session.add(item1)\n",
        "        session.add(item2)\n",
        "\n",
        "        # 트랜잭션 커밋 (DB에 실제로 저장)\n",
        "        session.commit()\n",
        "        print(\"✅ 레코드 2개 삽입 완료 (트랜잭션 커밋)\")\n",
        "\n",
        "    except Exception as e:\n",
        "        # 오류 발생 시 롤백 (트랜잭션 취소)\n",
        "        session.rollback()\n",
        "        print(f\"❌ 오류 발생. 롤백됨: {e}\")\n",
        "\n",
        "    finally:\n",
        "        # 세션 종료 (리소스 반납)\n",
        "        session.close()\n",
        "        print(\"📚 세션 종료.\")\n",
        "\n",
        "# ----------------------------------------------------\n",
        "# 3. 프로그램 실행\n",
        "# ----------------------------------------------------\n",
        "if __name__ == \"__main__\":\n",
        "    setup_database()\n",
        "    insert_records()\n",
        "\n",
        "    # 확인을 위한 코드 (선택 사항)\n",
        "    session = SessionLocal()\n",
        "    count = session.query(Item).count()\n",
        "    print(f\"\\n총 {count}개의 레코드가 DB에 저장되었습니다.\")\n",
        "    session.close()"
      ],
      "metadata": {
        "colab": {
          "base_uri": "https://localhost:8080/"
        },
        "id": "4vnnEnwvxJmN",
        "outputId": "6a6c95cd-12ef-469a-bcb2-8bcc60d8cc67"
      },
      "execution_count": 12,
      "outputs": [
        {
          "output_type": "stream",
          "name": "stdout",
          "text": [
            "🚀 데이터베이스 파일 생성 및 테이블 구조 반영...\n",
            "⏳ 레코드 삽입 트랜잭션 시작...\n",
            "✅ 레코드 2개 삽입 완료 (트랜잭션 커밋)\n",
            "📚 세션 종료.\n",
            "\n",
            "총 2개의 레코드가 DB에 저장되었습니다.\n"
          ]
        },
        {
          "output_type": "stream",
          "name": "stderr",
          "text": [
            "/tmp/ipython-input-1303078818.py:21: MovedIn20Warning: The ``declarative_base()`` function is now available as sqlalchemy.orm.declarative_base(). (deprecated since: 2.0) (Background on SQLAlchemy 2.0 at: https://sqlalche.me/e/b8d9)\n",
            "  Base = declarative_base()\n"
          ]
        }
      ]
    },
    {
      "cell_type": "markdown",
      "source": [
        "## **2. Session 객체**\n",
        "\n",
        "SQLAlchemy의 Session 객체를 사용하여 데이터베이스 작업을 수행하는 기본적인 예제를 보여드리겠습니다. 이 예제는 일반적으로 FastAPI와 같은 웹 애플리케이션의 CRUD 함수에서 데이터베이스 로직을 구현할 때 사용되는 패턴입니다.\n",
        "\n",
        "이 코드는 세션 설정, 모델 정의, 그리고 세션을 이용한 데이터 조회 및 생성의 세 부분으로 구성됩니다."
      ],
      "metadata": {
        "id": "iJ9SabIJpdwa"
      }
    },
    {
      "cell_type": "markdown",
      "source": [
        "1. 설정 및 모델 정의\n",
        "\n",
        "먼저, 데이터베이스 엔진을 설정하고, SessionLocal 클래스를 정의한 후, 사용할 ORM 모델(Item)을 정의합니다."
      ],
      "metadata": {
        "id": "qm23wZ6mqbFh"
      }
    },
    {
      "cell_type": "code",
      "source": [
        "from sqlalchemy import create_engine, Column, Integer, String\n",
        "from sqlalchemy.orm import sessionmaker, Session\n",
        "from sqlalchemy.ext.declarative import declarative_base\n",
        "\n",
        "# ⚙️ 설정 (이전 질문에서 제공된 코드와 유사)\n",
        "SQLALCHEMY_DATABASE_URL = \"sqlite:///./example.db\"\n",
        "engine = create_engine(\n",
        "    SQLALCHEMY_DATABASE_URL,\n",
        "    connect_args={\"check_same_thread\": False}\n",
        ")\n",
        "SessionLocal = sessionmaker(autocommit=False, autoflush=False, bind=engine)\n",
        "Base = declarative_base() # 모든 모델이 상속받을 기본 클래스\n",
        "\n",
        "# 📦 모델 정의\n",
        "class Item(Base):\n",
        "    __tablename__ = \"items\"\n",
        "\n",
        "    id = Column(Integer, primary_key=True, index=True)\n",
        "    name = Column(String, index=True)\n",
        "    description = Column(String, nullable=True)\n",
        "\n",
        "# 🚀 DB 초기화: 테이블 생성 (Base.metadata를 사용)\n",
        "def init_db():\n",
        "    Base.metadata.create_all(bind=engine)\n",
        "\n",
        "init_db()"
      ],
      "metadata": {
        "colab": {
          "base_uri": "https://localhost:8080/"
        },
        "id": "luojJdqGmwQZ",
        "outputId": "af8b85b5-1107-4905-be5a-aa6fd8c9fbb7"
      },
      "execution_count": 5,
      "outputs": [
        {
          "output_type": "stream",
          "name": "stderr",
          "text": [
            "/tmp/ipython-input-1995538289.py:12: MovedIn20Warning: The ``declarative_base()`` function is now available as sqlalchemy.orm.declarative_base(). (deprecated since: 2.0) (Background on SQLAlchemy 2.0 at: https://sqlalche.me/e/b8d9)\n",
            "  Base = declarative_base() # 모든 모델이 상속받을 기본 클래스\n"
          ]
        }
      ]
    },
    {
      "cell_type": "markdown",
      "source": [
        "2. 세션(Session)을 이용한 CRUD 함수\n",
        "\n",
        "여기서 db: Session 객체를 매개변수로 받아 실제 데이터베이스 작업을 수행합니다."
      ],
      "metadata": {
        "id": "gxIwAm5Mqew1"
      }
    },
    {
      "cell_type": "code",
      "source": [
        "# Pydantic 모델을 사용한다고 가정하고 간단히 정의\n",
        "class ItemCreate:\n",
        "    name: str\n",
        "    description: str | None = None\n",
        "\n",
        "class ItemInDB:\n",
        "    id: int\n",
        "    name: str\n",
        "    description: str | None = None\n",
        "\n",
        "\n",
        "# 💾 데이터 생성 (CREATE)\n",
        "def create_item(db: Session, item_data: ItemCreate) -> Item:\n",
        "    # 1. ORM 모델 객체 생성\n",
        "    db_item = Item(name=item_data.name, description=item_data.description)\n",
        "\n",
        "    # 2. 세션에 추가 (데이터베이스에 INSERT할 준비)\n",
        "    db.add(db_item)\n",
        "\n",
        "    # 3. 트랜잭션 커밋 (실제 데이터베이스에 반영)\n",
        "    db.commit()\n",
        "\n",
        "    # 4. 객체 새로고침 (DB에서 생성된 ID를 객체에 반영)\n",
        "    db.refresh(db_item)\n",
        "\n",
        "    return db_item\n",
        "\n",
        "\n",
        "# 🔎 데이터 조회 (READ)\n",
        "def get_item_by_name(db: Session, item_name: str) -> Item | None:\n",
        "    # 1. 세션의 query 객체를 사용하여 쿼리 작성 및 필터링\n",
        "    # .first()는 조건에 맞는 첫 번째 결과만 반환합니다.\n",
        "    item = db.query(Item).filter(Item.name == item_name).first()\n",
        "\n",
        "    return item\n",
        "\n",
        "\n",
        "# 📝 데이터 수정 및 삭제 (UPDATE, DELETE는 생략)\n",
        "# 수정 예시:\n",
        "# item_to_update = db.query(Item).filter(Item.id == item_id).first()\n",
        "# if item_to_update:\n",
        "#     item_to_update.description = \"New Description\"\n",
        "#     db.commit()"
      ],
      "metadata": {
        "id": "7wU6HnoGmxa8"
      },
      "execution_count": 6,
      "outputs": []
    },
    {
      "cell_type": "markdown",
      "source": [
        "3. 세션 관리 및 실행 (FastAPI의 get_db 패턴)\n",
        "\n",
        "실제 세션 객체를 생성하고 위 함수들을 호출하며, **가장 중요한 세션 종료(close())**를 처리하는 부분입니다."
      ],
      "metadata": {
        "id": "nQSI_HO4ql_Q"
      }
    },
    {
      "cell_type": "code",
      "source": [
        "# 🔑 세션 관리 함수 (FastAPI의 Dependency Injection 패턴)\n",
        "def get_session_context() -> Session:\n",
        "    \"\"\"\n",
        "    세션을 열고, 사용 후 반드시 닫는 역할을 합니다.\n",
        "    \"\"\"\n",
        "    db = SessionLocal() # 세션 생성\n",
        "    try:\n",
        "        # 여기서는 yield 대신 return을 사용하여 일반 함수처럼 동작하게 함\n",
        "        return db\n",
        "    finally:\n",
        "        db.close() # 세션 종료 (연결 풀 반환)\n",
        "\n",
        "\n",
        "# 🧪 실행 로직\n",
        "print(\"--- DB 작업 시작 ---\")\n",
        "\n",
        "# 1. 세션 컨텍스트 얻기\n",
        "db_session = get_session_context()\n",
        "\n",
        "try:\n",
        "    # ItemCreate 객체 대신 간단한 dict 사용 (실제로는 Pydantic 사용)\n",
        "    new_item_data = ItemCreate()\n",
        "    new_item_data.name = \"Laptop\"\n",
        "    new_item_data.description = \"A powerful computing device.\"\n",
        "\n",
        "    # 2. 데이터 생성 함수 호출\n",
        "    created_item = create_item(db=db_session, item_data=new_item_data)\n",
        "    print(f\"✅ 생성된 아이템 ID: {created_item.id}, 이름: {created_item.name}\")\n",
        "\n",
        "    # 3. 데이터 조회 함수 호출\n",
        "    retrieved_item = get_item_by_name(db=db_session, item_name=\"Laptop\")\n",
        "\n",
        "    if retrieved_item:\n",
        "        print(f\"🔎 조회된 아이템: ID={retrieved_item.id}, Description='{retrieved_item.description}'\")\n",
        "\n",
        "except Exception as e:\n",
        "    # 오류 발생 시 롤백 (트랜잭션 취소)\n",
        "    db_session.rollback()\n",
        "    print(f\"❌ 오류 발생: {e}\")\n",
        "\n",
        "finally:\n",
        "    # 4. 세션 닫기 (get_session_context의 finally 블록에서 처리됨)\n",
        "    # 실제 이 코드는 FastAPI의 Depends(get_db) 메커니즘이 자동으로 처리합니다.\n",
        "    db_session.close()\n",
        "\n",
        "print(\"--- DB 작업 완료 ---\")"
      ],
      "metadata": {
        "colab": {
          "base_uri": "https://localhost:8080/"
        },
        "id": "oeSqSsLLmxdd",
        "outputId": "52bc1d85-57ca-44df-f02f-d3168b2f1a4a"
      },
      "execution_count": 7,
      "outputs": [
        {
          "output_type": "stream",
          "name": "stdout",
          "text": [
            "--- DB 작업 시작 ---\n",
            "✅ 생성된 아이템 ID: 1, 이름: Laptop\n",
            "🔎 조회된 아이템: ID=1, Description='A powerful computing device.'\n",
            "--- DB 작업 완료 ---\n"
          ]
        }
      ]
    },
    {
      "cell_type": "code",
      "source": [],
      "metadata": {
        "id": "0b_Rq65pmxfq"
      },
      "execution_count": null,
      "outputs": []
    },
    {
      "cell_type": "code",
      "source": [],
      "metadata": {
        "id": "SgjuvDsymxi6"
      },
      "execution_count": null,
      "outputs": []
    },
    {
      "cell_type": "code",
      "source": [],
      "metadata": {
        "id": "18dawk5fmxlM"
      },
      "execution_count": null,
      "outputs": []
    },
    {
      "cell_type": "code",
      "source": [],
      "metadata": {
        "id": "Dnt162X0mxok"
      },
      "execution_count": null,
      "outputs": []
    },
    {
      "cell_type": "code",
      "source": [
        "from sklearn.linear_model import LogisticRegression"
      ],
      "metadata": {
        "id": "yOHIGrCRnehp"
      },
      "execution_count": null,
      "outputs": []
    },
    {
      "cell_type": "code",
      "source": [],
      "metadata": {
        "id": "xnC7mbD8nekq"
      },
      "execution_count": null,
      "outputs": []
    },
    {
      "cell_type": "code",
      "source": [],
      "metadata": {
        "id": "h1alaMLHnenp"
      },
      "execution_count": null,
      "outputs": []
    }
  ],
  "metadata": {
    "colab": {
      "provenance": [],
      "authorship_tag": "ABX9TyMdig5bOixeJZpvUwvm03u3",
      "include_colab_link": true
    },
    "kernelspec": {
      "display_name": "Python 3",
      "name": "python3"
    },
    "language_info": {
      "name": "python"
    }
  },
  "nbformat": 4,
  "nbformat_minor": 0
}