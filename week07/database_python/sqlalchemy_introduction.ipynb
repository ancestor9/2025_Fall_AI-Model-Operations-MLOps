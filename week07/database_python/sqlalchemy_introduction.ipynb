{
  "nbformat": 4,
  "nbformat_minor": 0,
  "metadata": {
    "colab": {
      "provenance": [],
      "authorship_tag": "ABX9TyNji/aGu84y0RO0k7C6bGH6",
      "include_colab_link": true
    },
    "kernelspec": {
      "name": "python3",
      "display_name": "Python 3"
    },
    "language_info": {
      "name": "python"
    }
  },
  "cells": [
    {
      "cell_type": "markdown",
      "metadata": {
        "id": "view-in-github",
        "colab_type": "text"
      },
      "source": [
        "<a href=\"https://colab.research.google.com/github/ancestor9/2025_Fall_AI-Model-Operations-MLOps/blob/main/week07/database_python/sqlalchemy_introduction.ipynb\" target=\"_parent\"><img src=\"https://colab.research.google.com/assets/colab-badge.svg\" alt=\"Open In Colab\"/></a>"
      ]
    },
    {
      "cell_type": "markdown",
      "source": [
        "# **1. sqlalchemy 소개**"
      ],
      "metadata": {
        "id": "zJhc5ACe8Wjx"
      }
    },
    {
      "cell_type": "code",
      "source": [
        "from sqlalchemy import create_engine, Column, Integer, String\n",
        "from sqlalchemy.orm import declarative_base, sessionmaker"
      ],
      "metadata": {
        "id": "WTr4dLeiaMoI"
      },
      "execution_count": null,
      "outputs": []
    },
    {
      "cell_type": "markdown",
      "source": [
        "# 1. 데이터베이스 연결 설정 및 생성 (Engine) : 도서관 건물 만들기\n",
        "- 'sqlite:///test.db'는 현재 디렉토리에 'test.db' 파일을 생성하거나 연결\n",
        "- echo=True는 SQLAlchemy가 실행하는 모든 SQL 쿼리를 터미널에 출력"
      ],
      "metadata": {
        "id": "-oIHaoTpju5e"
      }
    },
    {
      "cell_type": "code",
      "source": [
        "engine = create_engine(\"sqlite:///test.db\", echo=True)"
      ],
      "metadata": {
        "id": "chGu7ulhj7lv"
      },
      "execution_count": null,
      "outputs": []
    },
    {
      "cell_type": "markdown",
      "source": [
        "\n",
        "# 2. 모델(테이블 스키마) 정의를 위한 베이스 클래스 생성 : 책장 Template 만들기"
      ],
      "metadata": {
        "id": "rmCUmoecjv5e"
      }
    },
    {
      "cell_type": "code",
      "source": [
        "Base = declarative_base()"
      ],
      "metadata": {
        "id": "JsEbKaG1kMpv"
      },
      "execution_count": null,
      "outputs": []
    },
    {
      "cell_type": "markdown",
      "source": [
        "# 3. 테이블 모델 정의 (Table Schema) : 실제 책장 만들기"
      ],
      "metadata": {
        "id": "mcvlBneWkRB2"
      }
    },
    {
      "cell_type": "code",
      "source": [
        "class User(Base):\n",
        "    # 데이터베이스 테이블 이름 설정\n",
        "    __tablename__ = 'users'\n",
        "\n",
        "    # 컬럼 정의: primary_key=True는 기본 키를 의미하며, autoincrement=True는 자동으로 증가\n",
        "    id = Column(Integer, primary_key=True)\n",
        "    name = Column(String)\n",
        "    fullname = Column(String)\n",
        "\n",
        "    # 객체를 출력할 때 보기 쉽게 표현하는 메서드\n",
        "    def __repr__(self):\n",
        "        return f\"User(id={self.id!r}, name={self.name!r}, fullname={self.fullname!r})\""
      ],
      "metadata": {
        "id": "tC7TYiNakNcw"
      },
      "execution_count": null,
      "outputs": []
    },
    {
      "cell_type": "markdown",
      "source": [
        "# 4. 데이터베이스 테이블 생성 (DDL) :\n",
        "- Base에 정의된 모든 모델(테이블)을 데이터베이스에 생성"
      ],
      "metadata": {
        "id": "qvOkC4wrj05g"
      }
    },
    {
      "cell_type": "code",
      "source": [
        "Base.metadata.create_all(engine)\n"
      ],
      "metadata": {
        "colab": {
          "base_uri": "https://localhost:8080/"
        },
        "id": "t8txbp0rkZuu",
        "outputId": "dcf8f021-a4d1-446f-d4e8-354228069e7a"
      },
      "execution_count": null,
      "outputs": [
        {
          "output_type": "stream",
          "name": "stdout",
          "text": [
            "2025-10-20 09:26:10,723 INFO sqlalchemy.engine.Engine BEGIN (implicit)\n"
          ]
        },
        {
          "output_type": "stream",
          "name": "stderr",
          "text": [
            "INFO:sqlalchemy.engine.Engine:BEGIN (implicit)\n"
          ]
        },
        {
          "output_type": "stream",
          "name": "stdout",
          "text": [
            "2025-10-20 09:26:10,725 INFO sqlalchemy.engine.Engine PRAGMA main.table_info(\"users\")\n"
          ]
        },
        {
          "output_type": "stream",
          "name": "stderr",
          "text": [
            "INFO:sqlalchemy.engine.Engine:PRAGMA main.table_info(\"users\")\n"
          ]
        },
        {
          "output_type": "stream",
          "name": "stdout",
          "text": [
            "2025-10-20 09:26:10,726 INFO sqlalchemy.engine.Engine [raw sql] ()\n"
          ]
        },
        {
          "output_type": "stream",
          "name": "stderr",
          "text": [
            "INFO:sqlalchemy.engine.Engine:[raw sql] ()\n"
          ]
        },
        {
          "output_type": "stream",
          "name": "stdout",
          "text": [
            "2025-10-20 09:26:10,728 INFO sqlalchemy.engine.Engine COMMIT\n"
          ]
        },
        {
          "output_type": "stream",
          "name": "stderr",
          "text": [
            "INFO:sqlalchemy.engine.Engine:COMMIT\n"
          ]
        }
      ]
    },
    {
      "cell_type": "markdown",
      "source": [
        "# 5. 세션 생성 (Session) : DB 접속 입장 티켓 발급\n",
        "- sessionmaker는 세션을 생성할 때 필요한 설정(예: 어떤 데이터베이스 엔진(engine)을 사용할지, 트랜잭션 옵션은 무엇인지 등)을 미리 정의하고 저장"
      ],
      "metadata": {
        "id": "c6_S1RstkeRW"
      }
    },
    {
      "cell_type": "code",
      "source": [
        "Session = sessionmaker(bind=engine)"
      ],
      "metadata": {
        "id": "LAmrwJ_OkfDW"
      },
      "execution_count": null,
      "outputs": []
    },
    {
      "cell_type": "markdown",
      "source": [
        "#### 데이터베이스와의 모든 상호작용은 세션 객체(Object)를 통해 이루어짐\n",
        "#### 세션 팩토리(Session)를 호출하여 **실제 데이터베이스 연결을 위한 세션 객체(session)**를 생성\n",
        "#### 이 session 객체가 바로 데이터베이스에 쿼리를 보내고, 데이터를 추가/수정/삭제하며, 트랜잭션을 관리하는 'DB 접속 입장 티켓' 역할"
      ],
      "metadata": {
        "id": "RzUF84MBkf6d"
      }
    },
    {
      "cell_type": "code",
      "source": [
        "session = Session()"
      ],
      "metadata": {
        "id": "pOZiip21kgju"
      },
      "execution_count": null,
      "outputs": []
    },
    {
      "cell_type": "markdown",
      "source": [
        "# -------------------------------------------------------------\n",
        "# CRUD (Create, Read, Update, Delete) 작업 시작\n",
        "# -------------------------------------------------------------\n"
      ],
      "metadata": {
        "id": "bMQDWBn3j3Eu"
      }
    },
    {
      "cell_type": "code",
      "source": [
        "# C (Create) - 데이터 생성 및 삽입\n",
        "# -----------------------------------------\n",
        "print(\"\\n--- [C]reate: 새 사용자 추가 ---\")\n",
        "# User 객체(행) 생성\n",
        "user1 = User(name='spongebob', fullname='Spongebob Squarepants')\n",
        "user2 = User(name='patrick', fullname='Patrick Star')\n",
        "\n",
        "# 세션에 객체 추가 (이 시점에서는 데이터베이스에 반영되지 않음)\n",
        "session.add(user1)\n",
        "session.add(user2)\n",
        "\n",
        "# 세션의 변경 사항을 데이터베이스에 커밋(반영)\n",
        "session.commit()\n",
        "print(f\"추가된 사용자 1: {user1}\")\n",
        "print(f\"추가된 사용자 2: {user2}\")\n",
        "\n",
        "# R (Read) - 데이터 읽기 (조회)\n",
        "# -----------------------------------------\n",
        "print(\"\\n--- [R]ead: 모든 사용자 조회 ---\")\n",
        "# User 테이블의 모든 행(객체)을 조회\n",
        "for user in session.query(User).all():\n",
        "    print(user)\n",
        "\n",
        "print(\"\\n--- [R]ead: 특정 사용자 (ID 1) 조회 ---\")\n",
        "# 기본 키를 사용하여 특정 행(객체) 조회\n",
        "user_to_read = session.query(User).get(1)\n",
        "if user_to_read:\n",
        "    print(user_to_read)\n",
        "\n",
        "# U (Update) - 데이터 수정\n",
        "# -----------------------------------------\n",
        "print(\"\\n--- [U]pdate: 사용자 이름 수정 ---\")\n",
        "# 조회된 객체의 속성을 수정\n",
        "if user_to_read:\n",
        "    user_to_read.fullname = 'S. Squarepants'\n",
        "    print(f\"수정 후 (커밋 전): {user_to_read}\")\n",
        "\n",
        "    # 변경 사항 커밋\n",
        "    session.commit()\n",
        "    print(\"수정 사항 커밋 완료.\")\n",
        "\n",
        "# D (Delete) - 데이터 삭제\n",
        "# -----------------------------------------\n",
        "print(\"\\n--- [D]elete: 사용자 (ID 2) 삭제 ---\")\n",
        "# ID가 2인 사용자 조회\n",
        "user_to_delete = session.query(User).filter_by(name='patrick').first()\n",
        "\n",
        "if user_to_delete:\n",
        "    # 세션에서 객체 삭제\n",
        "    session.delete(user_to_delete)\n",
        "    print(f\"삭제할 사용자: {user_to_delete}\")\n",
        "\n",
        "    # 변경 사항 커밋\n",
        "    session.commit()\n",
        "    print(\"삭제 사항 커밋 완료.\")\n",
        "\n",
        "# R (Read) - 최종 확인\n",
        "print(\"\\n--- [R]ead: 삭제 후 남은 사용자 확인 ---\")\n",
        "for user in session.query(User).all():\n",
        "    print(user)\n"
      ],
      "metadata": {
        "colab": {
          "base_uri": "https://localhost:8080/"
        },
        "id": "WuXPp_GMk05V",
        "outputId": "33852423-d103-46cd-9e47-166f22ce6304"
      },
      "execution_count": null,
      "outputs": [
        {
          "output_type": "stream",
          "name": "stdout",
          "text": [
            "\n",
            "--- [C]reate: 새 사용자 추가 ---\n",
            "2025-10-20 09:26:12,722 INFO sqlalchemy.engine.Engine BEGIN (implicit)\n"
          ]
        },
        {
          "output_type": "stream",
          "name": "stderr",
          "text": [
            "INFO:sqlalchemy.engine.Engine:BEGIN (implicit)\n"
          ]
        },
        {
          "output_type": "stream",
          "name": "stdout",
          "text": [
            "2025-10-20 09:26:12,725 INFO sqlalchemy.engine.Engine INSERT INTO users (name, fullname) VALUES (?, ?) RETURNING id\n"
          ]
        },
        {
          "output_type": "stream",
          "name": "stderr",
          "text": [
            "INFO:sqlalchemy.engine.Engine:INSERT INTO users (name, fullname) VALUES (?, ?) RETURNING id\n"
          ]
        },
        {
          "output_type": "stream",
          "name": "stdout",
          "text": [
            "2025-10-20 09:26:12,733 INFO sqlalchemy.engine.Engine [generated in 0.00017s (insertmanyvalues) 1/2 (ordered; batch not supported)] ('spongebob', 'Spongebob Squarepants')\n"
          ]
        },
        {
          "output_type": "stream",
          "name": "stderr",
          "text": [
            "INFO:sqlalchemy.engine.Engine:[generated in 0.00017s (insertmanyvalues) 1/2 (ordered; batch not supported)] ('spongebob', 'Spongebob Squarepants')\n"
          ]
        },
        {
          "output_type": "stream",
          "name": "stdout",
          "text": [
            "2025-10-20 09:26:12,736 INFO sqlalchemy.engine.Engine INSERT INTO users (name, fullname) VALUES (?, ?) RETURNING id\n"
          ]
        },
        {
          "output_type": "stream",
          "name": "stderr",
          "text": [
            "INFO:sqlalchemy.engine.Engine:INSERT INTO users (name, fullname) VALUES (?, ?) RETURNING id\n"
          ]
        },
        {
          "output_type": "stream",
          "name": "stdout",
          "text": [
            "2025-10-20 09:26:12,744 INFO sqlalchemy.engine.Engine [insertmanyvalues 2/2 (ordered; batch not supported)] ('patrick', 'Patrick Star')\n"
          ]
        },
        {
          "output_type": "stream",
          "name": "stderr",
          "text": [
            "INFO:sqlalchemy.engine.Engine:[insertmanyvalues 2/2 (ordered; batch not supported)] ('patrick', 'Patrick Star')\n"
          ]
        },
        {
          "output_type": "stream",
          "name": "stdout",
          "text": [
            "2025-10-20 09:26:12,749 INFO sqlalchemy.engine.Engine COMMIT\n"
          ]
        },
        {
          "output_type": "stream",
          "name": "stderr",
          "text": [
            "INFO:sqlalchemy.engine.Engine:COMMIT\n"
          ]
        },
        {
          "output_type": "stream",
          "name": "stdout",
          "text": [
            "2025-10-20 09:26:12,779 INFO sqlalchemy.engine.Engine BEGIN (implicit)\n"
          ]
        },
        {
          "output_type": "stream",
          "name": "stderr",
          "text": [
            "INFO:sqlalchemy.engine.Engine:BEGIN (implicit)\n"
          ]
        },
        {
          "output_type": "stream",
          "name": "stdout",
          "text": [
            "2025-10-20 09:26:12,786 INFO sqlalchemy.engine.Engine SELECT users.id AS users_id, users.name AS users_name, users.fullname AS users_fullname \n",
            "FROM users \n",
            "WHERE users.id = ?\n"
          ]
        },
        {
          "output_type": "stream",
          "name": "stderr",
          "text": [
            "INFO:sqlalchemy.engine.Engine:SELECT users.id AS users_id, users.name AS users_name, users.fullname AS users_fullname \n",
            "FROM users \n",
            "WHERE users.id = ?\n"
          ]
        },
        {
          "output_type": "stream",
          "name": "stdout",
          "text": [
            "2025-10-20 09:26:12,788 INFO sqlalchemy.engine.Engine [generated in 0.00195s] (5,)\n"
          ]
        },
        {
          "output_type": "stream",
          "name": "stderr",
          "text": [
            "INFO:sqlalchemy.engine.Engine:[generated in 0.00195s] (5,)\n"
          ]
        },
        {
          "output_type": "stream",
          "name": "stdout",
          "text": [
            "추가된 사용자 1: User(id=5, name='spongebob', fullname='Spongebob Squarepants')\n",
            "2025-10-20 09:26:12,791 INFO sqlalchemy.engine.Engine SELECT users.id AS users_id, users.name AS users_name, users.fullname AS users_fullname \n",
            "FROM users \n",
            "WHERE users.id = ?\n"
          ]
        },
        {
          "output_type": "stream",
          "name": "stderr",
          "text": [
            "INFO:sqlalchemy.engine.Engine:SELECT users.id AS users_id, users.name AS users_name, users.fullname AS users_fullname \n",
            "FROM users \n",
            "WHERE users.id = ?\n"
          ]
        },
        {
          "output_type": "stream",
          "name": "stdout",
          "text": [
            "2025-10-20 09:26:12,794 INFO sqlalchemy.engine.Engine [cached since 0.007904s ago] (6,)\n"
          ]
        },
        {
          "output_type": "stream",
          "name": "stderr",
          "text": [
            "INFO:sqlalchemy.engine.Engine:[cached since 0.007904s ago] (6,)\n"
          ]
        },
        {
          "output_type": "stream",
          "name": "stdout",
          "text": [
            "추가된 사용자 2: User(id=6, name='patrick', fullname='Patrick Star')\n",
            "\n",
            "--- [R]ead: 모든 사용자 조회 ---\n",
            "2025-10-20 09:26:12,797 INFO sqlalchemy.engine.Engine SELECT users.id AS users_id, users.name AS users_name, users.fullname AS users_fullname \n",
            "FROM users\n"
          ]
        },
        {
          "output_type": "stream",
          "name": "stderr",
          "text": [
            "INFO:sqlalchemy.engine.Engine:SELECT users.id AS users_id, users.name AS users_name, users.fullname AS users_fullname \n",
            "FROM users\n"
          ]
        },
        {
          "output_type": "stream",
          "name": "stdout",
          "text": [
            "2025-10-20 09:26:12,799 INFO sqlalchemy.engine.Engine [generated in 0.00204s] ()\n"
          ]
        },
        {
          "output_type": "stream",
          "name": "stderr",
          "text": [
            "INFO:sqlalchemy.engine.Engine:[generated in 0.00204s] ()\n"
          ]
        },
        {
          "output_type": "stream",
          "name": "stdout",
          "text": [
            "User(id=1, name='spongebob', fullname='S. Squarepants')\n",
            "User(id=2, name='spongebob', fullname='Spongebob Squarepants')\n",
            "User(id=3, name='spongebob', fullname='Spongebob Squarepants')\n",
            "User(id=4, name='spongebob', fullname='Spongebob Squarepants')\n",
            "User(id=5, name='spongebob', fullname='Spongebob Squarepants')\n",
            "User(id=6, name='patrick', fullname='Patrick Star')\n",
            "\n",
            "--- [R]ead: 특정 사용자 (ID 1) 조회 ---\n",
            "2025-10-20 09:26:12,803 INFO sqlalchemy.engine.Engine SELECT users.id AS users_id, users.name AS users_name, users.fullname AS users_fullname \n",
            "FROM users \n",
            "WHERE users.id = ?\n"
          ]
        },
        {
          "output_type": "stream",
          "name": "stderr",
          "text": [
            "/tmp/ipython-input-3703735321.py:26: LegacyAPIWarning: The Query.get() method is considered legacy as of the 1.x series of SQLAlchemy and becomes a legacy construct in 2.0. The method is now available as Session.get() (deprecated since: 2.0) (Background on SQLAlchemy 2.0 at: https://sqlalche.me/e/b8d9)\n",
            "  user_to_read = session.query(User).get(1)\n",
            "INFO:sqlalchemy.engine.Engine:SELECT users.id AS users_id, users.name AS users_name, users.fullname AS users_fullname \n",
            "FROM users \n",
            "WHERE users.id = ?\n"
          ]
        },
        {
          "output_type": "stream",
          "name": "stdout",
          "text": [
            "2025-10-20 09:26:12,805 INFO sqlalchemy.engine.Engine [generated in 0.00193s] (1,)\n"
          ]
        },
        {
          "output_type": "stream",
          "name": "stderr",
          "text": [
            "INFO:sqlalchemy.engine.Engine:[generated in 0.00193s] (1,)\n"
          ]
        },
        {
          "output_type": "stream",
          "name": "stdout",
          "text": [
            "User(id=1, name='spongebob', fullname='S. Squarepants')\n",
            "\n",
            "--- [U]pdate: 사용자 이름 수정 ---\n",
            "수정 후 (커밋 전): User(id=1, name='spongebob', fullname='S. Squarepants')\n",
            "2025-10-20 09:26:12,809 INFO sqlalchemy.engine.Engine COMMIT\n"
          ]
        },
        {
          "output_type": "stream",
          "name": "stderr",
          "text": [
            "INFO:sqlalchemy.engine.Engine:COMMIT\n"
          ]
        },
        {
          "output_type": "stream",
          "name": "stdout",
          "text": [
            "수정 사항 커밋 완료.\n",
            "\n",
            "--- [D]elete: 사용자 (ID 2) 삭제 ---\n",
            "2025-10-20 09:26:12,812 INFO sqlalchemy.engine.Engine BEGIN (implicit)\n"
          ]
        },
        {
          "output_type": "stream",
          "name": "stderr",
          "text": [
            "INFO:sqlalchemy.engine.Engine:BEGIN (implicit)\n"
          ]
        },
        {
          "output_type": "stream",
          "name": "stdout",
          "text": [
            "2025-10-20 09:26:12,818 INFO sqlalchemy.engine.Engine SELECT users.id AS users_id, users.name AS users_name, users.fullname AS users_fullname \n",
            "FROM users \n",
            "WHERE users.name = ?\n",
            " LIMIT ? OFFSET ?\n"
          ]
        },
        {
          "output_type": "stream",
          "name": "stderr",
          "text": [
            "INFO:sqlalchemy.engine.Engine:SELECT users.id AS users_id, users.name AS users_name, users.fullname AS users_fullname \n",
            "FROM users \n",
            "WHERE users.name = ?\n",
            " LIMIT ? OFFSET ?\n"
          ]
        },
        {
          "output_type": "stream",
          "name": "stdout",
          "text": [
            "2025-10-20 09:26:12,826 INFO sqlalchemy.engine.Engine [generated in 0.00797s] ('patrick', 1, 0)\n"
          ]
        },
        {
          "output_type": "stream",
          "name": "stderr",
          "text": [
            "INFO:sqlalchemy.engine.Engine:[generated in 0.00797s] ('patrick', 1, 0)\n"
          ]
        },
        {
          "output_type": "stream",
          "name": "stdout",
          "text": [
            "삭제할 사용자: User(id=6, name='patrick', fullname='Patrick Star')\n",
            "2025-10-20 09:26:12,842 INFO sqlalchemy.engine.Engine DELETE FROM users WHERE users.id = ?\n"
          ]
        },
        {
          "output_type": "stream",
          "name": "stderr",
          "text": [
            "INFO:sqlalchemy.engine.Engine:DELETE FROM users WHERE users.id = ?\n"
          ]
        },
        {
          "output_type": "stream",
          "name": "stdout",
          "text": [
            "2025-10-20 09:26:12,853 INFO sqlalchemy.engine.Engine [generated in 0.01118s] (6,)\n"
          ]
        },
        {
          "output_type": "stream",
          "name": "stderr",
          "text": [
            "INFO:sqlalchemy.engine.Engine:[generated in 0.01118s] (6,)\n"
          ]
        },
        {
          "output_type": "stream",
          "name": "stdout",
          "text": [
            "2025-10-20 09:26:12,860 INFO sqlalchemy.engine.Engine COMMIT\n"
          ]
        },
        {
          "output_type": "stream",
          "name": "stderr",
          "text": [
            "INFO:sqlalchemy.engine.Engine:COMMIT\n"
          ]
        },
        {
          "output_type": "stream",
          "name": "stdout",
          "text": [
            "삭제 사항 커밋 완료.\n",
            "\n",
            "--- [R]ead: 삭제 후 남은 사용자 확인 ---\n",
            "2025-10-20 09:26:12,876 INFO sqlalchemy.engine.Engine BEGIN (implicit)\n"
          ]
        },
        {
          "output_type": "stream",
          "name": "stderr",
          "text": [
            "INFO:sqlalchemy.engine.Engine:BEGIN (implicit)\n"
          ]
        },
        {
          "output_type": "stream",
          "name": "stdout",
          "text": [
            "2025-10-20 09:26:12,879 INFO sqlalchemy.engine.Engine SELECT users.id AS users_id, users.name AS users_name, users.fullname AS users_fullname \n",
            "FROM users\n"
          ]
        },
        {
          "output_type": "stream",
          "name": "stderr",
          "text": [
            "INFO:sqlalchemy.engine.Engine:SELECT users.id AS users_id, users.name AS users_name, users.fullname AS users_fullname \n",
            "FROM users\n"
          ]
        },
        {
          "output_type": "stream",
          "name": "stdout",
          "text": [
            "2025-10-20 09:26:12,883 INFO sqlalchemy.engine.Engine [cached since 0.08642s ago] ()\n"
          ]
        },
        {
          "output_type": "stream",
          "name": "stderr",
          "text": [
            "INFO:sqlalchemy.engine.Engine:[cached since 0.08642s ago] ()\n"
          ]
        },
        {
          "output_type": "stream",
          "name": "stdout",
          "text": [
            "User(id=1, name='spongebob', fullname='S. Squarepants')\n",
            "User(id=2, name='spongebob', fullname='Spongebob Squarepants')\n",
            "User(id=3, name='spongebob', fullname='Spongebob Squarepants')\n",
            "User(id=4, name='spongebob', fullname='Spongebob Squarepants')\n",
            "User(id=5, name='spongebob', fullname='Spongebob Squarepants')\n"
          ]
        }
      ]
    },
    {
      "cell_type": "markdown",
      "source": [
        "# 세션 닫기"
      ],
      "metadata": {
        "id": "-LaU0awMk6nm"
      }
    },
    {
      "cell_type": "code",
      "source": [
        "session.close()\n",
        "# test.db 파일이 생성되었으며, 실행 후에도 유지"
      ],
      "metadata": {
        "colab": {
          "base_uri": "https://localhost:8080/"
        },
        "id": "mUoxx7Vnk7l3",
        "outputId": "436fede2-1a4d-490e-8df1-bee35b51e814"
      },
      "execution_count": null,
      "outputs": [
        {
          "output_type": "stream",
          "name": "stdout",
          "text": [
            "2025-10-20 09:26:14,487 INFO sqlalchemy.engine.Engine ROLLBACK\n"
          ]
        },
        {
          "output_type": "stream",
          "name": "stderr",
          "text": [
            "INFO:sqlalchemy.engine.Engine:ROLLBACK\n"
          ]
        }
      ]
    },
    {
      "cell_type": "markdown",
      "source": [
        "# **2. DB 테이블을 데이터프레임으로**\n",
        "- with statement 구문 사용"
      ],
      "metadata": {
        "id": "DTNnWUWGlxQE"
      }
    },
    {
      "cell_type": "code",
      "source": [
        "import pandas as pd\n",
        "from sqlalchemy import create_engine, text\n",
        "\n",
        "# Database connection URL (assuming test.db is in the /content directory)\n",
        "db_url = \"sqlite:////content/test.db\"\n",
        "engine = create_engine(db_url)\n",
        "\n",
        "# SQL query to select all data from the \"users\" table\n",
        "query = \"SELECT * FROM users\"\n",
        "\n",
        "\n",
        "cursor = engine.connect()\n",
        "\n",
        "df = pd.read_sql(text(query), cursor)\n",
        "df"
      ],
      "metadata": {
        "colab": {
          "base_uri": "https://localhost:8080/",
          "height": 175
        },
        "id": "CV9dvA36aM8w",
        "outputId": "1a69e5bc-a2a5-4ef9-c8ab-47f4a67a8adc"
      },
      "execution_count": null,
      "outputs": [
        {
          "output_type": "execute_result",
          "data": {
            "text/plain": [
              "   id       name               fullname\n",
              "0   1  spongebob         S. Squarepants\n",
              "1   2  spongebob  Spongebob Squarepants\n",
              "2   3  spongebob  Spongebob Squarepants\n",
              "3   4  spongebob  Spongebob Squarepants"
            ],
            "text/html": [
              "\n",
              "  <div id=\"df-cb037245-e729-4570-8418-896904e0d8e6\" class=\"colab-df-container\">\n",
              "    <div>\n",
              "<style scoped>\n",
              "    .dataframe tbody tr th:only-of-type {\n",
              "        vertical-align: middle;\n",
              "    }\n",
              "\n",
              "    .dataframe tbody tr th {\n",
              "        vertical-align: top;\n",
              "    }\n",
              "\n",
              "    .dataframe thead th {\n",
              "        text-align: right;\n",
              "    }\n",
              "</style>\n",
              "<table border=\"1\" class=\"dataframe\">\n",
              "  <thead>\n",
              "    <tr style=\"text-align: right;\">\n",
              "      <th></th>\n",
              "      <th>id</th>\n",
              "      <th>name</th>\n",
              "      <th>fullname</th>\n",
              "    </tr>\n",
              "  </thead>\n",
              "  <tbody>\n",
              "    <tr>\n",
              "      <th>0</th>\n",
              "      <td>1</td>\n",
              "      <td>spongebob</td>\n",
              "      <td>S. Squarepants</td>\n",
              "    </tr>\n",
              "    <tr>\n",
              "      <th>1</th>\n",
              "      <td>2</td>\n",
              "      <td>spongebob</td>\n",
              "      <td>Spongebob Squarepants</td>\n",
              "    </tr>\n",
              "    <tr>\n",
              "      <th>2</th>\n",
              "      <td>3</td>\n",
              "      <td>spongebob</td>\n",
              "      <td>Spongebob Squarepants</td>\n",
              "    </tr>\n",
              "    <tr>\n",
              "      <th>3</th>\n",
              "      <td>4</td>\n",
              "      <td>spongebob</td>\n",
              "      <td>Spongebob Squarepants</td>\n",
              "    </tr>\n",
              "  </tbody>\n",
              "</table>\n",
              "</div>\n",
              "    <div class=\"colab-df-buttons\">\n",
              "\n",
              "  <div class=\"colab-df-container\">\n",
              "    <button class=\"colab-df-convert\" onclick=\"convertToInteractive('df-cb037245-e729-4570-8418-896904e0d8e6')\"\n",
              "            title=\"Convert this dataframe to an interactive table.\"\n",
              "            style=\"display:none;\">\n",
              "\n",
              "  <svg xmlns=\"http://www.w3.org/2000/svg\" height=\"24px\" viewBox=\"0 -960 960 960\">\n",
              "    <path d=\"M120-120v-720h720v720H120Zm60-500h600v-160H180v160Zm220 220h160v-160H400v160Zm0 220h160v-160H400v160ZM180-400h160v-160H180v160Zm440 0h160v-160H620v160ZM180-180h160v-160H180v160Zm440 0h160v-160H620v160Z\"/>\n",
              "  </svg>\n",
              "    </button>\n",
              "\n",
              "  <style>\n",
              "    .colab-df-container {\n",
              "      display:flex;\n",
              "      gap: 12px;\n",
              "    }\n",
              "\n",
              "    .colab-df-convert {\n",
              "      background-color: #E8F0FE;\n",
              "      border: none;\n",
              "      border-radius: 50%;\n",
              "      cursor: pointer;\n",
              "      display: none;\n",
              "      fill: #1967D2;\n",
              "      height: 32px;\n",
              "      padding: 0 0 0 0;\n",
              "      width: 32px;\n",
              "    }\n",
              "\n",
              "    .colab-df-convert:hover {\n",
              "      background-color: #E2EBFA;\n",
              "      box-shadow: 0px 1px 2px rgba(60, 64, 67, 0.3), 0px 1px 3px 1px rgba(60, 64, 67, 0.15);\n",
              "      fill: #174EA6;\n",
              "    }\n",
              "\n",
              "    .colab-df-buttons div {\n",
              "      margin-bottom: 4px;\n",
              "    }\n",
              "\n",
              "    [theme=dark] .colab-df-convert {\n",
              "      background-color: #3B4455;\n",
              "      fill: #D2E3FC;\n",
              "    }\n",
              "\n",
              "    [theme=dark] .colab-df-convert:hover {\n",
              "      background-color: #434B5C;\n",
              "      box-shadow: 0px 1px 3px 1px rgba(0, 0, 0, 0.15);\n",
              "      filter: drop-shadow(0px 1px 2px rgba(0, 0, 0, 0.3));\n",
              "      fill: #FFFFFF;\n",
              "    }\n",
              "  </style>\n",
              "\n",
              "    <script>\n",
              "      const buttonEl =\n",
              "        document.querySelector('#df-cb037245-e729-4570-8418-896904e0d8e6 button.colab-df-convert');\n",
              "      buttonEl.style.display =\n",
              "        google.colab.kernel.accessAllowed ? 'block' : 'none';\n",
              "\n",
              "      async function convertToInteractive(key) {\n",
              "        const element = document.querySelector('#df-cb037245-e729-4570-8418-896904e0d8e6');\n",
              "        const dataTable =\n",
              "          await google.colab.kernel.invokeFunction('convertToInteractive',\n",
              "                                                    [key], {});\n",
              "        if (!dataTable) return;\n",
              "\n",
              "        const docLinkHtml = 'Like what you see? Visit the ' +\n",
              "          '<a target=\"_blank\" href=https://colab.research.google.com/notebooks/data_table.ipynb>data table notebook</a>'\n",
              "          + ' to learn more about interactive tables.';\n",
              "        element.innerHTML = '';\n",
              "        dataTable['output_type'] = 'display_data';\n",
              "        await google.colab.output.renderOutput(dataTable, element);\n",
              "        const docLink = document.createElement('div');\n",
              "        docLink.innerHTML = docLinkHtml;\n",
              "        element.appendChild(docLink);\n",
              "      }\n",
              "    </script>\n",
              "  </div>\n",
              "\n",
              "\n",
              "    <div id=\"df-b13020a9-8245-45ab-86f5-2b5750981e4e\">\n",
              "      <button class=\"colab-df-quickchart\" onclick=\"quickchart('df-b13020a9-8245-45ab-86f5-2b5750981e4e')\"\n",
              "                title=\"Suggest charts\"\n",
              "                style=\"display:none;\">\n",
              "\n",
              "<svg xmlns=\"http://www.w3.org/2000/svg\" height=\"24px\"viewBox=\"0 0 24 24\"\n",
              "     width=\"24px\">\n",
              "    <g>\n",
              "        <path d=\"M19 3H5c-1.1 0-2 .9-2 2v14c0 1.1.9 2 2 2h14c1.1 0 2-.9 2-2V5c0-1.1-.9-2-2-2zM9 17H7v-7h2v7zm4 0h-2V7h2v10zm4 0h-2v-4h2v4z\"/>\n",
              "    </g>\n",
              "</svg>\n",
              "      </button>\n",
              "\n",
              "<style>\n",
              "  .colab-df-quickchart {\n",
              "      --bg-color: #E8F0FE;\n",
              "      --fill-color: #1967D2;\n",
              "      --hover-bg-color: #E2EBFA;\n",
              "      --hover-fill-color: #174EA6;\n",
              "      --disabled-fill-color: #AAA;\n",
              "      --disabled-bg-color: #DDD;\n",
              "  }\n",
              "\n",
              "  [theme=dark] .colab-df-quickchart {\n",
              "      --bg-color: #3B4455;\n",
              "      --fill-color: #D2E3FC;\n",
              "      --hover-bg-color: #434B5C;\n",
              "      --hover-fill-color: #FFFFFF;\n",
              "      --disabled-bg-color: #3B4455;\n",
              "      --disabled-fill-color: #666;\n",
              "  }\n",
              "\n",
              "  .colab-df-quickchart {\n",
              "    background-color: var(--bg-color);\n",
              "    border: none;\n",
              "    border-radius: 50%;\n",
              "    cursor: pointer;\n",
              "    display: none;\n",
              "    fill: var(--fill-color);\n",
              "    height: 32px;\n",
              "    padding: 0;\n",
              "    width: 32px;\n",
              "  }\n",
              "\n",
              "  .colab-df-quickchart:hover {\n",
              "    background-color: var(--hover-bg-color);\n",
              "    box-shadow: 0 1px 2px rgba(60, 64, 67, 0.3), 0 1px 3px 1px rgba(60, 64, 67, 0.15);\n",
              "    fill: var(--button-hover-fill-color);\n",
              "  }\n",
              "\n",
              "  .colab-df-quickchart-complete:disabled,\n",
              "  .colab-df-quickchart-complete:disabled:hover {\n",
              "    background-color: var(--disabled-bg-color);\n",
              "    fill: var(--disabled-fill-color);\n",
              "    box-shadow: none;\n",
              "  }\n",
              "\n",
              "  .colab-df-spinner {\n",
              "    border: 2px solid var(--fill-color);\n",
              "    border-color: transparent;\n",
              "    border-bottom-color: var(--fill-color);\n",
              "    animation:\n",
              "      spin 1s steps(1) infinite;\n",
              "  }\n",
              "\n",
              "  @keyframes spin {\n",
              "    0% {\n",
              "      border-color: transparent;\n",
              "      border-bottom-color: var(--fill-color);\n",
              "      border-left-color: var(--fill-color);\n",
              "    }\n",
              "    20% {\n",
              "      border-color: transparent;\n",
              "      border-left-color: var(--fill-color);\n",
              "      border-top-color: var(--fill-color);\n",
              "    }\n",
              "    30% {\n",
              "      border-color: transparent;\n",
              "      border-left-color: var(--fill-color);\n",
              "      border-top-color: var(--fill-color);\n",
              "      border-right-color: var(--fill-color);\n",
              "    }\n",
              "    40% {\n",
              "      border-color: transparent;\n",
              "      border-right-color: var(--fill-color);\n",
              "      border-top-color: var(--fill-color);\n",
              "    }\n",
              "    60% {\n",
              "      border-color: transparent;\n",
              "      border-right-color: var(--fill-color);\n",
              "    }\n",
              "    80% {\n",
              "      border-color: transparent;\n",
              "      border-right-color: var(--fill-color);\n",
              "      border-bottom-color: var(--fill-color);\n",
              "    }\n",
              "    90% {\n",
              "      border-color: transparent;\n",
              "      border-bottom-color: var(--fill-color);\n",
              "    }\n",
              "  }\n",
              "</style>\n",
              "\n",
              "      <script>\n",
              "        async function quickchart(key) {\n",
              "          const quickchartButtonEl =\n",
              "            document.querySelector('#' + key + ' button');\n",
              "          quickchartButtonEl.disabled = true;  // To prevent multiple clicks.\n",
              "          quickchartButtonEl.classList.add('colab-df-spinner');\n",
              "          try {\n",
              "            const charts = await google.colab.kernel.invokeFunction(\n",
              "                'suggestCharts', [key], {});\n",
              "          } catch (error) {\n",
              "            console.error('Error during call to suggestCharts:', error);\n",
              "          }\n",
              "          quickchartButtonEl.classList.remove('colab-df-spinner');\n",
              "          quickchartButtonEl.classList.add('colab-df-quickchart-complete');\n",
              "        }\n",
              "        (() => {\n",
              "          let quickchartButtonEl =\n",
              "            document.querySelector('#df-b13020a9-8245-45ab-86f5-2b5750981e4e button');\n",
              "          quickchartButtonEl.style.display =\n",
              "            google.colab.kernel.accessAllowed ? 'block' : 'none';\n",
              "        })();\n",
              "      </script>\n",
              "    </div>\n",
              "\n",
              "  <div id=\"id_ed9f6105-8d0c-44f9-ac8b-4e85c3182f50\">\n",
              "    <style>\n",
              "      .colab-df-generate {\n",
              "        background-color: #E8F0FE;\n",
              "        border: none;\n",
              "        border-radius: 50%;\n",
              "        cursor: pointer;\n",
              "        display: none;\n",
              "        fill: #1967D2;\n",
              "        height: 32px;\n",
              "        padding: 0 0 0 0;\n",
              "        width: 32px;\n",
              "      }\n",
              "\n",
              "      .colab-df-generate:hover {\n",
              "        background-color: #E2EBFA;\n",
              "        box-shadow: 0px 1px 2px rgba(60, 64, 67, 0.3), 0px 1px 3px 1px rgba(60, 64, 67, 0.15);\n",
              "        fill: #174EA6;\n",
              "      }\n",
              "\n",
              "      [theme=dark] .colab-df-generate {\n",
              "        background-color: #3B4455;\n",
              "        fill: #D2E3FC;\n",
              "      }\n",
              "\n",
              "      [theme=dark] .colab-df-generate:hover {\n",
              "        background-color: #434B5C;\n",
              "        box-shadow: 0px 1px 3px 1px rgba(0, 0, 0, 0.15);\n",
              "        filter: drop-shadow(0px 1px 2px rgba(0, 0, 0, 0.3));\n",
              "        fill: #FFFFFF;\n",
              "      }\n",
              "    </style>\n",
              "    <button class=\"colab-df-generate\" onclick=\"generateWithVariable('df')\"\n",
              "            title=\"Generate code using this dataframe.\"\n",
              "            style=\"display:none;\">\n",
              "\n",
              "  <svg xmlns=\"http://www.w3.org/2000/svg\" height=\"24px\"viewBox=\"0 0 24 24\"\n",
              "       width=\"24px\">\n",
              "    <path d=\"M7,19H8.4L18.45,9,17,7.55,7,17.6ZM5,21V16.75L18.45,3.32a2,2,0,0,1,2.83,0l1.4,1.43a1.91,1.91,0,0,1,.58,1.4,1.91,1.91,0,0,1-.58,1.4L9.25,21ZM18.45,9,17,7.55Zm-12,3A5.31,5.31,0,0,0,4.9,8.1,5.31,5.31,0,0,0,1,6.5,5.31,5.31,0,0,0,4.9,4.9,5.31,5.31,0,0,0,6.5,1,5.31,5.31,0,0,0,8.1,4.9,5.31,5.31,0,0,0,12,6.5,5.46,5.46,0,0,0,6.5,12Z\"/>\n",
              "  </svg>\n",
              "    </button>\n",
              "    <script>\n",
              "      (() => {\n",
              "      const buttonEl =\n",
              "        document.querySelector('#id_ed9f6105-8d0c-44f9-ac8b-4e85c3182f50 button.colab-df-generate');\n",
              "      buttonEl.style.display =\n",
              "        google.colab.kernel.accessAllowed ? 'block' : 'none';\n",
              "\n",
              "      buttonEl.onclick = () => {\n",
              "        google.colab.notebook.generateWithVariable('df');\n",
              "      }\n",
              "      })();\n",
              "    </script>\n",
              "  </div>\n",
              "\n",
              "    </div>\n",
              "  </div>\n"
            ],
            "application/vnd.google.colaboratory.intrinsic+json": {
              "type": "dataframe",
              "variable_name": "df",
              "summary": "{\n  \"name\": \"df\",\n  \"rows\": 4,\n  \"fields\": [\n    {\n      \"column\": \"id\",\n      \"properties\": {\n        \"dtype\": \"number\",\n        \"std\": 1,\n        \"min\": 1,\n        \"max\": 4,\n        \"num_unique_values\": 4,\n        \"samples\": [\n          2,\n          4,\n          1\n        ],\n        \"semantic_type\": \"\",\n        \"description\": \"\"\n      }\n    },\n    {\n      \"column\": \"name\",\n      \"properties\": {\n        \"dtype\": \"category\",\n        \"num_unique_values\": 1,\n        \"samples\": [\n          \"spongebob\"\n        ],\n        \"semantic_type\": \"\",\n        \"description\": \"\"\n      }\n    },\n    {\n      \"column\": \"fullname\",\n      \"properties\": {\n        \"dtype\": \"string\",\n        \"num_unique_values\": 2,\n        \"samples\": [\n          \"Spongebob Squarepants\"\n        ],\n        \"semantic_type\": \"\",\n        \"description\": \"\"\n      }\n    }\n  ]\n}"
            }
          },
          "metadata": {},
          "execution_count": 21
        }
      ]
    },
    {
      "cell_type": "code",
      "source": [],
      "metadata": {
        "id": "u_wVPa4hllvV"
      },
      "execution_count": null,
      "outputs": []
    },
    {
      "cell_type": "code",
      "source": [
        "# Read the data into a pandas DataFrame\n",
        "try:\n",
        "    with engine.connect() as connection:\n",
        "        df = pd.read_sql(text(query), connection)\n",
        "\n",
        "    # Display the DataFrame\n",
        "    display(df)\n",
        "\n",
        "except Exception as e:\n",
        "    print(f\"An error occurred: {e}\")"
      ],
      "metadata": {
        "colab": {
          "base_uri": "https://localhost:8080/",
          "height": 175
        },
        "id": "E_NcJ64NlknW",
        "outputId": "82457996-14d5-41d0-a7e1-b8d71e896442"
      },
      "execution_count": null,
      "outputs": [
        {
          "output_type": "display_data",
          "data": {
            "text/plain": [
              "   id       name               fullname\n",
              "0   1  spongebob         S. Squarepants\n",
              "1   2  spongebob  Spongebob Squarepants\n",
              "2   3  spongebob  Spongebob Squarepants\n",
              "3   4  spongebob  Spongebob Squarepants"
            ],
            "text/html": [
              "\n",
              "  <div id=\"df-24ebc65b-95a2-4ef7-a79f-7dbe1ee49ebd\" class=\"colab-df-container\">\n",
              "    <div>\n",
              "<style scoped>\n",
              "    .dataframe tbody tr th:only-of-type {\n",
              "        vertical-align: middle;\n",
              "    }\n",
              "\n",
              "    .dataframe tbody tr th {\n",
              "        vertical-align: top;\n",
              "    }\n",
              "\n",
              "    .dataframe thead th {\n",
              "        text-align: right;\n",
              "    }\n",
              "</style>\n",
              "<table border=\"1\" class=\"dataframe\">\n",
              "  <thead>\n",
              "    <tr style=\"text-align: right;\">\n",
              "      <th></th>\n",
              "      <th>id</th>\n",
              "      <th>name</th>\n",
              "      <th>fullname</th>\n",
              "    </tr>\n",
              "  </thead>\n",
              "  <tbody>\n",
              "    <tr>\n",
              "      <th>0</th>\n",
              "      <td>1</td>\n",
              "      <td>spongebob</td>\n",
              "      <td>S. Squarepants</td>\n",
              "    </tr>\n",
              "    <tr>\n",
              "      <th>1</th>\n",
              "      <td>2</td>\n",
              "      <td>spongebob</td>\n",
              "      <td>Spongebob Squarepants</td>\n",
              "    </tr>\n",
              "    <tr>\n",
              "      <th>2</th>\n",
              "      <td>3</td>\n",
              "      <td>spongebob</td>\n",
              "      <td>Spongebob Squarepants</td>\n",
              "    </tr>\n",
              "    <tr>\n",
              "      <th>3</th>\n",
              "      <td>4</td>\n",
              "      <td>spongebob</td>\n",
              "      <td>Spongebob Squarepants</td>\n",
              "    </tr>\n",
              "  </tbody>\n",
              "</table>\n",
              "</div>\n",
              "    <div class=\"colab-df-buttons\">\n",
              "\n",
              "  <div class=\"colab-df-container\">\n",
              "    <button class=\"colab-df-convert\" onclick=\"convertToInteractive('df-24ebc65b-95a2-4ef7-a79f-7dbe1ee49ebd')\"\n",
              "            title=\"Convert this dataframe to an interactive table.\"\n",
              "            style=\"display:none;\">\n",
              "\n",
              "  <svg xmlns=\"http://www.w3.org/2000/svg\" height=\"24px\" viewBox=\"0 -960 960 960\">\n",
              "    <path d=\"M120-120v-720h720v720H120Zm60-500h600v-160H180v160Zm220 220h160v-160H400v160Zm0 220h160v-160H400v160ZM180-400h160v-160H180v160Zm440 0h160v-160H620v160ZM180-180h160v-160H180v160Zm440 0h160v-160H620v160Z\"/>\n",
              "  </svg>\n",
              "    </button>\n",
              "\n",
              "  <style>\n",
              "    .colab-df-container {\n",
              "      display:flex;\n",
              "      gap: 12px;\n",
              "    }\n",
              "\n",
              "    .colab-df-convert {\n",
              "      background-color: #E8F0FE;\n",
              "      border: none;\n",
              "      border-radius: 50%;\n",
              "      cursor: pointer;\n",
              "      display: none;\n",
              "      fill: #1967D2;\n",
              "      height: 32px;\n",
              "      padding: 0 0 0 0;\n",
              "      width: 32px;\n",
              "    }\n",
              "\n",
              "    .colab-df-convert:hover {\n",
              "      background-color: #E2EBFA;\n",
              "      box-shadow: 0px 1px 2px rgba(60, 64, 67, 0.3), 0px 1px 3px 1px rgba(60, 64, 67, 0.15);\n",
              "      fill: #174EA6;\n",
              "    }\n",
              "\n",
              "    .colab-df-buttons div {\n",
              "      margin-bottom: 4px;\n",
              "    }\n",
              "\n",
              "    [theme=dark] .colab-df-convert {\n",
              "      background-color: #3B4455;\n",
              "      fill: #D2E3FC;\n",
              "    }\n",
              "\n",
              "    [theme=dark] .colab-df-convert:hover {\n",
              "      background-color: #434B5C;\n",
              "      box-shadow: 0px 1px 3px 1px rgba(0, 0, 0, 0.15);\n",
              "      filter: drop-shadow(0px 1px 2px rgba(0, 0, 0, 0.3));\n",
              "      fill: #FFFFFF;\n",
              "    }\n",
              "  </style>\n",
              "\n",
              "    <script>\n",
              "      const buttonEl =\n",
              "        document.querySelector('#df-24ebc65b-95a2-4ef7-a79f-7dbe1ee49ebd button.colab-df-convert');\n",
              "      buttonEl.style.display =\n",
              "        google.colab.kernel.accessAllowed ? 'block' : 'none';\n",
              "\n",
              "      async function convertToInteractive(key) {\n",
              "        const element = document.querySelector('#df-24ebc65b-95a2-4ef7-a79f-7dbe1ee49ebd');\n",
              "        const dataTable =\n",
              "          await google.colab.kernel.invokeFunction('convertToInteractive',\n",
              "                                                    [key], {});\n",
              "        if (!dataTable) return;\n",
              "\n",
              "        const docLinkHtml = 'Like what you see? Visit the ' +\n",
              "          '<a target=\"_blank\" href=https://colab.research.google.com/notebooks/data_table.ipynb>data table notebook</a>'\n",
              "          + ' to learn more about interactive tables.';\n",
              "        element.innerHTML = '';\n",
              "        dataTable['output_type'] = 'display_data';\n",
              "        await google.colab.output.renderOutput(dataTable, element);\n",
              "        const docLink = document.createElement('div');\n",
              "        docLink.innerHTML = docLinkHtml;\n",
              "        element.appendChild(docLink);\n",
              "      }\n",
              "    </script>\n",
              "  </div>\n",
              "\n",
              "\n",
              "    <div id=\"df-2557ae93-0780-409d-9e66-a982fb3e4427\">\n",
              "      <button class=\"colab-df-quickchart\" onclick=\"quickchart('df-2557ae93-0780-409d-9e66-a982fb3e4427')\"\n",
              "                title=\"Suggest charts\"\n",
              "                style=\"display:none;\">\n",
              "\n",
              "<svg xmlns=\"http://www.w3.org/2000/svg\" height=\"24px\"viewBox=\"0 0 24 24\"\n",
              "     width=\"24px\">\n",
              "    <g>\n",
              "        <path d=\"M19 3H5c-1.1 0-2 .9-2 2v14c0 1.1.9 2 2 2h14c1.1 0 2-.9 2-2V5c0-1.1-.9-2-2-2zM9 17H7v-7h2v7zm4 0h-2V7h2v10zm4 0h-2v-4h2v4z\"/>\n",
              "    </g>\n",
              "</svg>\n",
              "      </button>\n",
              "\n",
              "<style>\n",
              "  .colab-df-quickchart {\n",
              "      --bg-color: #E8F0FE;\n",
              "      --fill-color: #1967D2;\n",
              "      --hover-bg-color: #E2EBFA;\n",
              "      --hover-fill-color: #174EA6;\n",
              "      --disabled-fill-color: #AAA;\n",
              "      --disabled-bg-color: #DDD;\n",
              "  }\n",
              "\n",
              "  [theme=dark] .colab-df-quickchart {\n",
              "      --bg-color: #3B4455;\n",
              "      --fill-color: #D2E3FC;\n",
              "      --hover-bg-color: #434B5C;\n",
              "      --hover-fill-color: #FFFFFF;\n",
              "      --disabled-bg-color: #3B4455;\n",
              "      --disabled-fill-color: #666;\n",
              "  }\n",
              "\n",
              "  .colab-df-quickchart {\n",
              "    background-color: var(--bg-color);\n",
              "    border: none;\n",
              "    border-radius: 50%;\n",
              "    cursor: pointer;\n",
              "    display: none;\n",
              "    fill: var(--fill-color);\n",
              "    height: 32px;\n",
              "    padding: 0;\n",
              "    width: 32px;\n",
              "  }\n",
              "\n",
              "  .colab-df-quickchart:hover {\n",
              "    background-color: var(--hover-bg-color);\n",
              "    box-shadow: 0 1px 2px rgba(60, 64, 67, 0.3), 0 1px 3px 1px rgba(60, 64, 67, 0.15);\n",
              "    fill: var(--button-hover-fill-color);\n",
              "  }\n",
              "\n",
              "  .colab-df-quickchart-complete:disabled,\n",
              "  .colab-df-quickchart-complete:disabled:hover {\n",
              "    background-color: var(--disabled-bg-color);\n",
              "    fill: var(--disabled-fill-color);\n",
              "    box-shadow: none;\n",
              "  }\n",
              "\n",
              "  .colab-df-spinner {\n",
              "    border: 2px solid var(--fill-color);\n",
              "    border-color: transparent;\n",
              "    border-bottom-color: var(--fill-color);\n",
              "    animation:\n",
              "      spin 1s steps(1) infinite;\n",
              "  }\n",
              "\n",
              "  @keyframes spin {\n",
              "    0% {\n",
              "      border-color: transparent;\n",
              "      border-bottom-color: var(--fill-color);\n",
              "      border-left-color: var(--fill-color);\n",
              "    }\n",
              "    20% {\n",
              "      border-color: transparent;\n",
              "      border-left-color: var(--fill-color);\n",
              "      border-top-color: var(--fill-color);\n",
              "    }\n",
              "    30% {\n",
              "      border-color: transparent;\n",
              "      border-left-color: var(--fill-color);\n",
              "      border-top-color: var(--fill-color);\n",
              "      border-right-color: var(--fill-color);\n",
              "    }\n",
              "    40% {\n",
              "      border-color: transparent;\n",
              "      border-right-color: var(--fill-color);\n",
              "      border-top-color: var(--fill-color);\n",
              "    }\n",
              "    60% {\n",
              "      border-color: transparent;\n",
              "      border-right-color: var(--fill-color);\n",
              "    }\n",
              "    80% {\n",
              "      border-color: transparent;\n",
              "      border-right-color: var(--fill-color);\n",
              "      border-bottom-color: var(--fill-color);\n",
              "    }\n",
              "    90% {\n",
              "      border-color: transparent;\n",
              "      border-bottom-color: var(--fill-color);\n",
              "    }\n",
              "  }\n",
              "</style>\n",
              "\n",
              "      <script>\n",
              "        async function quickchart(key) {\n",
              "          const quickchartButtonEl =\n",
              "            document.querySelector('#' + key + ' button');\n",
              "          quickchartButtonEl.disabled = true;  // To prevent multiple clicks.\n",
              "          quickchartButtonEl.classList.add('colab-df-spinner');\n",
              "          try {\n",
              "            const charts = await google.colab.kernel.invokeFunction(\n",
              "                'suggestCharts', [key], {});\n",
              "          } catch (error) {\n",
              "            console.error('Error during call to suggestCharts:', error);\n",
              "          }\n",
              "          quickchartButtonEl.classList.remove('colab-df-spinner');\n",
              "          quickchartButtonEl.classList.add('colab-df-quickchart-complete');\n",
              "        }\n",
              "        (() => {\n",
              "          let quickchartButtonEl =\n",
              "            document.querySelector('#df-2557ae93-0780-409d-9e66-a982fb3e4427 button');\n",
              "          quickchartButtonEl.style.display =\n",
              "            google.colab.kernel.accessAllowed ? 'block' : 'none';\n",
              "        })();\n",
              "      </script>\n",
              "    </div>\n",
              "\n",
              "  <div id=\"id_baff4a79-8077-4180-94f2-48891e4045e6\">\n",
              "    <style>\n",
              "      .colab-df-generate {\n",
              "        background-color: #E8F0FE;\n",
              "        border: none;\n",
              "        border-radius: 50%;\n",
              "        cursor: pointer;\n",
              "        display: none;\n",
              "        fill: #1967D2;\n",
              "        height: 32px;\n",
              "        padding: 0 0 0 0;\n",
              "        width: 32px;\n",
              "      }\n",
              "\n",
              "      .colab-df-generate:hover {\n",
              "        background-color: #E2EBFA;\n",
              "        box-shadow: 0px 1px 2px rgba(60, 64, 67, 0.3), 0px 1px 3px 1px rgba(60, 64, 67, 0.15);\n",
              "        fill: #174EA6;\n",
              "      }\n",
              "\n",
              "      [theme=dark] .colab-df-generate {\n",
              "        background-color: #3B4455;\n",
              "        fill: #D2E3FC;\n",
              "      }\n",
              "\n",
              "      [theme=dark] .colab-df-generate:hover {\n",
              "        background-color: #434B5C;\n",
              "        box-shadow: 0px 1px 3px 1px rgba(0, 0, 0, 0.15);\n",
              "        filter: drop-shadow(0px 1px 2px rgba(0, 0, 0, 0.3));\n",
              "        fill: #FFFFFF;\n",
              "      }\n",
              "    </style>\n",
              "    <button class=\"colab-df-generate\" onclick=\"generateWithVariable('df')\"\n",
              "            title=\"Generate code using this dataframe.\"\n",
              "            style=\"display:none;\">\n",
              "\n",
              "  <svg xmlns=\"http://www.w3.org/2000/svg\" height=\"24px\"viewBox=\"0 0 24 24\"\n",
              "       width=\"24px\">\n",
              "    <path d=\"M7,19H8.4L18.45,9,17,7.55,7,17.6ZM5,21V16.75L18.45,3.32a2,2,0,0,1,2.83,0l1.4,1.43a1.91,1.91,0,0,1,.58,1.4,1.91,1.91,0,0,1-.58,1.4L9.25,21ZM18.45,9,17,7.55Zm-12,3A5.31,5.31,0,0,0,4.9,8.1,5.31,5.31,0,0,0,1,6.5,5.31,5.31,0,0,0,4.9,4.9,5.31,5.31,0,0,0,6.5,1,5.31,5.31,0,0,0,8.1,4.9,5.31,5.31,0,0,0,12,6.5,5.46,5.46,0,0,0,6.5,12Z\"/>\n",
              "  </svg>\n",
              "    </button>\n",
              "    <script>\n",
              "      (() => {\n",
              "      const buttonEl =\n",
              "        document.querySelector('#id_baff4a79-8077-4180-94f2-48891e4045e6 button.colab-df-generate');\n",
              "      buttonEl.style.display =\n",
              "        google.colab.kernel.accessAllowed ? 'block' : 'none';\n",
              "\n",
              "      buttonEl.onclick = () => {\n",
              "        google.colab.notebook.generateWithVariable('df');\n",
              "      }\n",
              "      })();\n",
              "    </script>\n",
              "  </div>\n",
              "\n",
              "    </div>\n",
              "  </div>\n"
            ],
            "application/vnd.google.colaboratory.intrinsic+json": {
              "type": "dataframe",
              "variable_name": "df",
              "summary": "{\n  \"name\": \"df\",\n  \"rows\": 4,\n  \"fields\": [\n    {\n      \"column\": \"id\",\n      \"properties\": {\n        \"dtype\": \"number\",\n        \"std\": 1,\n        \"min\": 1,\n        \"max\": 4,\n        \"num_unique_values\": 4,\n        \"samples\": [\n          2,\n          4,\n          1\n        ],\n        \"semantic_type\": \"\",\n        \"description\": \"\"\n      }\n    },\n    {\n      \"column\": \"name\",\n      \"properties\": {\n        \"dtype\": \"category\",\n        \"num_unique_values\": 1,\n        \"samples\": [\n          \"spongebob\"\n        ],\n        \"semantic_type\": \"\",\n        \"description\": \"\"\n      }\n    },\n    {\n      \"column\": \"fullname\",\n      \"properties\": {\n        \"dtype\": \"string\",\n        \"num_unique_values\": 2,\n        \"samples\": [\n          \"Spongebob Squarepants\"\n        ],\n        \"semantic_type\": \"\",\n        \"description\": \"\"\n      }\n    }\n  ]\n}"
            }
          },
          "metadata": {}
        }
      ]
    },
    {
      "cell_type": "markdown",
      "source": [
        "# **3. SessionLocal()**\n",
        "\n",
        "- 전역 세션을 사용하는 방식에서 벗어나 (모듈 레벨에서 session = Session()을 호출하여 단일 전역 세션을 생성하고 재사용)\n",
        "- 함수 수준에서 독립적이고 격리된 세션을 생성, 사용, 종료하는 표준 패턴을 적용하여 안정성, 재사용성, 확장성을 높임"
      ],
      "metadata": {
        "id": "IVKyvHJzfxzK"
      }
    },
    {
      "cell_type": "code",
      "source": [
        "from sqlalchemy import create_engine, Column, Integer, String\n",
        "from sqlalchemy.orm import declarative_base, sessionmaker, Session\n",
        "from typing import Generator\n",
        "\n",
        "# -------------------------------------------------------------\n",
        "# 1. 설정 및 기본 객체 정의 (모듈 레벨)\n",
        "# -------------------------------------------------------------\n",
        "\n",
        "# 데이터베이스 연결 설정\n",
        "SQLALCHEMY_DATABASE_URL = \"sqlite:///train.db\"\n",
        "\n",
        "# Engine 생성. SQLite는 기본적으로 check_same_thread=False가 필요할 수 있습니다.\n",
        "# (멀티 스레드 환경에서 세션을 공유하지 않아도 필요할 수 있음)\n",
        "engine = create_engine(\n",
        "    SQLALCHEMY_DATABASE_URL,\n",
        "    echo=True, # 실행되는 SQL 쿼리를 출력\n",
        "    connect_args={\"check_same_thread\": False}\n",
        ")\n",
        "\n",
        "# 모델 정의를 위한 베이스 클래스\n",
        "Base = declarative_base()\n",
        "\n",
        "# SessionLocal (세션 팩토리) 정의\n",
        "# autocommit=False: 트랜잭션 수동 관리 (commit 필요)\n",
        "# autoflush=False: flush를 명시적으로 호출할 때만 수행 (성능 향상)\n",
        "# bind=engine: 생성될 세션이 사용할 Engine 지정\n",
        "SessionLocal = sessionmaker(\n",
        "    autocommit=False,\n",
        "    autoflush=False,\n",
        "    bind=engine\n",
        ")\n",
        "\n",
        "# -------------------------------------------------------------\n",
        "# 2. 모델 정의\n",
        "# -------------------------------------------------------------\n",
        "\n",
        "class User(Base):\n",
        "    __tablename__ = 'users'\n",
        "\n",
        "    id = Column(Integer, primary_key=True)\n",
        "    name = Column(String)\n",
        "    fullname = Column(String)\n",
        "\n",
        "    def __repr__(self):\n",
        "        return f\"User(id={self.id!r}, name={self.name!r}, fullname={self.fullname!r})\"\n",
        "\n",
        "# -------------------------------------------------------------\n",
        "# 3. 유틸리티 함수 (데이터베이스 초기화 및 세션 관리)\n",
        "# -------------------------------------------------------------\n",
        "\n",
        "def initialize_db():\n",
        "    \"\"\"데이터베이스 테이블이 없으면 생성합니다.\"\"\"\n",
        "    print(\"--- [Initialization] 테이블 생성 ---\")\n",
        "    Base.metadata.create_all(bind=engine)\n",
        "\n",
        "def get_db() -> Generator[Session, None, None]:\n",
        "    \"\"\"\n",
        "    각 CRUD 작업에서 사용할 독립적인 세션을 생성하고,\n",
        "    작업 완료 후 세션을 닫아주는 의존성 주입 유틸리티 함수.\n",
        "    (with 문으로 사용하거나, yield를 통해 컨텍스트 관리자로 사용됨)\n",
        "    \"\"\"\n",
        "    db = SessionLocal()\n",
        "    try:\n",
        "        # yield를 통해 세션을 반환하고, 함수 종료 시 finally 블록 실행을 보장\n",
        "        yield db\n",
        "    finally:\n",
        "        db.close()\n",
        "        print(\">> Session Closed\")\n",
        "\n",
        "\n",
        "# -------------------------------------------------------------\n",
        "# 4. CRUD 작업 함수 정의 (get_db()를 사용하여 독립적인 세션 사용)\n",
        "# -------------------------------------------------------------\n",
        "\n",
        "def create_users():\n",
        "    \"\"\"새로운 사용자를 생성하고 커밋합니다 (Create).\"\"\"\n",
        "    # get_db()를 호출하여 새 세션을 얻고 with 문으로 자동으로 닫습니다.\n",
        "    with next(get_db()) as db:\n",
        "        print(\"\\n--- [C]reate: 새 사용자 추가 ---\")\n",
        "\n",
        "        # 이전 실행 시 데이터가 남아있을 수 있으므로, 간단히 모두 삭제 후 시작 (테스트용)\n",
        "        db.query(User).delete()\n",
        "        db.commit()\n",
        "\n",
        "        user1 = User(name='spongebob', fullname='Spongebob Squarepants')\n",
        "        user2 = User(name='patrick', fullname='Patrick Star')\n",
        "\n",
        "        db.add_all([user1, user2])\n",
        "        db.commit() # 커밋\n",
        "\n",
        "        # 커밋 후 ID를 받아오기 위해 객체 새로고침 (선택 사항)\n",
        "        db.refresh(user1)\n",
        "        db.refresh(user2)\n",
        "\n",
        "        print(f\"추가된 사용자 1: {user1}\")\n",
        "        print(f\"추가된 사용자 2: {user2}\")\n",
        "\n",
        "\n",
        "def read_users():\n",
        "    \"\"\"모든 사용자를 조회합니다 (Read).\"\"\"\n",
        "    # with next(get_db()) as db: 와 같은 표현이지만,\n",
        "    # 간단한 조회는 단일 세션에서 처리하고 닫습니다.\n",
        "    db = SessionLocal()\n",
        "    print(\"\\n--- [R]ead: 모든 사용자 조회 ---\")\n",
        "    users = db.query(User).all()\n",
        "    for user in users:\n",
        "        print(user)\n",
        "    db.close()\n",
        "\n",
        "\n",
        "def update_user(user_name: str, new_fullname: str):\n",
        "    \"\"\"특정 사용자의 전체 이름을 수정합니다 (Update).\"\"\"\n",
        "    with next(get_db()) as db:\n",
        "        print(f\"\\n--- [U]pdate: {user_name}의 이름 수정 ---\")\n",
        "\n",
        "        user_to_update = db.query(User).filter(User.name == user_name).first()\n",
        "\n",
        "        if user_to_update:\n",
        "            user_to_update.fullname = new_fullname\n",
        "            print(f\"수정 전: {user_to_update}\")\n",
        "\n",
        "            db.commit() # 커밋\n",
        "            print(\"수정 사항 커밋 완료.\")\n",
        "\n",
        "            # 변경 사항 확인을 위해 새로고침\n",
        "            db.refresh(user_to_update)\n",
        "            print(f\"수정 후: {user_to_update}\")\n",
        "        else:\n",
        "            print(f\"사용자 '{user_name}'를 찾을 수 없습니다.\")\n",
        "\n",
        "\n",
        "def delete_user(user_name: str):\n",
        "    \"\"\"특정 사용자를 삭제합니다 (Delete).\"\"\"\n",
        "    with next(get_db()) as db:\n",
        "        print(f\"\\n--- [D]elete: 사용자 {user_name} 삭제 ---\")\n",
        "\n",
        "        user_to_delete = db.query(User).filter(User.name == user_name).first()\n",
        "\n",
        "        if user_to_delete:\n",
        "            print(f\"삭제할 사용자: {user_to_delete}\")\n",
        "            db.delete(user_to_delete)\n",
        "            db.commit() # 커밋\n",
        "            print(\"삭제 사항 커밋 완료.\")\n",
        "        else:\n",
        "            print(f\"사용자 '{user_name}'를 찾을 수 없습니다.\")\n",
        "\n",
        "\n",
        "# -------------------------------------------------------------\n",
        "# 5. 메인 실행 로직\n",
        "# -------------------------------------------------------------\n",
        "\n",
        "if __name__ == \"__main__\":\n",
        "\n",
        "    # 1. 데이터베이스 초기화\n",
        "    initialize_db()\n",
        "\n",
        "    # 2. C (Create) 실행\n",
        "    create_users()\n",
        "\n",
        "    # 3. R (Read) 실행\n",
        "    read_users()\n",
        "\n",
        "    # 4. U (Update) 실행\n",
        "    update_user(user_name='spongebob', new_fullname='S. Squarepants')\n",
        "\n",
        "    # 5. D (Delete) 실행\n",
        "    delete_user(user_name='patrick')\n",
        "\n",
        "    # 6. R (Read) - 최종 확인\n",
        "    read_users()\n",
        "\n",
        "# 모든 작업이 get_db() 유틸리티를 통해 독립적인 세션을 사용하고 명시적으로 닫습니다."
      ],
      "metadata": {
        "colab": {
          "base_uri": "https://localhost:8080/"
        },
        "id": "77tPipT6aNCh",
        "outputId": "0942501c-79db-4b83-a23d-d0567d23081f"
      },
      "execution_count": null,
      "outputs": [
        {
          "output_type": "stream",
          "name": "stdout",
          "text": [
            "--- [Initialization] 테이블 생성 ---\n",
            "2025-10-20 09:28:16,938 INFO sqlalchemy.engine.Engine BEGIN (implicit)\n"
          ]
        },
        {
          "output_type": "stream",
          "name": "stderr",
          "text": [
            "INFO:sqlalchemy.engine.Engine:BEGIN (implicit)\n"
          ]
        },
        {
          "output_type": "stream",
          "name": "stdout",
          "text": [
            "2025-10-20 09:28:16,940 INFO sqlalchemy.engine.Engine PRAGMA main.table_info(\"users\")\n"
          ]
        },
        {
          "output_type": "stream",
          "name": "stderr",
          "text": [
            "INFO:sqlalchemy.engine.Engine:PRAGMA main.table_info(\"users\")\n"
          ]
        },
        {
          "output_type": "stream",
          "name": "stdout",
          "text": [
            "2025-10-20 09:28:16,943 INFO sqlalchemy.engine.Engine [raw sql] ()\n"
          ]
        },
        {
          "output_type": "stream",
          "name": "stderr",
          "text": [
            "INFO:sqlalchemy.engine.Engine:[raw sql] ()\n"
          ]
        },
        {
          "output_type": "stream",
          "name": "stdout",
          "text": [
            "2025-10-20 09:28:16,946 INFO sqlalchemy.engine.Engine COMMIT\n"
          ]
        },
        {
          "output_type": "stream",
          "name": "stderr",
          "text": [
            "INFO:sqlalchemy.engine.Engine:COMMIT\n"
          ]
        },
        {
          "output_type": "stream",
          "name": "stdout",
          "text": [
            ">> Session Closed\n",
            "\n",
            "--- [C]reate: 새 사용자 추가 ---\n",
            "2025-10-20 09:28:16,952 INFO sqlalchemy.engine.Engine BEGIN (implicit)\n"
          ]
        },
        {
          "output_type": "stream",
          "name": "stderr",
          "text": [
            "INFO:sqlalchemy.engine.Engine:BEGIN (implicit)\n"
          ]
        },
        {
          "output_type": "stream",
          "name": "stdout",
          "text": [
            "2025-10-20 09:28:16,955 INFO sqlalchemy.engine.Engine DELETE FROM users\n"
          ]
        },
        {
          "output_type": "stream",
          "name": "stderr",
          "text": [
            "INFO:sqlalchemy.engine.Engine:DELETE FROM users\n"
          ]
        },
        {
          "output_type": "stream",
          "name": "stdout",
          "text": [
            "2025-10-20 09:28:16,956 INFO sqlalchemy.engine.Engine [generated in 0.00171s] ()\n"
          ]
        },
        {
          "output_type": "stream",
          "name": "stderr",
          "text": [
            "INFO:sqlalchemy.engine.Engine:[generated in 0.00171s] ()\n"
          ]
        },
        {
          "output_type": "stream",
          "name": "stdout",
          "text": [
            "2025-10-20 09:28:16,958 INFO sqlalchemy.engine.Engine COMMIT\n"
          ]
        },
        {
          "output_type": "stream",
          "name": "stderr",
          "text": [
            "INFO:sqlalchemy.engine.Engine:COMMIT\n"
          ]
        },
        {
          "output_type": "stream",
          "name": "stdout",
          "text": [
            "2025-10-20 09:28:16,971 INFO sqlalchemy.engine.Engine BEGIN (implicit)\n"
          ]
        },
        {
          "output_type": "stream",
          "name": "stderr",
          "text": [
            "INFO:sqlalchemy.engine.Engine:BEGIN (implicit)\n"
          ]
        },
        {
          "output_type": "stream",
          "name": "stdout",
          "text": [
            "2025-10-20 09:28:16,978 INFO sqlalchemy.engine.Engine INSERT INTO users (name, fullname) VALUES (?, ?) RETURNING id\n"
          ]
        },
        {
          "output_type": "stream",
          "name": "stderr",
          "text": [
            "INFO:sqlalchemy.engine.Engine:INSERT INTO users (name, fullname) VALUES (?, ?) RETURNING id\n"
          ]
        },
        {
          "output_type": "stream",
          "name": "stdout",
          "text": [
            "2025-10-20 09:28:16,981 INFO sqlalchemy.engine.Engine [generated in 0.00017s (insertmanyvalues) 1/2 (ordered; batch not supported)] ('spongebob', 'Spongebob Squarepants')\n"
          ]
        },
        {
          "output_type": "stream",
          "name": "stderr",
          "text": [
            "INFO:sqlalchemy.engine.Engine:[generated in 0.00017s (insertmanyvalues) 1/2 (ordered; batch not supported)] ('spongebob', 'Spongebob Squarepants')\n"
          ]
        },
        {
          "output_type": "stream",
          "name": "stdout",
          "text": [
            "2025-10-20 09:28:16,984 INFO sqlalchemy.engine.Engine INSERT INTO users (name, fullname) VALUES (?, ?) RETURNING id\n"
          ]
        },
        {
          "output_type": "stream",
          "name": "stderr",
          "text": [
            "INFO:sqlalchemy.engine.Engine:INSERT INTO users (name, fullname) VALUES (?, ?) RETURNING id\n"
          ]
        },
        {
          "output_type": "stream",
          "name": "stdout",
          "text": [
            "2025-10-20 09:28:16,986 INFO sqlalchemy.engine.Engine [insertmanyvalues 2/2 (ordered; batch not supported)] ('patrick', 'Patrick Star')\n"
          ]
        },
        {
          "output_type": "stream",
          "name": "stderr",
          "text": [
            "INFO:sqlalchemy.engine.Engine:[insertmanyvalues 2/2 (ordered; batch not supported)] ('patrick', 'Patrick Star')\n"
          ]
        },
        {
          "output_type": "stream",
          "name": "stdout",
          "text": [
            "2025-10-20 09:28:16,990 INFO sqlalchemy.engine.Engine COMMIT\n"
          ]
        },
        {
          "output_type": "stream",
          "name": "stderr",
          "text": [
            "INFO:sqlalchemy.engine.Engine:COMMIT\n"
          ]
        },
        {
          "output_type": "stream",
          "name": "stdout",
          "text": [
            "2025-10-20 09:28:17,004 INFO sqlalchemy.engine.Engine BEGIN (implicit)\n"
          ]
        },
        {
          "output_type": "stream",
          "name": "stderr",
          "text": [
            "INFO:sqlalchemy.engine.Engine:BEGIN (implicit)\n"
          ]
        },
        {
          "output_type": "stream",
          "name": "stdout",
          "text": [
            "2025-10-20 09:28:17,011 INFO sqlalchemy.engine.Engine SELECT users.id, users.name, users.fullname \n",
            "FROM users \n",
            "WHERE users.id = ?\n"
          ]
        },
        {
          "output_type": "stream",
          "name": "stderr",
          "text": [
            "INFO:sqlalchemy.engine.Engine:SELECT users.id, users.name, users.fullname \n",
            "FROM users \n",
            "WHERE users.id = ?\n"
          ]
        },
        {
          "output_type": "stream",
          "name": "stdout",
          "text": [
            "2025-10-20 09:28:17,014 INFO sqlalchemy.engine.Engine [generated in 0.00414s] (1,)\n"
          ]
        },
        {
          "output_type": "stream",
          "name": "stderr",
          "text": [
            "INFO:sqlalchemy.engine.Engine:[generated in 0.00414s] (1,)\n"
          ]
        },
        {
          "output_type": "stream",
          "name": "stdout",
          "text": [
            "2025-10-20 09:28:17,020 INFO sqlalchemy.engine.Engine SELECT users.id, users.name, users.fullname \n",
            "FROM users \n",
            "WHERE users.id = ?\n"
          ]
        },
        {
          "output_type": "stream",
          "name": "stderr",
          "text": [
            "INFO:sqlalchemy.engine.Engine:SELECT users.id, users.name, users.fullname \n",
            "FROM users \n",
            "WHERE users.id = ?\n"
          ]
        },
        {
          "output_type": "stream",
          "name": "stdout",
          "text": [
            "2025-10-20 09:28:17,023 INFO sqlalchemy.engine.Engine [cached since 0.01275s ago] (2,)\n"
          ]
        },
        {
          "output_type": "stream",
          "name": "stderr",
          "text": [
            "INFO:sqlalchemy.engine.Engine:[cached since 0.01275s ago] (2,)\n"
          ]
        },
        {
          "output_type": "stream",
          "name": "stdout",
          "text": [
            "추가된 사용자 1: User(id=1, name='spongebob', fullname='Spongebob Squarepants')\n",
            "추가된 사용자 2: User(id=2, name='patrick', fullname='Patrick Star')\n",
            "2025-10-20 09:28:17,026 INFO sqlalchemy.engine.Engine ROLLBACK\n"
          ]
        },
        {
          "output_type": "stream",
          "name": "stderr",
          "text": [
            "INFO:sqlalchemy.engine.Engine:ROLLBACK\n"
          ]
        },
        {
          "output_type": "stream",
          "name": "stdout",
          "text": [
            "\n",
            "--- [R]ead: 모든 사용자 조회 ---\n",
            "2025-10-20 09:28:17,031 INFO sqlalchemy.engine.Engine BEGIN (implicit)\n"
          ]
        },
        {
          "output_type": "stream",
          "name": "stderr",
          "text": [
            "INFO:sqlalchemy.engine.Engine:BEGIN (implicit)\n"
          ]
        },
        {
          "output_type": "stream",
          "name": "stdout",
          "text": [
            "2025-10-20 09:28:17,035 INFO sqlalchemy.engine.Engine SELECT users.id AS users_id, users.name AS users_name, users.fullname AS users_fullname \n",
            "FROM users\n"
          ]
        },
        {
          "output_type": "stream",
          "name": "stderr",
          "text": [
            "INFO:sqlalchemy.engine.Engine:SELECT users.id AS users_id, users.name AS users_name, users.fullname AS users_fullname \n",
            "FROM users\n"
          ]
        },
        {
          "output_type": "stream",
          "name": "stdout",
          "text": [
            "2025-10-20 09:28:17,036 INFO sqlalchemy.engine.Engine [generated in 0.00140s] ()\n"
          ]
        },
        {
          "output_type": "stream",
          "name": "stderr",
          "text": [
            "INFO:sqlalchemy.engine.Engine:[generated in 0.00140s] ()\n"
          ]
        },
        {
          "output_type": "stream",
          "name": "stdout",
          "text": [
            "User(id=1, name='spongebob', fullname='Spongebob Squarepants')\n",
            "User(id=2, name='patrick', fullname='Patrick Star')\n",
            "2025-10-20 09:28:17,039 INFO sqlalchemy.engine.Engine ROLLBACK\n"
          ]
        },
        {
          "output_type": "stream",
          "name": "stderr",
          "text": [
            "INFO:sqlalchemy.engine.Engine:ROLLBACK\n"
          ]
        },
        {
          "output_type": "stream",
          "name": "stdout",
          "text": [
            ">> Session Closed\n",
            "\n",
            "--- [U]pdate: spongebob의 이름 수정 ---\n",
            "2025-10-20 09:28:17,041 INFO sqlalchemy.engine.Engine BEGIN (implicit)\n"
          ]
        },
        {
          "output_type": "stream",
          "name": "stderr",
          "text": [
            "INFO:sqlalchemy.engine.Engine:BEGIN (implicit)\n"
          ]
        },
        {
          "output_type": "stream",
          "name": "stdout",
          "text": [
            "2025-10-20 09:28:17,044 INFO sqlalchemy.engine.Engine SELECT users.id AS users_id, users.name AS users_name, users.fullname AS users_fullname \n",
            "FROM users \n",
            "WHERE users.name = ?\n",
            " LIMIT ? OFFSET ?\n"
          ]
        },
        {
          "output_type": "stream",
          "name": "stderr",
          "text": [
            "INFO:sqlalchemy.engine.Engine:SELECT users.id AS users_id, users.name AS users_name, users.fullname AS users_fullname \n",
            "FROM users \n",
            "WHERE users.name = ?\n",
            " LIMIT ? OFFSET ?\n"
          ]
        },
        {
          "output_type": "stream",
          "name": "stdout",
          "text": [
            "2025-10-20 09:28:17,047 INFO sqlalchemy.engine.Engine [generated in 0.00261s] ('spongebob', 1, 0)\n"
          ]
        },
        {
          "output_type": "stream",
          "name": "stderr",
          "text": [
            "INFO:sqlalchemy.engine.Engine:[generated in 0.00261s] ('spongebob', 1, 0)\n"
          ]
        },
        {
          "output_type": "stream",
          "name": "stdout",
          "text": [
            "수정 전: User(id=1, name='spongebob', fullname='S. Squarepants')\n",
            "2025-10-20 09:28:17,051 INFO sqlalchemy.engine.Engine UPDATE users SET fullname=? WHERE users.id = ?\n"
          ]
        },
        {
          "output_type": "stream",
          "name": "stderr",
          "text": [
            "INFO:sqlalchemy.engine.Engine:UPDATE users SET fullname=? WHERE users.id = ?\n"
          ]
        },
        {
          "output_type": "stream",
          "name": "stdout",
          "text": [
            "2025-10-20 09:28:17,053 INFO sqlalchemy.engine.Engine [generated in 0.00296s] ('S. Squarepants', 1)\n"
          ]
        },
        {
          "output_type": "stream",
          "name": "stderr",
          "text": [
            "INFO:sqlalchemy.engine.Engine:[generated in 0.00296s] ('S. Squarepants', 1)\n"
          ]
        },
        {
          "output_type": "stream",
          "name": "stdout",
          "text": [
            "2025-10-20 09:28:17,056 INFO sqlalchemy.engine.Engine COMMIT\n"
          ]
        },
        {
          "output_type": "stream",
          "name": "stderr",
          "text": [
            "INFO:sqlalchemy.engine.Engine:COMMIT\n"
          ]
        },
        {
          "output_type": "stream",
          "name": "stdout",
          "text": [
            "수정 사항 커밋 완료.\n",
            "2025-10-20 09:28:17,068 INFO sqlalchemy.engine.Engine BEGIN (implicit)\n"
          ]
        },
        {
          "output_type": "stream",
          "name": "stderr",
          "text": [
            "INFO:sqlalchemy.engine.Engine:BEGIN (implicit)\n"
          ]
        },
        {
          "output_type": "stream",
          "name": "stdout",
          "text": [
            "2025-10-20 09:28:17,073 INFO sqlalchemy.engine.Engine SELECT users.id, users.name, users.fullname \n",
            "FROM users \n",
            "WHERE users.id = ?\n"
          ]
        },
        {
          "output_type": "stream",
          "name": "stderr",
          "text": [
            "INFO:sqlalchemy.engine.Engine:SELECT users.id, users.name, users.fullname \n",
            "FROM users \n",
            "WHERE users.id = ?\n"
          ]
        },
        {
          "output_type": "stream",
          "name": "stdout",
          "text": [
            "2025-10-20 09:28:17,077 INFO sqlalchemy.engine.Engine [cached since 0.06675s ago] (1,)\n"
          ]
        },
        {
          "output_type": "stream",
          "name": "stderr",
          "text": [
            "INFO:sqlalchemy.engine.Engine:[cached since 0.06675s ago] (1,)\n"
          ]
        },
        {
          "output_type": "stream",
          "name": "stdout",
          "text": [
            "수정 후: User(id=1, name='spongebob', fullname='S. Squarepants')\n",
            "2025-10-20 09:28:17,081 INFO sqlalchemy.engine.Engine ROLLBACK\n"
          ]
        },
        {
          "output_type": "stream",
          "name": "stderr",
          "text": [
            "INFO:sqlalchemy.engine.Engine:ROLLBACK\n"
          ]
        },
        {
          "output_type": "stream",
          "name": "stdout",
          "text": [
            ">> Session Closed\n",
            "\n",
            "--- [D]elete: 사용자 patrick 삭제 ---\n",
            "2025-10-20 09:28:17,085 INFO sqlalchemy.engine.Engine BEGIN (implicit)\n"
          ]
        },
        {
          "output_type": "stream",
          "name": "stderr",
          "text": [
            "INFO:sqlalchemy.engine.Engine:BEGIN (implicit)\n"
          ]
        },
        {
          "output_type": "stream",
          "name": "stdout",
          "text": [
            "2025-10-20 09:28:17,090 INFO sqlalchemy.engine.Engine SELECT users.id AS users_id, users.name AS users_name, users.fullname AS users_fullname \n",
            "FROM users \n",
            "WHERE users.name = ?\n",
            " LIMIT ? OFFSET ?\n"
          ]
        },
        {
          "output_type": "stream",
          "name": "stderr",
          "text": [
            "INFO:sqlalchemy.engine.Engine:SELECT users.id AS users_id, users.name AS users_name, users.fullname AS users_fullname \n",
            "FROM users \n",
            "WHERE users.name = ?\n",
            " LIMIT ? OFFSET ?\n"
          ]
        },
        {
          "output_type": "stream",
          "name": "stdout",
          "text": [
            "2025-10-20 09:28:17,093 INFO sqlalchemy.engine.Engine [cached since 0.04847s ago] ('patrick', 1, 0)\n"
          ]
        },
        {
          "output_type": "stream",
          "name": "stderr",
          "text": [
            "INFO:sqlalchemy.engine.Engine:[cached since 0.04847s ago] ('patrick', 1, 0)\n"
          ]
        },
        {
          "output_type": "stream",
          "name": "stdout",
          "text": [
            "삭제할 사용자: User(id=2, name='patrick', fullname='Patrick Star')\n",
            "2025-10-20 09:28:17,097 INFO sqlalchemy.engine.Engine DELETE FROM users WHERE users.id = ?\n"
          ]
        },
        {
          "output_type": "stream",
          "name": "stderr",
          "text": [
            "INFO:sqlalchemy.engine.Engine:DELETE FROM users WHERE users.id = ?\n"
          ]
        },
        {
          "output_type": "stream",
          "name": "stdout",
          "text": [
            "2025-10-20 09:28:17,100 INFO sqlalchemy.engine.Engine [generated in 0.00318s] (2,)\n"
          ]
        },
        {
          "output_type": "stream",
          "name": "stderr",
          "text": [
            "INFO:sqlalchemy.engine.Engine:[generated in 0.00318s] (2,)\n"
          ]
        },
        {
          "output_type": "stream",
          "name": "stdout",
          "text": [
            "2025-10-20 09:28:17,104 INFO sqlalchemy.engine.Engine COMMIT\n"
          ]
        },
        {
          "output_type": "stream",
          "name": "stderr",
          "text": [
            "INFO:sqlalchemy.engine.Engine:COMMIT\n"
          ]
        },
        {
          "output_type": "stream",
          "name": "stdout",
          "text": [
            "삭제 사항 커밋 완료.\n",
            "\n",
            "--- [R]ead: 모든 사용자 조회 ---\n",
            "2025-10-20 09:28:17,116 INFO sqlalchemy.engine.Engine BEGIN (implicit)\n"
          ]
        },
        {
          "output_type": "stream",
          "name": "stderr",
          "text": [
            "INFO:sqlalchemy.engine.Engine:BEGIN (implicit)\n"
          ]
        },
        {
          "output_type": "stream",
          "name": "stdout",
          "text": [
            "2025-10-20 09:28:17,118 INFO sqlalchemy.engine.Engine SELECT users.id AS users_id, users.name AS users_name, users.fullname AS users_fullname \n",
            "FROM users\n"
          ]
        },
        {
          "output_type": "stream",
          "name": "stderr",
          "text": [
            "INFO:sqlalchemy.engine.Engine:SELECT users.id AS users_id, users.name AS users_name, users.fullname AS users_fullname \n",
            "FROM users\n"
          ]
        },
        {
          "output_type": "stream",
          "name": "stdout",
          "text": [
            "2025-10-20 09:28:17,120 INFO sqlalchemy.engine.Engine [cached since 0.08533s ago] ()\n"
          ]
        },
        {
          "output_type": "stream",
          "name": "stderr",
          "text": [
            "INFO:sqlalchemy.engine.Engine:[cached since 0.08533s ago] ()\n"
          ]
        },
        {
          "output_type": "stream",
          "name": "stdout",
          "text": [
            "User(id=1, name='spongebob', fullname='S. Squarepants')\n",
            "2025-10-20 09:28:17,124 INFO sqlalchemy.engine.Engine ROLLBACK\n"
          ]
        },
        {
          "output_type": "stream",
          "name": "stderr",
          "text": [
            "INFO:sqlalchemy.engine.Engine:ROLLBACK\n"
          ]
        }
      ]
    },
    {
      "cell_type": "code",
      "source": [],
      "metadata": {
        "id": "EvbJ_k8QaNFg"
      },
      "execution_count": null,
      "outputs": []
    },
    {
      "cell_type": "code",
      "source": [],
      "metadata": {
        "id": "M9G_p5cSaNHg"
      },
      "execution_count": null,
      "outputs": []
    },
    {
      "cell_type": "code",
      "source": [],
      "metadata": {
        "id": "5EqVBbWeaNK4"
      },
      "execution_count": null,
      "outputs": []
    }
  ]
}