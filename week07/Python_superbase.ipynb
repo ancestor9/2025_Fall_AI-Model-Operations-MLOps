{
  "cells": [
    {
      "cell_type": "markdown",
      "metadata": {
        "colab_type": "text",
        "id": "view-in-github"
      },
      "source": [
        "<a href=\"https://colab.research.google.com/github/ancestor9/2025_Fall_AI-Model-Operations-MLOps/blob/main/week06/Python_Database.ipynb\" target=\"_parent\"><img src=\"https://colab.research.google.com/assets/colab-badge.svg\" alt=\"Open In Colab\"/></a>"
      ]
    },
    {
      "cell_type": "markdown",
      "metadata": {
        "id": "tYQldZaG850v"
      },
      "source": [
        "##  Hands-on : Database with python\n",
        "### 1. superbase에 가입하고 프로젝트를 생성한 후\n",
        "### 2. sqlite3로 DB를 만들고 \"movie\" 데이터 생성\n",
        "### 3. 엑셀로 다운받고\n",
        "### 4. superbase에서 저장하기"
      ]
    },
    {
      "cell_type": "markdown",
      "metadata": {
        "id": "iWZcDr6R3e_g"
      },
      "source": [
        "### **1. [supabase](https://supabase.com/) 클라우드 데이터베이스 만들기**\n",
        "- https://supabase.com/dashboard/project/gjuciogiegqiimposzkc"
      ]
    },
    {
      "cell_type": "code",
      "execution_count": 1,
      "metadata": {
        "id": "qxuoD-pZ3h3-"
      },
      "outputs": [],
      "source": [
        "!pip install supabase python-dotenv -q"
      ]
    },
    {
      "cell_type": "code",
      "execution_count": 2,
      "metadata": {
        "colab": {
          "base_uri": "https://localhost:8080/"
        },
        "id": "Y6U0A_i-z0si",
        "outputId": "4c15db4f-2d13-4838-d3f0-340d5c83e9c0"
      },
      "outputs": [
        {
          "name": "stdout",
          "output_type": "stream",
          "text": [
            "✅ Supabase 클라이언트가 성공적으로 연결되었습니다.\n"
          ]
        }
      ],
      "source": [
        "from google.colab import userdata\n",
        "from supabase import create_client, Client\n",
        "\n",
        "# Colab Secrets에서 URL과 Key를 가져옵니다.\n",
        "# Colab Secret Manager를 사용하면 os.environ 대신 userdata.get()을 사용합니다.\n",
        "supabase_key: str = userdata.get('superbase')\n",
        "\n",
        "# Supabase URL 및 Key 설정 (JavaScript 코드와 동일한 값 사용)\n",
        "supabase_url: str = 'https://gjuciogiegqiimposzkc.supabase.co'\n",
        "\n",
        "# Supabase 클라이언트 생성\n",
        "if supabase_url and supabase_key:\n",
        "    supabase: Client = create_client(supabase_url, supabase_key)\n",
        "    print(\"✅ Supabase 클라이언트가 성공적으로 연결되었습니다.\")\n",
        "else:\n",
        "    print(\"⚠️ Colab Secrets에서 SUPABASE_URL 또는 SUPABASE_KEY를 찾을 수 없습니다. Secret 설정을 확인해주세요.\")"
      ]
    },
    {
      "cell_type": "markdown",
      "metadata": {
        "id": "WwCXZMCz0-6d"
      },
      "source": [
        "### superbase에 테이블을 만들지 않아서 No Tables"
      ]
    },
    {
      "cell_type": "markdown",
      "metadata": {
        "id": "po79h2XG3KgM"
      },
      "source": [
        "### **2. [sqlite3 — DB-API 2.0 interface for SQLite databases](https://docs.python.org/3/library/sqlite3.html)**"
      ]
    },
    {
      "cell_type": "code",
      "execution_count": 3,
      "metadata": {
        "id": "C71Gk4Sg2dTw"
      },
      "outputs": [],
      "source": [
        "import sqlite3\n",
        "con = sqlite3.connect(\"tutorial.db\")"
      ]
    },
    {
      "cell_type": "code",
      "execution_count": 4,
      "metadata": {
        "id": "nD9JOXY1z_lU"
      },
      "outputs": [],
      "source": [
        "cur = con.cursor()"
      ]
    },
    {
      "cell_type": "code",
      "execution_count": 5,
      "metadata": {
        "colab": {
          "base_uri": "https://localhost:8080/"
        },
        "id": "gv0V9--P2gwl",
        "outputId": "3db785df-7d90-4551-f9e3-ee54d5abf575"
      },
      "outputs": [
        {
          "data": {
            "text/plain": [
              "<sqlite3.Cursor at 0x7ee83039c340>"
            ]
          },
          "execution_count": 5,
          "metadata": {},
          "output_type": "execute_result"
        }
      ],
      "source": [
        "cur.execute(\"CREATE TABLE movie(title, year, score)\")"
      ]
    },
    {
      "cell_type": "code",
      "execution_count": 6,
      "metadata": {
        "colab": {
          "base_uri": "https://localhost:8080/"
        },
        "id": "FLtM584m2l5U",
        "outputId": "475907ab-fe42-4763-8d03-9cd256bc0aa5"
      },
      "outputs": [
        {
          "data": {
            "text/plain": [
              "('movie',)"
            ]
          },
          "execution_count": 6,
          "metadata": {},
          "output_type": "execute_result"
        }
      ],
      "source": [
        "res = cur.execute(\"SELECT name FROM sqlite_master\")\n",
        "res.fetchone()"
      ]
    },
    {
      "cell_type": "code",
      "execution_count": 7,
      "metadata": {
        "colab": {
          "base_uri": "https://localhost:8080/"
        },
        "id": "_D0XraYx2q3g",
        "outputId": "4fa51def-871f-413c-9535-fc5b08b355fe"
      },
      "outputs": [
        {
          "data": {
            "text/plain": [
              "True"
            ]
          },
          "execution_count": 7,
          "metadata": {},
          "output_type": "execute_result"
        }
      ],
      "source": [
        "res = cur.execute(\"SELECT name FROM sqlite_master WHERE name='spam'\")\n",
        "res.fetchone() is None"
      ]
    },
    {
      "cell_type": "code",
      "execution_count": 8,
      "metadata": {
        "colab": {
          "base_uri": "https://localhost:8080/"
        },
        "id": "NgX5ZAk_2yBH",
        "outputId": "fb748cdb-6126-40ca-952c-589915399aa7"
      },
      "outputs": [
        {
          "data": {
            "text/plain": [
              "<sqlite3.Cursor at 0x7ee83039c340>"
            ]
          },
          "execution_count": 8,
          "metadata": {},
          "output_type": "execute_result"
        }
      ],
      "source": [
        "cur.execute(\"\"\"\n",
        "    INSERT INTO movie VALUES\n",
        "        ('Monty Python and the Holy Grail', 1975, 8.2),\n",
        "        ('And Now for Something Completely Different', 1971, 7.5)\n",
        "\"\"\")"
      ]
    },
    {
      "cell_type": "code",
      "execution_count": 9,
      "metadata": {
        "id": "F02tO6os20f9"
      },
      "outputs": [],
      "source": [
        "con.commit()"
      ]
    },
    {
      "cell_type": "code",
      "execution_count": 10,
      "metadata": {
        "colab": {
          "base_uri": "https://localhost:8080/"
        },
        "id": "5glx6nfv23Wl",
        "outputId": "dd67f86d-5e83-44bd-8218-22ae3a4fb16e"
      },
      "outputs": [
        {
          "data": {
            "text/plain": [
              "[(8.2,), (7.5,)]"
            ]
          },
          "execution_count": 10,
          "metadata": {},
          "output_type": "execute_result"
        }
      ],
      "source": [
        "res = cur.execute(\"SELECT score FROM movie\")\n",
        "res.fetchall()"
      ]
    },
    {
      "cell_type": "code",
      "execution_count": 11,
      "metadata": {
        "id": "HaLc8KUt26ws"
      },
      "outputs": [],
      "source": [
        "data = [\n",
        "    (\"Monty Python Live at the Hollywood Bowl\", 1982, 7.9),\n",
        "    (\"Monty Python's The Meaning of Life\", 1983, 7.5),\n",
        "    (\"Monty Python's Life of Brian\", 1979, 8.0),\n",
        "]\n",
        "cur.executemany(\"INSERT INTO movie VALUES(?, ?, ?)\", data)\n",
        "con.commit()  # Remember to commit the transaction after executing INSERT."
      ]
    },
    {
      "cell_type": "code",
      "execution_count": 12,
      "metadata": {
        "colab": {
          "base_uri": "https://localhost:8080/"
        },
        "id": "UcxwhssD29lH",
        "outputId": "f6864bac-68e5-4171-a7d8-5855eb384ffd"
      },
      "outputs": [
        {
          "name": "stdout",
          "output_type": "stream",
          "text": [
            "(1971, 'And Now for Something Completely Different')\n",
            "(1975, 'Monty Python and the Holy Grail')\n",
            "(1979, \"Monty Python's Life of Brian\")\n",
            "(1982, 'Monty Python Live at the Hollywood Bowl')\n",
            "(1983, \"Monty Python's The Meaning of Life\")\n"
          ]
        }
      ],
      "source": [
        "for row in cur.execute(\"SELECT year, title FROM movie ORDER BY year\"):\n",
        "    print(row)"
      ]
    },
    {
      "cell_type": "code",
      "execution_count": 13,
      "metadata": {
        "colab": {
          "base_uri": "https://localhost:8080/"
        },
        "id": "1MYXfNrZ3AqY",
        "outputId": "904832a0-42f7-4cc2-fec8-6e9653223c44"
      },
      "outputs": [
        {
          "name": "stdout",
          "output_type": "stream",
          "text": [
            "The highest scoring Monty Python movie is 'Monty Python and the Holy Grail', released in 1975\n"
          ]
        }
      ],
      "source": [
        "con.close()\n",
        "new_con = sqlite3.connect(\"tutorial.db\")\n",
        "new_cur = new_con.cursor()\n",
        "res = new_cur.execute(\"SELECT title, year FROM movie ORDER BY score DESC\")\n",
        "title, year = res.fetchone()\n",
        "print(f'The highest scoring Monty Python movie is {title!r}, released in {year}')\n",
        "\n",
        "new_con.close()"
      ]
    },
    {
      "cell_type": "markdown",
      "metadata": {
        "id": "aMV3UjAY4fJ8"
      },
      "source": [
        "### **3. 데이터프레임으로 다운받고 엑셀로 내보내기**"
      ]
    },
    {
      "cell_type": "code",
      "execution_count": 14,
      "metadata": {
        "colab": {
          "base_uri": "https://localhost:8080/",
          "height": 206
        },
        "id": "QtVu4xLw3FQK",
        "outputId": "2b685258-0c9f-43ed-af21-9b7e2c00170b"
      },
      "outputs": [
        {
          "data": {
            "application/vnd.google.colaboratory.intrinsic+json": {
              "summary": "{\n  \"name\": \"df\",\n  \"rows\": 5,\n  \"fields\": [\n    {\n      \"column\": \"title\",\n      \"properties\": {\n        \"dtype\": \"string\",\n        \"num_unique_values\": 5,\n        \"samples\": [\n          \"And Now for Something Completely Different\",\n          \"Monty Python's Life of Brian\",\n          \"Monty Python Live at the Hollywood Bowl\"\n        ],\n        \"semantic_type\": \"\",\n        \"description\": \"\"\n      }\n    },\n    {\n      \"column\": \"year\",\n      \"properties\": {\n        \"dtype\": \"number\",\n        \"std\": 5,\n        \"min\": 1971,\n        \"max\": 1983,\n        \"num_unique_values\": 5,\n        \"samples\": [\n          1971,\n          1979,\n          1982\n        ],\n        \"semantic_type\": \"\",\n        \"description\": \"\"\n      }\n    },\n    {\n      \"column\": \"score\",\n      \"properties\": {\n        \"dtype\": \"number\",\n        \"std\": 0.3114482300479485,\n        \"min\": 7.5,\n        \"max\": 8.2,\n        \"num_unique_values\": 4,\n        \"samples\": [\n          7.5,\n          8.0,\n          8.2\n        ],\n        \"semantic_type\": \"\",\n        \"description\": \"\"\n      }\n    }\n  ]\n}",
              "type": "dataframe",
              "variable_name": "df"
            },
            "text/html": [
              "\n",
              "  <div id=\"df-9daddd66-0e8f-47a5-88ed-fe96d9017425\" class=\"colab-df-container\">\n",
              "    <div>\n",
              "<style scoped>\n",
              "    .dataframe tbody tr th:only-of-type {\n",
              "        vertical-align: middle;\n",
              "    }\n",
              "\n",
              "    .dataframe tbody tr th {\n",
              "        vertical-align: top;\n",
              "    }\n",
              "\n",
              "    .dataframe thead th {\n",
              "        text-align: right;\n",
              "    }\n",
              "</style>\n",
              "<table border=\"1\" class=\"dataframe\">\n",
              "  <thead>\n",
              "    <tr style=\"text-align: right;\">\n",
              "      <th></th>\n",
              "      <th>title</th>\n",
              "      <th>year</th>\n",
              "      <th>score</th>\n",
              "    </tr>\n",
              "  </thead>\n",
              "  <tbody>\n",
              "    <tr>\n",
              "      <th>0</th>\n",
              "      <td>Monty Python and the Holy Grail</td>\n",
              "      <td>1975</td>\n",
              "      <td>8.2</td>\n",
              "    </tr>\n",
              "    <tr>\n",
              "      <th>1</th>\n",
              "      <td>And Now for Something Completely Different</td>\n",
              "      <td>1971</td>\n",
              "      <td>7.5</td>\n",
              "    </tr>\n",
              "    <tr>\n",
              "      <th>2</th>\n",
              "      <td>Monty Python Live at the Hollywood Bowl</td>\n",
              "      <td>1982</td>\n",
              "      <td>7.9</td>\n",
              "    </tr>\n",
              "    <tr>\n",
              "      <th>3</th>\n",
              "      <td>Monty Python's The Meaning of Life</td>\n",
              "      <td>1983</td>\n",
              "      <td>7.5</td>\n",
              "    </tr>\n",
              "    <tr>\n",
              "      <th>4</th>\n",
              "      <td>Monty Python's Life of Brian</td>\n",
              "      <td>1979</td>\n",
              "      <td>8.0</td>\n",
              "    </tr>\n",
              "  </tbody>\n",
              "</table>\n",
              "</div>\n",
              "    <div class=\"colab-df-buttons\">\n",
              "\n",
              "  <div class=\"colab-df-container\">\n",
              "    <button class=\"colab-df-convert\" onclick=\"convertToInteractive('df-9daddd66-0e8f-47a5-88ed-fe96d9017425')\"\n",
              "            title=\"Convert this dataframe to an interactive table.\"\n",
              "            style=\"display:none;\">\n",
              "\n",
              "  <svg xmlns=\"http://www.w3.org/2000/svg\" height=\"24px\" viewBox=\"0 -960 960 960\">\n",
              "    <path d=\"M120-120v-720h720v720H120Zm60-500h600v-160H180v160Zm220 220h160v-160H400v160Zm0 220h160v-160H400v160ZM180-400h160v-160H180v160Zm440 0h160v-160H620v160ZM180-180h160v-160H180v160Zm440 0h160v-160H620v160Z\"/>\n",
              "  </svg>\n",
              "    </button>\n",
              "\n",
              "  <style>\n",
              "    .colab-df-container {\n",
              "      display:flex;\n",
              "      gap: 12px;\n",
              "    }\n",
              "\n",
              "    .colab-df-convert {\n",
              "      background-color: #E8F0FE;\n",
              "      border: none;\n",
              "      border-radius: 50%;\n",
              "      cursor: pointer;\n",
              "      display: none;\n",
              "      fill: #1967D2;\n",
              "      height: 32px;\n",
              "      padding: 0 0 0 0;\n",
              "      width: 32px;\n",
              "    }\n",
              "\n",
              "    .colab-df-convert:hover {\n",
              "      background-color: #E2EBFA;\n",
              "      box-shadow: 0px 1px 2px rgba(60, 64, 67, 0.3), 0px 1px 3px 1px rgba(60, 64, 67, 0.15);\n",
              "      fill: #174EA6;\n",
              "    }\n",
              "\n",
              "    .colab-df-buttons div {\n",
              "      margin-bottom: 4px;\n",
              "    }\n",
              "\n",
              "    [theme=dark] .colab-df-convert {\n",
              "      background-color: #3B4455;\n",
              "      fill: #D2E3FC;\n",
              "    }\n",
              "\n",
              "    [theme=dark] .colab-df-convert:hover {\n",
              "      background-color: #434B5C;\n",
              "      box-shadow: 0px 1px 3px 1px rgba(0, 0, 0, 0.15);\n",
              "      filter: drop-shadow(0px 1px 2px rgba(0, 0, 0, 0.3));\n",
              "      fill: #FFFFFF;\n",
              "    }\n",
              "  </style>\n",
              "\n",
              "    <script>\n",
              "      const buttonEl =\n",
              "        document.querySelector('#df-9daddd66-0e8f-47a5-88ed-fe96d9017425 button.colab-df-convert');\n",
              "      buttonEl.style.display =\n",
              "        google.colab.kernel.accessAllowed ? 'block' : 'none';\n",
              "\n",
              "      async function convertToInteractive(key) {\n",
              "        const element = document.querySelector('#df-9daddd66-0e8f-47a5-88ed-fe96d9017425');\n",
              "        const dataTable =\n",
              "          await google.colab.kernel.invokeFunction('convertToInteractive',\n",
              "                                                    [key], {});\n",
              "        if (!dataTable) return;\n",
              "\n",
              "        const docLinkHtml = 'Like what you see? Visit the ' +\n",
              "          '<a target=\"_blank\" href=https://colab.research.google.com/notebooks/data_table.ipynb>data table notebook</a>'\n",
              "          + ' to learn more about interactive tables.';\n",
              "        element.innerHTML = '';\n",
              "        dataTable['output_type'] = 'display_data';\n",
              "        await google.colab.output.renderOutput(dataTable, element);\n",
              "        const docLink = document.createElement('div');\n",
              "        docLink.innerHTML = docLinkHtml;\n",
              "        element.appendChild(docLink);\n",
              "      }\n",
              "    </script>\n",
              "  </div>\n",
              "\n",
              "\n",
              "    <div id=\"df-82b3cc22-adb6-4146-96be-6d1694945094\">\n",
              "      <button class=\"colab-df-quickchart\" onclick=\"quickchart('df-82b3cc22-adb6-4146-96be-6d1694945094')\"\n",
              "                title=\"Suggest charts\"\n",
              "                style=\"display:none;\">\n",
              "\n",
              "<svg xmlns=\"http://www.w3.org/2000/svg\" height=\"24px\"viewBox=\"0 0 24 24\"\n",
              "     width=\"24px\">\n",
              "    <g>\n",
              "        <path d=\"M19 3H5c-1.1 0-2 .9-2 2v14c0 1.1.9 2 2 2h14c1.1 0 2-.9 2-2V5c0-1.1-.9-2-2-2zM9 17H7v-7h2v7zm4 0h-2V7h2v10zm4 0h-2v-4h2v4z\"/>\n",
              "    </g>\n",
              "</svg>\n",
              "      </button>\n",
              "\n",
              "<style>\n",
              "  .colab-df-quickchart {\n",
              "      --bg-color: #E8F0FE;\n",
              "      --fill-color: #1967D2;\n",
              "      --hover-bg-color: #E2EBFA;\n",
              "      --hover-fill-color: #174EA6;\n",
              "      --disabled-fill-color: #AAA;\n",
              "      --disabled-bg-color: #DDD;\n",
              "  }\n",
              "\n",
              "  [theme=dark] .colab-df-quickchart {\n",
              "      --bg-color: #3B4455;\n",
              "      --fill-color: #D2E3FC;\n",
              "      --hover-bg-color: #434B5C;\n",
              "      --hover-fill-color: #FFFFFF;\n",
              "      --disabled-bg-color: #3B4455;\n",
              "      --disabled-fill-color: #666;\n",
              "  }\n",
              "\n",
              "  .colab-df-quickchart {\n",
              "    background-color: var(--bg-color);\n",
              "    border: none;\n",
              "    border-radius: 50%;\n",
              "    cursor: pointer;\n",
              "    display: none;\n",
              "    fill: var(--fill-color);\n",
              "    height: 32px;\n",
              "    padding: 0;\n",
              "    width: 32px;\n",
              "  }\n",
              "\n",
              "  .colab-df-quickchart:hover {\n",
              "    background-color: var(--hover-bg-color);\n",
              "    box-shadow: 0 1px 2px rgba(60, 64, 67, 0.3), 0 1px 3px 1px rgba(60, 64, 67, 0.15);\n",
              "    fill: var(--button-hover-fill-color);\n",
              "  }\n",
              "\n",
              "  .colab-df-quickchart-complete:disabled,\n",
              "  .colab-df-quickchart-complete:disabled:hover {\n",
              "    background-color: var(--disabled-bg-color);\n",
              "    fill: var(--disabled-fill-color);\n",
              "    box-shadow: none;\n",
              "  }\n",
              "\n",
              "  .colab-df-spinner {\n",
              "    border: 2px solid var(--fill-color);\n",
              "    border-color: transparent;\n",
              "    border-bottom-color: var(--fill-color);\n",
              "    animation:\n",
              "      spin 1s steps(1) infinite;\n",
              "  }\n",
              "\n",
              "  @keyframes spin {\n",
              "    0% {\n",
              "      border-color: transparent;\n",
              "      border-bottom-color: var(--fill-color);\n",
              "      border-left-color: var(--fill-color);\n",
              "    }\n",
              "    20% {\n",
              "      border-color: transparent;\n",
              "      border-left-color: var(--fill-color);\n",
              "      border-top-color: var(--fill-color);\n",
              "    }\n",
              "    30% {\n",
              "      border-color: transparent;\n",
              "      border-left-color: var(--fill-color);\n",
              "      border-top-color: var(--fill-color);\n",
              "      border-right-color: var(--fill-color);\n",
              "    }\n",
              "    40% {\n",
              "      border-color: transparent;\n",
              "      border-right-color: var(--fill-color);\n",
              "      border-top-color: var(--fill-color);\n",
              "    }\n",
              "    60% {\n",
              "      border-color: transparent;\n",
              "      border-right-color: var(--fill-color);\n",
              "    }\n",
              "    80% {\n",
              "      border-color: transparent;\n",
              "      border-right-color: var(--fill-color);\n",
              "      border-bottom-color: var(--fill-color);\n",
              "    }\n",
              "    90% {\n",
              "      border-color: transparent;\n",
              "      border-bottom-color: var(--fill-color);\n",
              "    }\n",
              "  }\n",
              "</style>\n",
              "\n",
              "      <script>\n",
              "        async function quickchart(key) {\n",
              "          const quickchartButtonEl =\n",
              "            document.querySelector('#' + key + ' button');\n",
              "          quickchartButtonEl.disabled = true;  // To prevent multiple clicks.\n",
              "          quickchartButtonEl.classList.add('colab-df-spinner');\n",
              "          try {\n",
              "            const charts = await google.colab.kernel.invokeFunction(\n",
              "                'suggestCharts', [key], {});\n",
              "          } catch (error) {\n",
              "            console.error('Error during call to suggestCharts:', error);\n",
              "          }\n",
              "          quickchartButtonEl.classList.remove('colab-df-spinner');\n",
              "          quickchartButtonEl.classList.add('colab-df-quickchart-complete');\n",
              "        }\n",
              "        (() => {\n",
              "          let quickchartButtonEl =\n",
              "            document.querySelector('#df-82b3cc22-adb6-4146-96be-6d1694945094 button');\n",
              "          quickchartButtonEl.style.display =\n",
              "            google.colab.kernel.accessAllowed ? 'block' : 'none';\n",
              "        })();\n",
              "      </script>\n",
              "    </div>\n",
              "\n",
              "  <div id=\"id_1f71eefb-6fc1-4db0-8520-b42b94d54b49\">\n",
              "    <style>\n",
              "      .colab-df-generate {\n",
              "        background-color: #E8F0FE;\n",
              "        border: none;\n",
              "        border-radius: 50%;\n",
              "        cursor: pointer;\n",
              "        display: none;\n",
              "        fill: #1967D2;\n",
              "        height: 32px;\n",
              "        padding: 0 0 0 0;\n",
              "        width: 32px;\n",
              "      }\n",
              "\n",
              "      .colab-df-generate:hover {\n",
              "        background-color: #E2EBFA;\n",
              "        box-shadow: 0px 1px 2px rgba(60, 64, 67, 0.3), 0px 1px 3px 1px rgba(60, 64, 67, 0.15);\n",
              "        fill: #174EA6;\n",
              "      }\n",
              "\n",
              "      [theme=dark] .colab-df-generate {\n",
              "        background-color: #3B4455;\n",
              "        fill: #D2E3FC;\n",
              "      }\n",
              "\n",
              "      [theme=dark] .colab-df-generate:hover {\n",
              "        background-color: #434B5C;\n",
              "        box-shadow: 0px 1px 3px 1px rgba(0, 0, 0, 0.15);\n",
              "        filter: drop-shadow(0px 1px 2px rgba(0, 0, 0, 0.3));\n",
              "        fill: #FFFFFF;\n",
              "      }\n",
              "    </style>\n",
              "    <button class=\"colab-df-generate\" onclick=\"generateWithVariable('df')\"\n",
              "            title=\"Generate code using this dataframe.\"\n",
              "            style=\"display:none;\">\n",
              "\n",
              "  <svg xmlns=\"http://www.w3.org/2000/svg\" height=\"24px\"viewBox=\"0 0 24 24\"\n",
              "       width=\"24px\">\n",
              "    <path d=\"M7,19H8.4L18.45,9,17,7.55,7,17.6ZM5,21V16.75L18.45,3.32a2,2,0,0,1,2.83,0l1.4,1.43a1.91,1.91,0,0,1,.58,1.4,1.91,1.91,0,0,1-.58,1.4L9.25,21ZM18.45,9,17,7.55Zm-12,3A5.31,5.31,0,0,0,4.9,8.1,5.31,5.31,0,0,0,1,6.5,5.31,5.31,0,0,0,4.9,4.9,5.31,5.31,0,0,0,6.5,1,5.31,5.31,0,0,0,8.1,4.9,5.31,5.31,0,0,0,12,6.5,5.46,5.46,0,0,0,6.5,12Z\"/>\n",
              "  </svg>\n",
              "    </button>\n",
              "    <script>\n",
              "      (() => {\n",
              "      const buttonEl =\n",
              "        document.querySelector('#id_1f71eefb-6fc1-4db0-8520-b42b94d54b49 button.colab-df-generate');\n",
              "      buttonEl.style.display =\n",
              "        google.colab.kernel.accessAllowed ? 'block' : 'none';\n",
              "\n",
              "      buttonEl.onclick = () => {\n",
              "        google.colab.notebook.generateWithVariable('df');\n",
              "      }\n",
              "      })();\n",
              "    </script>\n",
              "  </div>\n",
              "\n",
              "    </div>\n",
              "  </div>\n"
            ],
            "text/plain": [
              "                                        title  year  score\n",
              "0             Monty Python and the Holy Grail  1975    8.2\n",
              "1  And Now for Something Completely Different  1971    7.5\n",
              "2     Monty Python Live at the Hollywood Bowl  1982    7.9\n",
              "3          Monty Python's The Meaning of Life  1983    7.5\n",
              "4                Monty Python's Life of Brian  1979    8.0"
            ]
          },
          "metadata": {},
          "output_type": "display_data"
        }
      ],
      "source": [
        "import pandas as pd\n",
        "# Connect to the database\n",
        "con = sqlite3.connect(\"tutorial.db\")\n",
        "\n",
        "# Read the table into a pandas DataFrame\n",
        "df = pd.read_sql_query(\"SELECT * FROM movie\", con)\n",
        "\n",
        "# Display the DataFrame\n",
        "display(df)\n",
        "\n",
        "# Close the connection\n",
        "con.close()"
      ]
    },
    {
      "cell_type": "code",
      "execution_count": 15,
      "metadata": {
        "id": "Qgz7sPlC4UjX"
      },
      "outputs": [],
      "source": [
        "df.to_excel(\"movie.xlsx\")"
      ]
    },
    {
      "cell_type": "markdown",
      "metadata": {
        "id": "hdz2TF284vk0"
      },
      "source": [
        "### **4. superbase로 upload하고 확인하기**"
      ]
    },
    {
      "cell_type": "code",
      "execution_count": 16,
      "metadata": {
        "colab": {
          "base_uri": "https://localhost:8080/"
        },
        "id": "6YmqZQAX4mZq",
        "outputId": "da62c32e-c74d-4e3f-910a-18a03828e46d"
      },
      "outputs": [
        {
          "name": "stdout",
          "output_type": "stream",
          "text": [
            "✅ Supabase 클라이언트가 성공적으로 연결되었습니다.\n",
            "✅ 데이터가 Supabase에 성공적으로 업로드되었습니다.\n"
          ]
        }
      ],
      "source": [
        "\n",
        "# # Colab Secrets에서 URL과 Key를 가져옵니다.\n",
        "# supabase_url: str = 'https://gjuciogiegqiimposzkc.supabase.co'\n",
        "# supabase_key: str = userdata.get('supabase') # Use the correct secret name 'supabase'\n",
        "\n",
        "# Supabase 클라이언트 생성\n",
        "if supabase_url and supabase_key:\n",
        "    supabase: Client = create_client(supabase_url, supabase_key)\n",
        "    print(\"✅ Supabase 클라이언트가 성공적으로 연결되었습니다.\")\n",
        "\n",
        "    # DataFrame을 Supabase에 삽입\n",
        "    # 'movie'는 Supabase에 생성될 테이블 이름입니다.\n",
        "    # upsert=True는 충돌 발생 시 업데이트하도록 설정합니다.\n",
        "    try:\n",
        "        # Convert DataFrame to a list of dictionaries for Supabase insertion\n",
        "        data_to_insert = df.to_dict('records')\n",
        "\n",
        "        response = supabase.table(\"movie\").insert(data_to_insert).execute()\n",
        "\n",
        "        if response:\n",
        "            print(\"✅ 데이터가 Supabase에 성공적으로 업로드되었습니다.\")\n",
        "            # print(\"응답:\", response) # Uncomment to see the response\n",
        "\n",
        "        else:\n",
        "            print(\"⚠️ 데이터 업로드에 실패했습니다.\")\n",
        "            # print(\"응답:\", response) # Uncomment to see the response\n",
        "\n",
        "\n",
        "    except Exception as e:\n",
        "        print(f\"❌ 데이터 업로드 중 오류가 발생했습니다: {e}\")\n",
        "\n",
        "else:\n",
        "    print(\"⚠️ Colab Secrets에서 SUPABASE_URL 또는 SUPABASE_KEY를 찾을 수 없습니다. Secret 설정을 확인해주세요.\")"
      ]
    },
    {
      "cell_type": "code",
      "execution_count": 17,
      "metadata": {
        "colab": {
          "base_uri": "https://localhost:8080/"
        },
        "id": "uXiP7Hsq658z",
        "outputId": "51e997e1-2b5b-4c8b-b27c-9b85ba5ace94"
      },
      "outputs": [
        {
          "data": {
            "text/plain": [
              "[{'title': 'Monty Python and the Holy Grail', 'year': 1975, 'score': 8.2},\n",
              " {'title': 'And Now for Something Completely Different',\n",
              "  'year': 1971,\n",
              "  'score': 7.5},\n",
              " {'title': 'Monty Python Live at the Hollywood Bowl',\n",
              "  'year': 1982,\n",
              "  'score': 7.9},\n",
              " {'title': \"Monty Python's The Meaning of Life\", 'year': 1983, 'score': 7.5},\n",
              " {'title': \"Monty Python's Life of Brian\", 'year': 1979, 'score': 8.0}]"
            ]
          },
          "execution_count": 17,
          "metadata": {},
          "output_type": "execute_result"
        }
      ],
      "source": [
        "# DataFrame을 JSON으로 변환 (orient='records'로 리스트 형태 생성)\n",
        "movies_data = df.to_dict(orient='records')\n",
        "movies_data"
      ]
    },
    {
      "cell_type": "markdown",
      "metadata": {
        "id": "lclE1o-M8H3B"
      },
      "source": [
        "#### **먼저 Supabase에서 \"movie\" 테이블을 생성해야 함**\n"
      ]
    },
    {
      "cell_type": "code",
      "execution_count": 18,
      "metadata": {
        "colab": {
          "base_uri": "https://localhost:8080/",
          "height": 54
        },
        "id": "MvwP4Jgi74pK",
        "outputId": "55d63bcc-45e9-4804-de9d-d97a161a3949"
      },
      "outputs": [
        {
          "data": {
            "application/vnd.google.colaboratory.intrinsic+json": {
              "type": "string"
            },
            "text/plain": [
              "'\\nCREATE TABLE movie (\\n  id BIGSERIAL PRIMARY KEY,\\n  title TEXT NOT NULL,\\n  year INTEGER NOT NULL,\\n  score DOUBLE PRECISION NOT NULL,\\n  created_at TIMESTAMP WITH TIME ZONE DEFAULT NOW()\\n);\\n\\n-- RLS 비활성화 (개발/테스트용)\\nALTER TABLE movie DISABLE ROW LEVEL SECURITY;\\n'"
            ]
          },
          "execution_count": 18,
          "metadata": {},
          "output_type": "execute_result"
        }
      ],
      "source": [
        "'''\n",
        "CREATE TABLE movie (\n",
        "  id BIGSERIAL PRIMARY KEY,\n",
        "  title TEXT NOT NULL,\n",
        "  year INTEGER NOT NULL,\n",
        "  score DOUBLE PRECISION NOT NULL,\n",
        "  created_at TIMESTAMP WITH TIME ZONE DEFAULT NOW()\n",
        ");\n",
        "\n",
        "-- RLS 비활성화 (개발/테스트용)\n",
        "ALTER TABLE movie DISABLE ROW LEVEL SECURITY;\n",
        "'''"
      ]
    },
    {
      "cell_type": "code",
      "execution_count": 19,
      "metadata": {
        "colab": {
          "base_uri": "https://localhost:8080/"
        },
        "id": "Gndjncvj59FP",
        "outputId": "672d553c-b27d-4571-d762-4f64357bb54e"
      },
      "outputs": [
        {
          "name": "stdout",
          "output_type": "stream",
          "text": [
            "✅ Supabase 클라이언트가 성공적으로 연결되었습니다.\n",
            "📝 JSON 형태로 변환된 데이터:\n",
            "[{'title': 'Monty Python and the Holy Grail', 'year': 1975, 'score': 8.2}, {'title': 'And Now for Something Completely Different', 'year': 1971, 'score': 7.5}, {'title': 'Monty Python Live at the Hollywood Bowl', 'year': 1982, 'score': 7.9}, {'title': \"Monty Python's The Meaning of Life\", 'year': 1983, 'score': 7.5}, {'title': \"Monty Python's Life of Brian\", 'year': 1979, 'score': 8.0}]\n",
            "\n",
            "📤 영화 데이터를 Supabase에 업로드 중...\n",
            "✅ 5개의 영화 데이터가 성공적으로 저장되었습니다!\n",
            "\n",
            "저장된 데이터:\n",
            " id                                      title  year  score                       created_at\n",
            "  1            Monty Python and the Holy Grail  1975    8.2 2025-10-11T15:43:59.023636+00:00\n",
            "  2 And Now for Something Completely Different  1971    7.5 2025-10-11T15:43:59.023636+00:00\n",
            "  3    Monty Python Live at the Hollywood Bowl  1982    7.9 2025-10-11T15:43:59.023636+00:00\n",
            "  4         Monty Python's The Meaning of Life  1983    7.5 2025-10-11T15:43:59.023636+00:00\n",
            "  5               Monty Python's Life of Brian  1979    8.0 2025-10-11T15:43:59.023636+00:00\n",
            "  6            Monty Python and the Holy Grail  1975    8.2 2025-10-11T15:43:59.023636+00:00\n",
            "  7 And Now for Something Completely Different  1971    7.5 2025-10-11T15:43:59.023636+00:00\n",
            "  8    Monty Python Live at the Hollywood Bowl  1982    7.9 2025-10-11T15:43:59.023636+00:00\n",
            "  9         Monty Python's The Meaning of Life  1983    7.5 2025-10-11T15:43:59.023636+00:00\n",
            " 10               Monty Python's Life of Brian  1979    8.0 2025-10-11T15:43:59.023636+00:00\n",
            " 11            Monty Python and the Holy Grail  1975    8.2  2025-10-11T15:50:22.99991+00:00\n",
            " 12 And Now for Something Completely Different  1971    7.5  2025-10-11T15:50:22.99991+00:00\n",
            " 13    Monty Python Live at the Hollywood Bowl  1982    7.9  2025-10-11T15:50:22.99991+00:00\n",
            " 14         Monty Python's The Meaning of Life  1983    7.5  2025-10-11T15:50:22.99991+00:00\n",
            " 15               Monty Python's Life of Brian  1979    8.0  2025-10-11T15:50:22.99991+00:00\n",
            " 16            Monty Python and the Holy Grail  1975    8.2 2025-10-11T15:50:23.668807+00:00\n",
            " 17 And Now for Something Completely Different  1971    7.5 2025-10-11T15:50:23.668807+00:00\n",
            " 18    Monty Python Live at the Hollywood Bowl  1982    7.9 2025-10-11T15:50:23.668807+00:00\n",
            " 19         Monty Python's The Meaning of Life  1983    7.5 2025-10-11T15:50:23.668807+00:00\n",
            " 20               Monty Python's Life of Brian  1979    8.0 2025-10-11T15:50:23.668807+00:00\n"
          ]
        }
      ],
      "source": [
        "# # Supabase 연결 설정\n",
        "# supabase_key: str = userdata.get('superbase')\n",
        "# supabase_url: str = 'https://gjuciogiegqiimposzkc.supabase.co'\n",
        "\n",
        "# Supabase 클라이언트 생성\n",
        "if supabase_url and supabase_key:\n",
        "    supabase: Client = create_client(supabase_url, supabase_key)\n",
        "    print(\"✅ Supabase 클라이언트가 성공적으로 연결되었습니다.\")\n",
        "else:\n",
        "    print(\"⚠️ Colab Secrets에서 SUPABASE_URL 또는 SUPABASE_KEY를 찾을 수 없습니다.\")\n",
        "    exit()\n",
        "\n",
        "# DataFrame을 JSON으로 변환 (orient='records'로 리스트 형태 생성)\n",
        "movies_data = df.to_dict(orient='records')\n",
        "\n",
        "print(\"📝 JSON 형태로 변환된 데이터:\")\n",
        "print(movies_data)\n",
        "print()\n",
        "\n",
        "try:\n",
        "    # 데이터 삽입\n",
        "    print(\"📤 영화 데이터를 Supabase에 업로드 중...\")\n",
        "    response = supabase.table('movie').insert(movies_data).execute()\n",
        "\n",
        "    print(f\"✅ {len(movies_data)}개의 영화 데이터가 성공적으로 저장되었습니다!\")\n",
        "    print(\"\\n저장된 데이터:\")\n",
        "\n",
        "    # 저장된 데이터 확인\n",
        "    result = supabase.table('movie').select(\"*\").execute()\n",
        "    result_df = pd.DataFrame(result.data)\n",
        "    print(result_df.to_string(index=False))\n",
        "\n",
        "except Exception as e:\n",
        "    print(f\"❌ 오류 발생: {str(e)}\")"
      ]
    },
    {
      "cell_type": "code",
      "execution_count": 19,
      "metadata": {
        "id": "aaOqG4ko8s-C"
      },
      "outputs": [],
      "source": []
    }
  ],
  "metadata": {
    "colab": {
      "authorship_tag": "ABX9TyMFd6QEk6NlGam+CkxA6nOD",
      "include_colab_link": true,
      "provenance": []
    },
    "kernelspec": {
      "display_name": "Python 3",
      "name": "python3"
    },
    "language_info": {
      "name": "python"
    }
  },
  "nbformat": 4,
  "nbformat_minor": 0
}
