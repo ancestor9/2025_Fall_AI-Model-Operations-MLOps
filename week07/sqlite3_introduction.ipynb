{
  "nbformat": 4,
  "nbformat_minor": 0,
  "metadata": {
    "colab": {
      "provenance": [],
      "authorship_tag": "ABX9TyMXvA6yqboIj4ba3HRbMpQD",
      "include_colab_link": true
    },
    "kernelspec": {
      "name": "python3",
      "display_name": "Python 3"
    },
    "language_info": {
      "name": "python"
    }
  },
  "cells": [
    {
      "cell_type": "markdown",
      "metadata": {
        "id": "view-in-github",
        "colab_type": "text"
      },
      "source": [
        "<a href=\"https://colab.research.google.com/github/ancestor9/2025_Fall_AI-Model-Operations-MLOps/blob/main/week07/database_python/sqlite3_introduction.ipynb\" target=\"_parent\"><img src=\"https://colab.research.google.com/assets/colab-badge.svg\" alt=\"Open In Colab\"/></a>"
      ]
    },
    {
      "cell_type": "code",
      "execution_count": 1,
      "metadata": {
        "colab": {
          "base_uri": "https://localhost:8080/"
        },
        "id": "YTI0CT-W-lqb",
        "outputId": "9a1bfca6-f895-4165-978e-7cb8a8381f05"
      },
      "outputs": [
        {
          "output_type": "stream",
          "name": "stdout",
          "text": [
            "\n",
            "--- [CREATE] 테이블 생성 ---\n",
            "테이블 'users' 생성 완료.\n",
            "\n",
            "--- [C]reate: 새 사용자 추가 ---\n",
            "3개의 사용자 데이터 삽입 완료.\n",
            "\n",
            "--- [R]ead: 모든 사용자 조회 ---\n",
            "ID: 1, Name: spongebob, FullName: Spongebob Squarepants\n",
            "ID: 2, Name: patrick, FullName: Patrick Star\n",
            "ID: 3, Name: squidward, FullName: Squidward Tentacles\n",
            "\n",
            "--- [R]ead: 특정 사용자 (name='patrick') 조회 ---\n",
            "조회된 사용자: (2, 'patrick', 'Patrick Star')\n",
            "\n",
            "--- [U]pdate: 사용자 이름 수정 (Spongebob의 fullname) ---\n",
            "스폰지밥의 FullName이 'S. Squarepants'로 수정 완료.\n",
            "\n",
            "--- [D]elete: 사용자 (name='squidward') 삭제 ---\n",
            "Squidward 사용자 삭제 완료.\n",
            "\n",
            "--- [R]ead: 최종 데이터 확인 ---\n",
            "최종 데이터: (1, 'spongebob', 'S. Squarepants')\n",
            "최종 데이터: (2, 'patrick', 'Patrick Star')\n",
            "\n",
            "데이터베이스 'test_sqlite3.db' 연결 종료.\n"
          ]
        }
      ],
      "source": [
        "import sqlite3\n",
        "import os\n",
        "\n",
        "# 데이터베이스 파일 이름\n",
        "DB_NAME = \"test_sqlite3.db\"\n",
        "\n",
        "def init_db():\n",
        "    \"\"\"데이터베이스 파일을 생성하고 연결합니다.\"\"\"\n",
        "    # 파일이 이미 존재하면 삭제 (이전 실행 결과로 인한 문제 방지)\n",
        "    if os.path.exists(DB_NAME):\n",
        "        os.remove(DB_NAME)\n",
        "        print(f\"이전 데이터베이스 파일 '{DB_NAME}' 삭제 완료.\")\n",
        "\n",
        "    # 1. 데이터베이스 연결 (파일이 없으면 생성)\n",
        "    conn = sqlite3.connect(DB_NAME)\n",
        "    # Cursor 객체 생성 (SQL 명령을 실행하는 객체)\n",
        "    cursor = conn.cursor()\n",
        "\n",
        "    # 2. 테이블 생성 (CREATE)\n",
        "    print(\"\\n--- [CREATE] 테이블 생성 ---\")\n",
        "    try:\n",
        "        cursor.execute(\"\"\"\n",
        "            CREATE TABLE users (\n",
        "                id INTEGER PRIMARY KEY,\n",
        "                name TEXT NOT NULL,\n",
        "                fullname TEXT\n",
        "            )\n",
        "        \"\"\")\n",
        "        conn.commit() # 변경사항 확정 (커밋)\n",
        "        print(\"테이블 'users' 생성 완료.\")\n",
        "    except sqlite3.OperationalError as e:\n",
        "        print(f\"테이블 생성 오류: {e}\")\n",
        "\n",
        "    return conn\n",
        "\n",
        "def crud_operations(conn):\n",
        "    \"\"\"주요 CRUD 작업을 수행합니다.\"\"\"\n",
        "    cursor = conn.cursor()\n",
        "\n",
        "    # C (Create) - 데이터 삽입\n",
        "    print(\"\\n--- [C]reate: 새 사용자 추가 ---\")\n",
        "    users_data = [\n",
        "        ('spongebob', 'Spongebob Squarepants'),\n",
        "        ('patrick', 'Patrick Star'),\n",
        "        ('squidward', 'Squidward Tentacles')\n",
        "    ]\n",
        "    # 여러 행을 한 번에 삽입 (튜플 리스트 사용)\n",
        "    cursor.executemany(\"INSERT INTO users (name, fullname) VALUES (?, ?)\", users_data)\n",
        "    conn.commit()\n",
        "    print(f\"{len(users_data)}개의 사용자 데이터 삽입 완료.\")\n",
        "\n",
        "    # R (Read) - 데이터 읽기 (전체 조회)\n",
        "    print(\"\\n--- [R]ead: 모든 사용자 조회 ---\")\n",
        "    cursor.execute(\"SELECT id, name, fullname FROM users\")\n",
        "    rows = cursor.fetchall() # 모든 결과를 리스트 형태로 가져오기\n",
        "\n",
        "    for row in rows:\n",
        "        print(f\"ID: {row[0]}, Name: {row[1]}, FullName: {row[2]}\")\n",
        "\n",
        "    # R (Read) - 특정 조건 조회\n",
        "    print(\"\\n--- [R]ead: 특정 사용자 (name='patrick') 조회 ---\")\n",
        "    cursor.execute(\"SELECT * FROM users WHERE name = ?\", ('patrick',))\n",
        "    patrick_row = cursor.fetchone() # 하나의 결과만 가져오기\n",
        "    if patrick_row:\n",
        "        print(f\"조회된 사용자: {patrick_row}\")\n",
        "\n",
        "    # U (Update) - 데이터 수정\n",
        "    print(\"\\n--- [U]pdate: 사용자 이름 수정 (Spongebob의 fullname) ---\")\n",
        "    new_fullname = 'S. Squarepants'\n",
        "    cursor.execute(\"UPDATE users SET fullname = ? WHERE name = ?\", (new_fullname, 'spongebob'))\n",
        "    conn.commit()\n",
        "    print(f\"스폰지밥의 FullName이 '{new_fullname}'로 수정 완료.\")\n",
        "\n",
        "    # D (Delete) - 데이터 삭제\n",
        "    print(\"\\n--- [D]elete: 사용자 (name='squidward') 삭제 ---\")\n",
        "    cursor.execute(\"DELETE FROM users WHERE name = ?\", ('squidward',))\n",
        "    conn.commit()\n",
        "    print(\"Squidward 사용자 삭제 완료.\")\n",
        "\n",
        "    # R (Read) - 최종 확인\n",
        "    print(\"\\n--- [R]ead: 최종 데이터 확인 ---\")\n",
        "    cursor.execute(\"SELECT * FROM users\")\n",
        "    final_rows = cursor.fetchall()\n",
        "\n",
        "    if final_rows:\n",
        "        for row in final_rows:\n",
        "            print(f\"최종 데이터: {row}\")\n",
        "    else:\n",
        "        print(\"남아있는 데이터가 없습니다.\")\n",
        "\n",
        "\n",
        "# --- 메인 실행 ---\n",
        "if __name__ == \"__main__\":\n",
        "\n",
        "    # 데이터베이스 초기화 및 연결\n",
        "    conn = init_db()\n",
        "\n",
        "    try:\n",
        "        # CRUD 작업 실행\n",
        "        crud_operations(conn)\n",
        "\n",
        "    finally:\n",
        "        # 3. 연결 종료 (매우 중요)\n",
        "        conn.close()\n",
        "        print(f\"\\n데이터베이스 '{DB_NAME}' 연결 종료.\")"
      ]
    },
    {
      "cell_type": "markdown",
      "source": [
        "###"
      ],
      "metadata": {
        "id": "HSmWmC1J-tQp"
      }
    }
  ]
}