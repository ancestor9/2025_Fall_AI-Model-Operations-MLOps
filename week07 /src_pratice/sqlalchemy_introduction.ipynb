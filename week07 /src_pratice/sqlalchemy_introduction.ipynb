{
  "nbformat": 4,
  "nbformat_minor": 0,
  "metadata": {
    "colab": {
      "provenance": [],
      "authorship_tag": "ABX9TyPlhDRZj9bKYhd9L8DExSLV",
      "include_colab_link": true
    },
    "kernelspec": {
      "name": "python3",
      "display_name": "Python 3"
    },
    "language_info": {
      "name": "python"
    }
  },
  "cells": [
    {
      "cell_type": "markdown",
      "metadata": {
        "id": "view-in-github",
        "colab_type": "text"
      },
      "source": [
        "<a href=\"https://colab.research.google.com/github/ancestor9/2025_Fall_AI-Model-Operations-MLOps/blob/main/week07%20/src_pratice/sqlalchemy_introduction.ipynb\" target=\"_parent\"><img src=\"https://colab.research.google.com/assets/colab-badge.svg\" alt=\"Open In Colab\"/></a>"
      ]
    },
    {
      "cell_type": "code",
      "source": [
        "from sqlalchemy import create_engine, Column, Integer, String\n",
        "from sqlalchemy.orm import declarative_base, sessionmaker"
      ],
      "metadata": {
        "id": "WTr4dLeiaMoI"
      },
      "execution_count": 6,
      "outputs": []
    },
    {
      "cell_type": "markdown",
      "source": [
        "# 1. 데이터베이스 연결 설정 및 생성 (Engine) : 도서관 건물 만들기\n",
        "- 'sqlite:///test.db'는 현재 디렉토리에 'test.db' 파일을 생성하거나 연결\n",
        "- echo=True는 SQLAlchemy가 실행하는 모든 SQL 쿼리를 터미널에 출력"
      ],
      "metadata": {
        "id": "-oIHaoTpju5e"
      }
    },
    {
      "cell_type": "code",
      "source": [
        "engine = create_engine(\"sqlite:///test.db\", echo=True)"
      ],
      "metadata": {
        "id": "chGu7ulhj7lv"
      },
      "execution_count": 11,
      "outputs": []
    },
    {
      "cell_type": "markdown",
      "source": [
        "\n",
        "# 2. 모델(테이블 스키마) 정의를 위한 베이스 클래스 생성 : 책장 Template 만들기"
      ],
      "metadata": {
        "id": "rmCUmoecjv5e"
      }
    },
    {
      "cell_type": "code",
      "source": [
        "Base = declarative_base()"
      ],
      "metadata": {
        "id": "JsEbKaG1kMpv"
      },
      "execution_count": 12,
      "outputs": []
    },
    {
      "cell_type": "markdown",
      "source": [
        "# 3. 테이블 모델 정의 (Table Schema) : 실제 책장 만들기"
      ],
      "metadata": {
        "id": "mcvlBneWkRB2"
      }
    },
    {
      "cell_type": "code",
      "source": [
        "class User(Base):\n",
        "    # 데이터베이스 테이블 이름 설정\n",
        "    __tablename__ = 'users'\n",
        "\n",
        "    # 컬럼 정의: primary_key=True는 기본 키를 의미하며, autoincrement=True는 자동으로 증가\n",
        "    id = Column(Integer, primary_key=True)\n",
        "    name = Column(String)\n",
        "    fullname = Column(String)\n",
        "\n",
        "    # 객체를 출력할 때 보기 쉽게 표현하는 메서드\n",
        "    def __repr__(self):\n",
        "        return f\"User(id={self.id!r}, name={self.name!r}, fullname={self.fullname!r})\""
      ],
      "metadata": {
        "id": "tC7TYiNakNcw"
      },
      "execution_count": 13,
      "outputs": []
    },
    {
      "cell_type": "markdown",
      "source": [
        "# 4. 데이터베이스 테이블 생성 (DDL) :\n",
        "- Base에 정의된 모든 모델(테이블)을 데이터베이스에 생성"
      ],
      "metadata": {
        "id": "qvOkC4wrj05g"
      }
    },
    {
      "cell_type": "code",
      "source": [
        "Base.metadata.create_all(engine)\n"
      ],
      "metadata": {
        "id": "t8txbp0rkZuu"
      },
      "execution_count": null,
      "outputs": []
    },
    {
      "cell_type": "markdown",
      "source": [
        "# 5. 세션 생성 (Session) : DB 접속 입장 티켓 발급\n",
        "- sessionmaker는 세션을 생성할 때 필요한 설정(예: 어떤 데이터베이스 엔진(engine)을 사용할지, 트랜잭션 옵션은 무엇인지 등)을 미리 정의하고 저장"
      ],
      "metadata": {
        "id": "c6_S1RstkeRW"
      }
    },
    {
      "cell_type": "code",
      "source": [
        "Session = sessionmaker(bind=engine)"
      ],
      "metadata": {
        "id": "LAmrwJ_OkfDW"
      },
      "execution_count": 14,
      "outputs": []
    },
    {
      "cell_type": "markdown",
      "source": [
        "#### 데이터베이스와의 모든 상호작용은 세션 객체(Object)를 통해 이루어짐\n",
        "#### 세션 팩토리(Session)를 호출하여 **실제 데이터베이스 연결을 위한 세션 객체(session)**를 생성\n",
        "#### 이 session 객체가 바로 데이터베이스에 쿼리를 보내고, 데이터를 추가/수정/삭제하며, 트랜잭션을 관리하는 'DB 접속 입장 티켓' 역할"
      ],
      "metadata": {
        "id": "RzUF84MBkf6d"
      }
    },
    {
      "cell_type": "code",
      "source": [
        "session = Session()"
      ],
      "metadata": {
        "id": "pOZiip21kgju"
      },
      "execution_count": 15,
      "outputs": []
    },
    {
      "cell_type": "markdown",
      "source": [
        "# -------------------------------------------------------------\n",
        "# CRUD (Create, Read, Update, Delete) 작업 시작\n",
        "# -------------------------------------------------------------\n"
      ],
      "metadata": {
        "id": "bMQDWBn3j3Eu"
      }
    },
    {
      "cell_type": "code",
      "source": [
        "# C (Create) - 데이터 생성 및 삽입\n",
        "# -----------------------------------------\n",
        "print(\"\\n--- [C]reate: 새 사용자 추가 ---\")\n",
        "# User 객체(행) 생성\n",
        "user1 = User(name='spongebob', fullname='Spongebob Squarepants')\n",
        "user2 = User(name='patrick', fullname='Patrick Star')\n",
        "\n",
        "# 세션에 객체 추가 (이 시점에서는 데이터베이스에 반영되지 않음)\n",
        "session.add(user1)\n",
        "session.add(user2)\n",
        "\n",
        "# 세션의 변경 사항을 데이터베이스에 커밋(반영)\n",
        "session.commit()\n",
        "print(f\"추가된 사용자 1: {user1}\")\n",
        "print(f\"추가된 사용자 2: {user2}\")\n",
        "\n",
        "# R (Read) - 데이터 읽기 (조회)\n",
        "# -----------------------------------------\n",
        "print(\"\\n--- [R]ead: 모든 사용자 조회 ---\")\n",
        "# User 테이블의 모든 행(객체)을 조회\n",
        "for user in session.query(User).all():\n",
        "    print(user)\n",
        "\n",
        "print(\"\\n--- [R]ead: 특정 사용자 (ID 1) 조회 ---\")\n",
        "# 기본 키를 사용하여 특정 행(객체) 조회\n",
        "user_to_read = session.query(User).get(1)\n",
        "if user_to_read:\n",
        "    print(user_to_read)\n",
        "\n",
        "# U (Update) - 데이터 수정\n",
        "# -----------------------------------------\n",
        "print(\"\\n--- [U]pdate: 사용자 이름 수정 ---\")\n",
        "# 조회된 객체의 속성을 수정\n",
        "if user_to_read:\n",
        "    user_to_read.fullname = 'S. Squarepants'\n",
        "    print(f\"수정 후 (커밋 전): {user_to_read}\")\n",
        "\n",
        "    # 변경 사항 커밋\n",
        "    session.commit()\n",
        "    print(\"수정 사항 커밋 완료.\")\n",
        "\n",
        "# D (Delete) - 데이터 삭제\n",
        "# -----------------------------------------\n",
        "print(\"\\n--- [D]elete: 사용자 (ID 2) 삭제 ---\")\n",
        "# ID가 2인 사용자 조회\n",
        "user_to_delete = session.query(User).filter_by(name='patrick').first()\n",
        "\n",
        "if user_to_delete:\n",
        "    # 세션에서 객체 삭제\n",
        "    session.delete(user_to_delete)\n",
        "    print(f\"삭제할 사용자: {user_to_delete}\")\n",
        "\n",
        "    # 변경 사항 커밋\n",
        "    session.commit()\n",
        "    print(\"삭제 사항 커밋 완료.\")\n",
        "\n",
        "# R (Read) - 최종 확인\n",
        "print(\"\\n--- [R]ead: 삭제 후 남은 사용자 확인 ---\")\n",
        "for user in session.query(User).all():\n",
        "    print(user)\n"
      ],
      "metadata": {
        "colab": {
          "base_uri": "https://localhost:8080/"
        },
        "id": "WuXPp_GMk05V",
        "outputId": "bd37055a-69cc-480c-8218-ece6fe3e27c3"
      },
      "execution_count": 16,
      "outputs": [
        {
          "output_type": "stream",
          "name": "stdout",
          "text": [
            "\n",
            "--- [C]reate: 새 사용자 추가 ---\n",
            "2025-10-20 07:44:18,075 INFO sqlalchemy.engine.Engine BEGIN (implicit)\n"
          ]
        },
        {
          "output_type": "stream",
          "name": "stderr",
          "text": [
            "INFO:sqlalchemy.engine.Engine:BEGIN (implicit)\n"
          ]
        },
        {
          "output_type": "stream",
          "name": "stdout",
          "text": [
            "2025-10-20 07:44:18,082 INFO sqlalchemy.engine.Engine INSERT INTO users (name, fullname) VALUES (?, ?) RETURNING id\n"
          ]
        },
        {
          "output_type": "stream",
          "name": "stderr",
          "text": [
            "INFO:sqlalchemy.engine.Engine:INSERT INTO users (name, fullname) VALUES (?, ?) RETURNING id\n"
          ]
        },
        {
          "output_type": "stream",
          "name": "stdout",
          "text": [
            "2025-10-20 07:44:18,084 INFO sqlalchemy.engine.Engine [generated in 0.00018s (insertmanyvalues) 1/2 (ordered; batch not supported)] ('spongebob', 'Spongebob Squarepants')\n"
          ]
        },
        {
          "output_type": "stream",
          "name": "stderr",
          "text": [
            "INFO:sqlalchemy.engine.Engine:[generated in 0.00018s (insertmanyvalues) 1/2 (ordered; batch not supported)] ('spongebob', 'Spongebob Squarepants')\n"
          ]
        },
        {
          "output_type": "stream",
          "name": "stdout",
          "text": [
            "2025-10-20 07:44:18,088 INFO sqlalchemy.engine.Engine INSERT INTO users (name, fullname) VALUES (?, ?) RETURNING id\n"
          ]
        },
        {
          "output_type": "stream",
          "name": "stderr",
          "text": [
            "INFO:sqlalchemy.engine.Engine:INSERT INTO users (name, fullname) VALUES (?, ?) RETURNING id\n"
          ]
        },
        {
          "output_type": "stream",
          "name": "stdout",
          "text": [
            "2025-10-20 07:44:18,091 INFO sqlalchemy.engine.Engine [insertmanyvalues 2/2 (ordered; batch not supported)] ('patrick', 'Patrick Star')\n"
          ]
        },
        {
          "output_type": "stream",
          "name": "stderr",
          "text": [
            "INFO:sqlalchemy.engine.Engine:[insertmanyvalues 2/2 (ordered; batch not supported)] ('patrick', 'Patrick Star')\n"
          ]
        },
        {
          "output_type": "stream",
          "name": "stdout",
          "text": [
            "2025-10-20 07:44:18,094 INFO sqlalchemy.engine.Engine COMMIT\n"
          ]
        },
        {
          "output_type": "stream",
          "name": "stderr",
          "text": [
            "INFO:sqlalchemy.engine.Engine:COMMIT\n"
          ]
        },
        {
          "output_type": "stream",
          "name": "stdout",
          "text": [
            "2025-10-20 07:44:18,108 INFO sqlalchemy.engine.Engine BEGIN (implicit)\n"
          ]
        },
        {
          "output_type": "stream",
          "name": "stderr",
          "text": [
            "INFO:sqlalchemy.engine.Engine:BEGIN (implicit)\n"
          ]
        },
        {
          "output_type": "stream",
          "name": "stdout",
          "text": [
            "2025-10-20 07:44:18,112 INFO sqlalchemy.engine.Engine SELECT users.id AS users_id, users.name AS users_name, users.fullname AS users_fullname \n",
            "FROM users \n",
            "WHERE users.id = ?\n"
          ]
        },
        {
          "output_type": "stream",
          "name": "stderr",
          "text": [
            "INFO:sqlalchemy.engine.Engine:SELECT users.id AS users_id, users.name AS users_name, users.fullname AS users_fullname \n",
            "FROM users \n",
            "WHERE users.id = ?\n"
          ]
        },
        {
          "output_type": "stream",
          "name": "stdout",
          "text": [
            "2025-10-20 07:44:18,113 INFO sqlalchemy.engine.Engine [generated in 0.00134s] (4,)\n"
          ]
        },
        {
          "output_type": "stream",
          "name": "stderr",
          "text": [
            "INFO:sqlalchemy.engine.Engine:[generated in 0.00134s] (4,)\n"
          ]
        },
        {
          "output_type": "stream",
          "name": "stdout",
          "text": [
            "추가된 사용자 1: User(id=4, name='spongebob', fullname='Spongebob Squarepants')\n",
            "2025-10-20 07:44:18,119 INFO sqlalchemy.engine.Engine SELECT users.id AS users_id, users.name AS users_name, users.fullname AS users_fullname \n",
            "FROM users \n",
            "WHERE users.id = ?\n"
          ]
        },
        {
          "output_type": "stream",
          "name": "stderr",
          "text": [
            "INFO:sqlalchemy.engine.Engine:SELECT users.id AS users_id, users.name AS users_name, users.fullname AS users_fullname \n",
            "FROM users \n",
            "WHERE users.id = ?\n"
          ]
        },
        {
          "output_type": "stream",
          "name": "stdout",
          "text": [
            "2025-10-20 07:44:18,120 INFO sqlalchemy.engine.Engine [cached since 0.008714s ago] (5,)\n"
          ]
        },
        {
          "output_type": "stream",
          "name": "stderr",
          "text": [
            "INFO:sqlalchemy.engine.Engine:[cached since 0.008714s ago] (5,)\n"
          ]
        },
        {
          "output_type": "stream",
          "name": "stdout",
          "text": [
            "추가된 사용자 2: User(id=5, name='patrick', fullname='Patrick Star')\n",
            "\n",
            "--- [R]ead: 모든 사용자 조회 ---\n",
            "2025-10-20 07:44:18,127 INFO sqlalchemy.engine.Engine SELECT users.id AS users_id, users.name AS users_name, users.fullname AS users_fullname \n",
            "FROM users\n"
          ]
        },
        {
          "output_type": "stream",
          "name": "stderr",
          "text": [
            "INFO:sqlalchemy.engine.Engine:SELECT users.id AS users_id, users.name AS users_name, users.fullname AS users_fullname \n",
            "FROM users\n"
          ]
        },
        {
          "output_type": "stream",
          "name": "stdout",
          "text": [
            "2025-10-20 07:44:18,130 INFO sqlalchemy.engine.Engine [generated in 0.00236s] ()\n"
          ]
        },
        {
          "output_type": "stream",
          "name": "stderr",
          "text": [
            "INFO:sqlalchemy.engine.Engine:[generated in 0.00236s] ()\n"
          ]
        },
        {
          "output_type": "stream",
          "name": "stdout",
          "text": [
            "User(id=1, name='spongebob', fullname='S. Squarepants')\n",
            "User(id=2, name='spongebob', fullname='Spongebob Squarepants')\n",
            "User(id=3, name='spongebob', fullname='Spongebob Squarepants')\n",
            "User(id=4, name='spongebob', fullname='Spongebob Squarepants')\n",
            "User(id=5, name='patrick', fullname='Patrick Star')\n",
            "\n",
            "--- [R]ead: 특정 사용자 (ID 1) 조회 ---\n",
            "2025-10-20 07:44:18,135 INFO sqlalchemy.engine.Engine SELECT users.id AS users_id, users.name AS users_name, users.fullname AS users_fullname \n",
            "FROM users \n",
            "WHERE users.id = ?\n"
          ]
        },
        {
          "output_type": "stream",
          "name": "stderr",
          "text": [
            "/tmp/ipython-input-1429132590.py:26: LegacyAPIWarning: The Query.get() method is considered legacy as of the 1.x series of SQLAlchemy and becomes a legacy construct in 2.0. The method is now available as Session.get() (deprecated since: 2.0) (Background on SQLAlchemy 2.0 at: https://sqlalche.me/e/b8d9)\n",
            "  user_to_read = session.query(User).get(1)\n",
            "INFO:sqlalchemy.engine.Engine:SELECT users.id AS users_id, users.name AS users_name, users.fullname AS users_fullname \n",
            "FROM users \n",
            "WHERE users.id = ?\n"
          ]
        },
        {
          "output_type": "stream",
          "name": "stdout",
          "text": [
            "2025-10-20 07:44:18,138 INFO sqlalchemy.engine.Engine [generated in 0.00290s] (1,)\n"
          ]
        },
        {
          "output_type": "stream",
          "name": "stderr",
          "text": [
            "INFO:sqlalchemy.engine.Engine:[generated in 0.00290s] (1,)\n"
          ]
        },
        {
          "output_type": "stream",
          "name": "stdout",
          "text": [
            "User(id=1, name='spongebob', fullname='S. Squarepants')\n",
            "\n",
            "--- [U]pdate: 사용자 이름 수정 ---\n",
            "수정 후 (커밋 전): User(id=1, name='spongebob', fullname='S. Squarepants')\n",
            "2025-10-20 07:44:18,143 INFO sqlalchemy.engine.Engine COMMIT\n"
          ]
        },
        {
          "output_type": "stream",
          "name": "stderr",
          "text": [
            "INFO:sqlalchemy.engine.Engine:COMMIT\n"
          ]
        },
        {
          "output_type": "stream",
          "name": "stdout",
          "text": [
            "수정 사항 커밋 완료.\n",
            "\n",
            "--- [D]elete: 사용자 (ID 2) 삭제 ---\n",
            "2025-10-20 07:44:18,148 INFO sqlalchemy.engine.Engine BEGIN (implicit)\n"
          ]
        },
        {
          "output_type": "stream",
          "name": "stderr",
          "text": [
            "INFO:sqlalchemy.engine.Engine:BEGIN (implicit)\n"
          ]
        },
        {
          "output_type": "stream",
          "name": "stdout",
          "text": [
            "2025-10-20 07:44:18,152 INFO sqlalchemy.engine.Engine SELECT users.id AS users_id, users.name AS users_name, users.fullname AS users_fullname \n",
            "FROM users \n",
            "WHERE users.name = ?\n",
            " LIMIT ? OFFSET ?\n"
          ]
        },
        {
          "output_type": "stream",
          "name": "stderr",
          "text": [
            "INFO:sqlalchemy.engine.Engine:SELECT users.id AS users_id, users.name AS users_name, users.fullname AS users_fullname \n",
            "FROM users \n",
            "WHERE users.name = ?\n",
            " LIMIT ? OFFSET ?\n"
          ]
        },
        {
          "output_type": "stream",
          "name": "stdout",
          "text": [
            "2025-10-20 07:44:18,155 INFO sqlalchemy.engine.Engine [generated in 0.00321s] ('patrick', 1, 0)\n"
          ]
        },
        {
          "output_type": "stream",
          "name": "stderr",
          "text": [
            "INFO:sqlalchemy.engine.Engine:[generated in 0.00321s] ('patrick', 1, 0)\n"
          ]
        },
        {
          "output_type": "stream",
          "name": "stdout",
          "text": [
            "삭제할 사용자: User(id=5, name='patrick', fullname='Patrick Star')\n",
            "2025-10-20 07:44:18,161 INFO sqlalchemy.engine.Engine DELETE FROM users WHERE users.id = ?\n"
          ]
        },
        {
          "output_type": "stream",
          "name": "stderr",
          "text": [
            "INFO:sqlalchemy.engine.Engine:DELETE FROM users WHERE users.id = ?\n"
          ]
        },
        {
          "output_type": "stream",
          "name": "stdout",
          "text": [
            "2025-10-20 07:44:18,162 INFO sqlalchemy.engine.Engine [generated in 0.00144s] (5,)\n"
          ]
        },
        {
          "output_type": "stream",
          "name": "stderr",
          "text": [
            "INFO:sqlalchemy.engine.Engine:[generated in 0.00144s] (5,)\n"
          ]
        },
        {
          "output_type": "stream",
          "name": "stdout",
          "text": [
            "2025-10-20 07:44:18,165 INFO sqlalchemy.engine.Engine COMMIT\n"
          ]
        },
        {
          "output_type": "stream",
          "name": "stderr",
          "text": [
            "INFO:sqlalchemy.engine.Engine:COMMIT\n"
          ]
        },
        {
          "output_type": "stream",
          "name": "stdout",
          "text": [
            "삭제 사항 커밋 완료.\n",
            "\n",
            "--- [R]ead: 삭제 후 남은 사용자 확인 ---\n",
            "2025-10-20 07:44:18,177 INFO sqlalchemy.engine.Engine BEGIN (implicit)\n"
          ]
        },
        {
          "output_type": "stream",
          "name": "stderr",
          "text": [
            "INFO:sqlalchemy.engine.Engine:BEGIN (implicit)\n"
          ]
        },
        {
          "output_type": "stream",
          "name": "stdout",
          "text": [
            "2025-10-20 07:44:18,179 INFO sqlalchemy.engine.Engine SELECT users.id AS users_id, users.name AS users_name, users.fullname AS users_fullname \n",
            "FROM users\n"
          ]
        },
        {
          "output_type": "stream",
          "name": "stderr",
          "text": [
            "INFO:sqlalchemy.engine.Engine:SELECT users.id AS users_id, users.name AS users_name, users.fullname AS users_fullname \n",
            "FROM users\n"
          ]
        },
        {
          "output_type": "stream",
          "name": "stdout",
          "text": [
            "2025-10-20 07:44:18,182 INFO sqlalchemy.engine.Engine [cached since 0.05483s ago] ()\n"
          ]
        },
        {
          "output_type": "stream",
          "name": "stderr",
          "text": [
            "INFO:sqlalchemy.engine.Engine:[cached since 0.05483s ago] ()\n"
          ]
        },
        {
          "output_type": "stream",
          "name": "stdout",
          "text": [
            "User(id=1, name='spongebob', fullname='S. Squarepants')\n",
            "User(id=2, name='spongebob', fullname='Spongebob Squarepants')\n",
            "User(id=3, name='spongebob', fullname='Spongebob Squarepants')\n",
            "User(id=4, name='spongebob', fullname='Spongebob Squarepants')\n",
            "2025-10-20 07:44:18,185 INFO sqlalchemy.engine.Engine ROLLBACK\n"
          ]
        },
        {
          "output_type": "stream",
          "name": "stderr",
          "text": [
            "INFO:sqlalchemy.engine.Engine:ROLLBACK\n"
          ]
        }
      ]
    },
    {
      "cell_type": "markdown",
      "source": [
        "# 세션 닫기"
      ],
      "metadata": {
        "id": "-LaU0awMk6nm"
      }
    },
    {
      "cell_type": "code",
      "source": [
        "session.close()\n",
        "# test.db 파일이 생성되었으며, 실행 후에도 유지"
      ],
      "metadata": {
        "id": "mUoxx7Vnk7l3"
      },
      "execution_count": 17,
      "outputs": []
    },
    {
      "cell_type": "code",
      "source": [
        "import pandas as pd\n",
        "from sqlalchemy import create_engine, text\n",
        "\n",
        "# Database connection URL (assuming test.db is in the /content directory)\n",
        "db_url = \"sqlite:////content/test.db\"\n",
        "engine = create_engine(db_url)\n",
        "\n",
        "# SQL query to select all data from the \"users\" table\n",
        "query = \"SELECT * FROM users\"\n",
        "\n",
        "# Read the data into a pandas DataFrame\n",
        "try:\n",
        "    with engine.connect() as connection:\n",
        "        df = pd.read_sql(text(query), connection)\n",
        "\n",
        "    # Display the DataFrame\n",
        "    display(df)\n",
        "\n",
        "except Exception as e:\n",
        "    print(f\"An error occurred: {e}\")"
      ],
      "metadata": {
        "colab": {
          "base_uri": "https://localhost:8080/",
          "height": 89
        },
        "id": "CV9dvA36aM8w",
        "outputId": "ede2fc47-2a8e-45ed-d4a0-cd377ef94bf2"
      },
      "execution_count": 3,
      "outputs": [
        {
          "output_type": "display_data",
          "data": {
            "text/plain": [
              "   id       name        fullname\n",
              "0   1  spongebob  S. Squarepants"
            ],
            "text/html": [
              "\n",
              "  <div id=\"df-94018e71-44e3-40ac-81a7-f92d3eb1eba5\" class=\"colab-df-container\">\n",
              "    <div>\n",
              "<style scoped>\n",
              "    .dataframe tbody tr th:only-of-type {\n",
              "        vertical-align: middle;\n",
              "    }\n",
              "\n",
              "    .dataframe tbody tr th {\n",
              "        vertical-align: top;\n",
              "    }\n",
              "\n",
              "    .dataframe thead th {\n",
              "        text-align: right;\n",
              "    }\n",
              "</style>\n",
              "<table border=\"1\" class=\"dataframe\">\n",
              "  <thead>\n",
              "    <tr style=\"text-align: right;\">\n",
              "      <th></th>\n",
              "      <th>id</th>\n",
              "      <th>name</th>\n",
              "      <th>fullname</th>\n",
              "    </tr>\n",
              "  </thead>\n",
              "  <tbody>\n",
              "    <tr>\n",
              "      <th>0</th>\n",
              "      <td>1</td>\n",
              "      <td>spongebob</td>\n",
              "      <td>S. Squarepants</td>\n",
              "    </tr>\n",
              "  </tbody>\n",
              "</table>\n",
              "</div>\n",
              "    <div class=\"colab-df-buttons\">\n",
              "\n",
              "  <div class=\"colab-df-container\">\n",
              "    <button class=\"colab-df-convert\" onclick=\"convertToInteractive('df-94018e71-44e3-40ac-81a7-f92d3eb1eba5')\"\n",
              "            title=\"Convert this dataframe to an interactive table.\"\n",
              "            style=\"display:none;\">\n",
              "\n",
              "  <svg xmlns=\"http://www.w3.org/2000/svg\" height=\"24px\" viewBox=\"0 -960 960 960\">\n",
              "    <path d=\"M120-120v-720h720v720H120Zm60-500h600v-160H180v160Zm220 220h160v-160H400v160Zm0 220h160v-160H400v160ZM180-400h160v-160H180v160Zm440 0h160v-160H620v160ZM180-180h160v-160H180v160Zm440 0h160v-160H620v160Z\"/>\n",
              "  </svg>\n",
              "    </button>\n",
              "\n",
              "  <style>\n",
              "    .colab-df-container {\n",
              "      display:flex;\n",
              "      gap: 12px;\n",
              "    }\n",
              "\n",
              "    .colab-df-convert {\n",
              "      background-color: #E8F0FE;\n",
              "      border: none;\n",
              "      border-radius: 50%;\n",
              "      cursor: pointer;\n",
              "      display: none;\n",
              "      fill: #1967D2;\n",
              "      height: 32px;\n",
              "      padding: 0 0 0 0;\n",
              "      width: 32px;\n",
              "    }\n",
              "\n",
              "    .colab-df-convert:hover {\n",
              "      background-color: #E2EBFA;\n",
              "      box-shadow: 0px 1px 2px rgba(60, 64, 67, 0.3), 0px 1px 3px 1px rgba(60, 64, 67, 0.15);\n",
              "      fill: #174EA6;\n",
              "    }\n",
              "\n",
              "    .colab-df-buttons div {\n",
              "      margin-bottom: 4px;\n",
              "    }\n",
              "\n",
              "    [theme=dark] .colab-df-convert {\n",
              "      background-color: #3B4455;\n",
              "      fill: #D2E3FC;\n",
              "    }\n",
              "\n",
              "    [theme=dark] .colab-df-convert:hover {\n",
              "      background-color: #434B5C;\n",
              "      box-shadow: 0px 1px 3px 1px rgba(0, 0, 0, 0.15);\n",
              "      filter: drop-shadow(0px 1px 2px rgba(0, 0, 0, 0.3));\n",
              "      fill: #FFFFFF;\n",
              "    }\n",
              "  </style>\n",
              "\n",
              "    <script>\n",
              "      const buttonEl =\n",
              "        document.querySelector('#df-94018e71-44e3-40ac-81a7-f92d3eb1eba5 button.colab-df-convert');\n",
              "      buttonEl.style.display =\n",
              "        google.colab.kernel.accessAllowed ? 'block' : 'none';\n",
              "\n",
              "      async function convertToInteractive(key) {\n",
              "        const element = document.querySelector('#df-94018e71-44e3-40ac-81a7-f92d3eb1eba5');\n",
              "        const dataTable =\n",
              "          await google.colab.kernel.invokeFunction('convertToInteractive',\n",
              "                                                    [key], {});\n",
              "        if (!dataTable) return;\n",
              "\n",
              "        const docLinkHtml = 'Like what you see? Visit the ' +\n",
              "          '<a target=\"_blank\" href=https://colab.research.google.com/notebooks/data_table.ipynb>data table notebook</a>'\n",
              "          + ' to learn more about interactive tables.';\n",
              "        element.innerHTML = '';\n",
              "        dataTable['output_type'] = 'display_data';\n",
              "        await google.colab.output.renderOutput(dataTable, element);\n",
              "        const docLink = document.createElement('div');\n",
              "        docLink.innerHTML = docLinkHtml;\n",
              "        element.appendChild(docLink);\n",
              "      }\n",
              "    </script>\n",
              "  </div>\n",
              "\n",
              "\n",
              "  <div id=\"id_bda75838-9833-4ae1-9a57-b34e3c3601fb\">\n",
              "    <style>\n",
              "      .colab-df-generate {\n",
              "        background-color: #E8F0FE;\n",
              "        border: none;\n",
              "        border-radius: 50%;\n",
              "        cursor: pointer;\n",
              "        display: none;\n",
              "        fill: #1967D2;\n",
              "        height: 32px;\n",
              "        padding: 0 0 0 0;\n",
              "        width: 32px;\n",
              "      }\n",
              "\n",
              "      .colab-df-generate:hover {\n",
              "        background-color: #E2EBFA;\n",
              "        box-shadow: 0px 1px 2px rgba(60, 64, 67, 0.3), 0px 1px 3px 1px rgba(60, 64, 67, 0.15);\n",
              "        fill: #174EA6;\n",
              "      }\n",
              "\n",
              "      [theme=dark] .colab-df-generate {\n",
              "        background-color: #3B4455;\n",
              "        fill: #D2E3FC;\n",
              "      }\n",
              "\n",
              "      [theme=dark] .colab-df-generate:hover {\n",
              "        background-color: #434B5C;\n",
              "        box-shadow: 0px 1px 3px 1px rgba(0, 0, 0, 0.15);\n",
              "        filter: drop-shadow(0px 1px 2px rgba(0, 0, 0, 0.3));\n",
              "        fill: #FFFFFF;\n",
              "      }\n",
              "    </style>\n",
              "    <button class=\"colab-df-generate\" onclick=\"generateWithVariable('df')\"\n",
              "            title=\"Generate code using this dataframe.\"\n",
              "            style=\"display:none;\">\n",
              "\n",
              "  <svg xmlns=\"http://www.w3.org/2000/svg\" height=\"24px\"viewBox=\"0 0 24 24\"\n",
              "       width=\"24px\">\n",
              "    <path d=\"M7,19H8.4L18.45,9,17,7.55,7,17.6ZM5,21V16.75L18.45,3.32a2,2,0,0,1,2.83,0l1.4,1.43a1.91,1.91,0,0,1,.58,1.4,1.91,1.91,0,0,1-.58,1.4L9.25,21ZM18.45,9,17,7.55Zm-12,3A5.31,5.31,0,0,0,4.9,8.1,5.31,5.31,0,0,0,1,6.5,5.31,5.31,0,0,0,4.9,4.9,5.31,5.31,0,0,0,6.5,1,5.31,5.31,0,0,0,8.1,4.9,5.31,5.31,0,0,0,12,6.5,5.46,5.46,0,0,0,6.5,12Z\"/>\n",
              "  </svg>\n",
              "    </button>\n",
              "    <script>\n",
              "      (() => {\n",
              "      const buttonEl =\n",
              "        document.querySelector('#id_bda75838-9833-4ae1-9a57-b34e3c3601fb button.colab-df-generate');\n",
              "      buttonEl.style.display =\n",
              "        google.colab.kernel.accessAllowed ? 'block' : 'none';\n",
              "\n",
              "      buttonEl.onclick = () => {\n",
              "        google.colab.notebook.generateWithVariable('df');\n",
              "      }\n",
              "      })();\n",
              "    </script>\n",
              "  </div>\n",
              "\n",
              "    </div>\n",
              "  </div>\n"
            ],
            "application/vnd.google.colaboratory.intrinsic+json": {
              "type": "dataframe",
              "variable_name": "df",
              "summary": "{\n  \"name\": \"df\",\n  \"rows\": 1,\n  \"fields\": [\n    {\n      \"column\": \"id\",\n      \"properties\": {\n        \"dtype\": \"number\",\n        \"std\": null,\n        \"min\": 1,\n        \"max\": 1,\n        \"num_unique_values\": 1,\n        \"samples\": [\n          1\n        ],\n        \"semantic_type\": \"\",\n        \"description\": \"\"\n      }\n    },\n    {\n      \"column\": \"name\",\n      \"properties\": {\n        \"dtype\": \"string\",\n        \"num_unique_values\": 1,\n        \"samples\": [\n          \"spongebob\"\n        ],\n        \"semantic_type\": \"\",\n        \"description\": \"\"\n      }\n    },\n    {\n      \"column\": \"fullname\",\n      \"properties\": {\n        \"dtype\": \"string\",\n        \"num_unique_values\": 1,\n        \"samples\": [\n          \"S. Squarepants\"\n        ],\n        \"semantic_type\": \"\",\n        \"description\": \"\"\n      }\n    }\n  ]\n}"
            }
          },
          "metadata": {}
        }
      ]
    },
    {
      "cell_type": "markdown",
      "source": [
        "## SessionLocal()\n",
        "- 전역 세션을 사용하는 방식에서 벗어나 (모듈 레벨에서 session = Session()을 호출하여 단일 전역 세션을 생성하고 재사용)\n",
        "- 함수 수준에서 독립적이고 격리된 세션을 생성, 사용, 종료하는 표준 패턴을 적용하여 안정성, 재사용성, 확장성을 크게 높였"
      ],
      "metadata": {
        "id": "IVKyvHJzfxzK"
      }
    },
    {
      "cell_type": "code",
      "source": [],
      "metadata": {
        "id": "DBQ3A9hoaM_q"
      },
      "execution_count": null,
      "outputs": []
    },
    {
      "cell_type": "code",
      "source": [
        "from sqlalchemy import create_engine, Column, Integer, String\n",
        "from sqlalchemy.orm import declarative_base, sessionmaker, Session\n",
        "from typing import Generator\n",
        "\n",
        "# -------------------------------------------------------------\n",
        "# 1. 설정 및 기본 객체 정의 (모듈 레벨)\n",
        "# -------------------------------------------------------------\n",
        "\n",
        "# 데이터베이스 연결 설정\n",
        "SQLALCHEMY_DATABASE_URL = \"sqlite:///test.db\"\n",
        "\n",
        "# Engine 생성. SQLite는 기본적으로 check_same_thread=False가 필요할 수 있습니다.\n",
        "# (멀티 스레드 환경에서 세션을 공유하지 않아도 필요할 수 있음)\n",
        "engine = create_engine(\n",
        "    SQLALCHEMY_DATABASE_URL,\n",
        "    echo=True, # 실행되는 SQL 쿼리를 출력\n",
        "    connect_args={\"check_same_thread\": False}\n",
        ")\n",
        "\n",
        "# 모델 정의를 위한 베이스 클래스\n",
        "Base = declarative_base()\n",
        "\n",
        "# SessionLocal (세션 팩토리) 정의\n",
        "# autocommit=False: 트랜잭션 수동 관리 (commit 필요)\n",
        "# autoflush=False: flush를 명시적으로 호출할 때만 수행 (성능 향상)\n",
        "# bind=engine: 생성될 세션이 사용할 Engine 지정\n",
        "SessionLocal = sessionmaker(\n",
        "    autocommit=False,\n",
        "    autoflush=False,\n",
        "    bind=engine\n",
        ")\n",
        "\n",
        "# -------------------------------------------------------------\n",
        "# 2. 모델 정의\n",
        "# -------------------------------------------------------------\n",
        "\n",
        "class User(Base):\n",
        "    __tablename__ = 'users'\n",
        "\n",
        "    id = Column(Integer, primary_key=True)\n",
        "    name = Column(String)\n",
        "    fullname = Column(String)\n",
        "\n",
        "    def __repr__(self):\n",
        "        return f\"User(id={self.id!r}, name={self.name!r}, fullname={self.fullname!r})\"\n",
        "\n",
        "# -------------------------------------------------------------\n",
        "# 3. 유틸리티 함수 (데이터베이스 초기화 및 세션 관리)\n",
        "# -------------------------------------------------------------\n",
        "\n",
        "def initialize_db():\n",
        "    \"\"\"데이터베이스 테이블이 없으면 생성합니다.\"\"\"\n",
        "    print(\"--- [Initialization] 테이블 생성 ---\")\n",
        "    Base.metadata.create_all(bind=engine)\n",
        "\n",
        "def get_db() -> Generator[Session, None, None]:\n",
        "    \"\"\"\n",
        "    각 CRUD 작업에서 사용할 독립적인 세션을 생성하고,\n",
        "    작업 완료 후 세션을 닫아주는 의존성 주입 유틸리티 함수.\n",
        "    (with 문으로 사용하거나, yield를 통해 컨텍스트 관리자로 사용됨)\n",
        "    \"\"\"\n",
        "    db = SessionLocal()\n",
        "    try:\n",
        "        # yield를 통해 세션을 반환하고, 함수 종료 시 finally 블록 실행을 보장\n",
        "        yield db\n",
        "    finally:\n",
        "        db.close()\n",
        "        print(\">> Session Closed\")\n",
        "\n",
        "\n",
        "# -------------------------------------------------------------\n",
        "# 4. CRUD 작업 함수 정의 (get_db()를 사용하여 독립적인 세션 사용)\n",
        "# -------------------------------------------------------------\n",
        "\n",
        "def create_users():\n",
        "    \"\"\"새로운 사용자를 생성하고 커밋합니다 (Create).\"\"\"\n",
        "    # get_db()를 호출하여 새 세션을 얻고 with 문으로 자동으로 닫습니다.\n",
        "    with next(get_db()) as db:\n",
        "        print(\"\\n--- [C]reate: 새 사용자 추가 ---\")\n",
        "\n",
        "        # 이전 실행 시 데이터가 남아있을 수 있으므로, 간단히 모두 삭제 후 시작 (테스트용)\n",
        "        db.query(User).delete()\n",
        "        db.commit()\n",
        "\n",
        "        user1 = User(name='spongebob', fullname='Spongebob Squarepants')\n",
        "        user2 = User(name='patrick', fullname='Patrick Star')\n",
        "\n",
        "        db.add_all([user1, user2])\n",
        "        db.commit() # 커밋\n",
        "\n",
        "        # 커밋 후 ID를 받아오기 위해 객체 새로고침 (선택 사항)\n",
        "        db.refresh(user1)\n",
        "        db.refresh(user2)\n",
        "\n",
        "        print(f\"추가된 사용자 1: {user1}\")\n",
        "        print(f\"추가된 사용자 2: {user2}\")\n",
        "\n",
        "\n",
        "def read_users():\n",
        "    \"\"\"모든 사용자를 조회합니다 (Read).\"\"\"\n",
        "    # with next(get_db()) as db: 와 같은 표현이지만,\n",
        "    # 간단한 조회는 단일 세션에서 처리하고 닫습니다.\n",
        "    db = SessionLocal()\n",
        "    print(\"\\n--- [R]ead: 모든 사용자 조회 ---\")\n",
        "    users = db.query(User).all()\n",
        "    for user in users:\n",
        "        print(user)\n",
        "    db.close()\n",
        "\n",
        "\n",
        "def update_user(user_name: str, new_fullname: str):\n",
        "    \"\"\"특정 사용자의 전체 이름을 수정합니다 (Update).\"\"\"\n",
        "    with next(get_db()) as db:\n",
        "        print(f\"\\n--- [U]pdate: {user_name}의 이름 수정 ---\")\n",
        "\n",
        "        user_to_update = db.query(User).filter(User.name == user_name).first()\n",
        "\n",
        "        if user_to_update:\n",
        "            user_to_update.fullname = new_fullname\n",
        "            print(f\"수정 전: {user_to_update}\")\n",
        "\n",
        "            db.commit() # 커밋\n",
        "            print(\"수정 사항 커밋 완료.\")\n",
        "\n",
        "            # 변경 사항 확인을 위해 새로고침\n",
        "            db.refresh(user_to_update)\n",
        "            print(f\"수정 후: {user_to_update}\")\n",
        "        else:\n",
        "            print(f\"사용자 '{user_name}'를 찾을 수 없습니다.\")\n",
        "\n",
        "\n",
        "def delete_user(user_name: str):\n",
        "    \"\"\"특정 사용자를 삭제합니다 (Delete).\"\"\"\n",
        "    with next(get_db()) as db:\n",
        "        print(f\"\\n--- [D]elete: 사용자 {user_name} 삭제 ---\")\n",
        "\n",
        "        user_to_delete = db.query(User).filter(User.name == user_name).first()\n",
        "\n",
        "        if user_to_delete:\n",
        "            print(f\"삭제할 사용자: {user_to_delete}\")\n",
        "            db.delete(user_to_delete)\n",
        "            db.commit() # 커밋\n",
        "            print(\"삭제 사항 커밋 완료.\")\n",
        "        else:\n",
        "            print(f\"사용자 '{user_name}'를 찾을 수 없습니다.\")\n",
        "\n",
        "\n",
        "# -------------------------------------------------------------\n",
        "# 5. 메인 실행 로직\n",
        "# -------------------------------------------------------------\n",
        "\n",
        "if __name__ == \"__main__\":\n",
        "\n",
        "    # 1. 데이터베이스 초기화\n",
        "    initialize_db()\n",
        "\n",
        "    # 2. C (Create) 실행\n",
        "    create_users()\n",
        "\n",
        "    # 3. R (Read) 실행\n",
        "    read_users()\n",
        "\n",
        "    # 4. U (Update) 실행\n",
        "    update_user(user_name='spongebob', new_fullname='S. Squarepants')\n",
        "\n",
        "    # 5. D (Delete) 실행\n",
        "    delete_user(user_name='patrick')\n",
        "\n",
        "    # 6. R (Read) - 최종 확인\n",
        "    read_users()\n",
        "\n",
        "# 모든 작업이 get_db() 유틸리티를 통해 독립적인 세션을 사용하고 명시적으로 닫습니다."
      ],
      "metadata": {
        "colab": {
          "base_uri": "https://localhost:8080/"
        },
        "id": "77tPipT6aNCh",
        "outputId": "6a9f0c1f-9587-4037-80c4-1a50efcf7d6a"
      },
      "execution_count": 4,
      "outputs": [
        {
          "output_type": "stream",
          "name": "stdout",
          "text": [
            "--- [Initialization] 테이블 생성 ---\n",
            "2025-10-20 07:19:22,408 INFO sqlalchemy.engine.Engine BEGIN (implicit)\n"
          ]
        },
        {
          "output_type": "stream",
          "name": "stderr",
          "text": [
            "INFO:sqlalchemy.engine.Engine:BEGIN (implicit)\n"
          ]
        },
        {
          "output_type": "stream",
          "name": "stdout",
          "text": [
            "2025-10-20 07:19:22,410 INFO sqlalchemy.engine.Engine PRAGMA main.table_info(\"users\")\n"
          ]
        },
        {
          "output_type": "stream",
          "name": "stderr",
          "text": [
            "INFO:sqlalchemy.engine.Engine:PRAGMA main.table_info(\"users\")\n"
          ]
        },
        {
          "output_type": "stream",
          "name": "stdout",
          "text": [
            "2025-10-20 07:19:22,413 INFO sqlalchemy.engine.Engine [raw sql] ()\n"
          ]
        },
        {
          "output_type": "stream",
          "name": "stderr",
          "text": [
            "INFO:sqlalchemy.engine.Engine:[raw sql] ()\n"
          ]
        },
        {
          "output_type": "stream",
          "name": "stdout",
          "text": [
            "2025-10-20 07:19:22,417 INFO sqlalchemy.engine.Engine COMMIT\n"
          ]
        },
        {
          "output_type": "stream",
          "name": "stderr",
          "text": [
            "INFO:sqlalchemy.engine.Engine:COMMIT\n"
          ]
        },
        {
          "output_type": "stream",
          "name": "stdout",
          "text": [
            ">> Session Closed\n",
            "\n",
            "--- [C]reate: 새 사용자 추가 ---\n",
            "2025-10-20 07:19:22,421 INFO sqlalchemy.engine.Engine BEGIN (implicit)\n"
          ]
        },
        {
          "output_type": "stream",
          "name": "stderr",
          "text": [
            "INFO:sqlalchemy.engine.Engine:BEGIN (implicit)\n"
          ]
        },
        {
          "output_type": "stream",
          "name": "stdout",
          "text": [
            "2025-10-20 07:19:22,424 INFO sqlalchemy.engine.Engine DELETE FROM users\n"
          ]
        },
        {
          "output_type": "stream",
          "name": "stderr",
          "text": [
            "INFO:sqlalchemy.engine.Engine:DELETE FROM users\n"
          ]
        },
        {
          "output_type": "stream",
          "name": "stdout",
          "text": [
            "2025-10-20 07:19:22,426 INFO sqlalchemy.engine.Engine [generated in 0.00234s] ()\n"
          ]
        },
        {
          "output_type": "stream",
          "name": "stderr",
          "text": [
            "INFO:sqlalchemy.engine.Engine:[generated in 0.00234s] ()\n"
          ]
        },
        {
          "output_type": "stream",
          "name": "stdout",
          "text": [
            "2025-10-20 07:19:22,430 INFO sqlalchemy.engine.Engine COMMIT\n"
          ]
        },
        {
          "output_type": "stream",
          "name": "stderr",
          "text": [
            "INFO:sqlalchemy.engine.Engine:COMMIT\n"
          ]
        },
        {
          "output_type": "stream",
          "name": "stdout",
          "text": [
            "2025-10-20 07:19:22,445 INFO sqlalchemy.engine.Engine BEGIN (implicit)\n"
          ]
        },
        {
          "output_type": "stream",
          "name": "stderr",
          "text": [
            "INFO:sqlalchemy.engine.Engine:BEGIN (implicit)\n"
          ]
        },
        {
          "output_type": "stream",
          "name": "stdout",
          "text": [
            "2025-10-20 07:19:22,449 INFO sqlalchemy.engine.Engine INSERT INTO users (name, fullname) VALUES (?, ?) RETURNING id\n"
          ]
        },
        {
          "output_type": "stream",
          "name": "stderr",
          "text": [
            "INFO:sqlalchemy.engine.Engine:INSERT INTO users (name, fullname) VALUES (?, ?) RETURNING id\n"
          ]
        },
        {
          "output_type": "stream",
          "name": "stdout",
          "text": [
            "2025-10-20 07:19:22,451 INFO sqlalchemy.engine.Engine [generated in 0.00025s (insertmanyvalues) 1/2 (ordered; batch not supported)] ('spongebob', 'Spongebob Squarepants')\n"
          ]
        },
        {
          "output_type": "stream",
          "name": "stderr",
          "text": [
            "INFO:sqlalchemy.engine.Engine:[generated in 0.00025s (insertmanyvalues) 1/2 (ordered; batch not supported)] ('spongebob', 'Spongebob Squarepants')\n"
          ]
        },
        {
          "output_type": "stream",
          "name": "stdout",
          "text": [
            "2025-10-20 07:19:22,456 INFO sqlalchemy.engine.Engine INSERT INTO users (name, fullname) VALUES (?, ?) RETURNING id\n"
          ]
        },
        {
          "output_type": "stream",
          "name": "stderr",
          "text": [
            "INFO:sqlalchemy.engine.Engine:INSERT INTO users (name, fullname) VALUES (?, ?) RETURNING id\n"
          ]
        },
        {
          "output_type": "stream",
          "name": "stdout",
          "text": [
            "2025-10-20 07:19:22,460 INFO sqlalchemy.engine.Engine [insertmanyvalues 2/2 (ordered; batch not supported)] ('patrick', 'Patrick Star')\n"
          ]
        },
        {
          "output_type": "stream",
          "name": "stderr",
          "text": [
            "INFO:sqlalchemy.engine.Engine:[insertmanyvalues 2/2 (ordered; batch not supported)] ('patrick', 'Patrick Star')\n"
          ]
        },
        {
          "output_type": "stream",
          "name": "stdout",
          "text": [
            "2025-10-20 07:19:22,464 INFO sqlalchemy.engine.Engine COMMIT\n"
          ]
        },
        {
          "output_type": "stream",
          "name": "stderr",
          "text": [
            "INFO:sqlalchemy.engine.Engine:COMMIT\n"
          ]
        },
        {
          "output_type": "stream",
          "name": "stdout",
          "text": [
            "2025-10-20 07:19:22,478 INFO sqlalchemy.engine.Engine BEGIN (implicit)\n"
          ]
        },
        {
          "output_type": "stream",
          "name": "stderr",
          "text": [
            "INFO:sqlalchemy.engine.Engine:BEGIN (implicit)\n"
          ]
        },
        {
          "output_type": "stream",
          "name": "stdout",
          "text": [
            "2025-10-20 07:19:22,481 INFO sqlalchemy.engine.Engine SELECT users.id, users.name, users.fullname \n",
            "FROM users \n",
            "WHERE users.id = ?\n"
          ]
        },
        {
          "output_type": "stream",
          "name": "stderr",
          "text": [
            "INFO:sqlalchemy.engine.Engine:SELECT users.id, users.name, users.fullname \n",
            "FROM users \n",
            "WHERE users.id = ?\n"
          ]
        },
        {
          "output_type": "stream",
          "name": "stdout",
          "text": [
            "2025-10-20 07:19:22,484 INFO sqlalchemy.engine.Engine [generated in 0.00287s] (1,)\n"
          ]
        },
        {
          "output_type": "stream",
          "name": "stderr",
          "text": [
            "INFO:sqlalchemy.engine.Engine:[generated in 0.00287s] (1,)\n"
          ]
        },
        {
          "output_type": "stream",
          "name": "stdout",
          "text": [
            "2025-10-20 07:19:22,487 INFO sqlalchemy.engine.Engine SELECT users.id, users.name, users.fullname \n",
            "FROM users \n",
            "WHERE users.id = ?\n"
          ]
        },
        {
          "output_type": "stream",
          "name": "stderr",
          "text": [
            "INFO:sqlalchemy.engine.Engine:SELECT users.id, users.name, users.fullname \n",
            "FROM users \n",
            "WHERE users.id = ?\n"
          ]
        },
        {
          "output_type": "stream",
          "name": "stdout",
          "text": [
            "2025-10-20 07:19:22,490 INFO sqlalchemy.engine.Engine [cached since 0.009254s ago] (2,)\n"
          ]
        },
        {
          "output_type": "stream",
          "name": "stderr",
          "text": [
            "INFO:sqlalchemy.engine.Engine:[cached since 0.009254s ago] (2,)\n"
          ]
        },
        {
          "output_type": "stream",
          "name": "stdout",
          "text": [
            "추가된 사용자 1: User(id=1, name='spongebob', fullname='Spongebob Squarepants')\n",
            "추가된 사용자 2: User(id=2, name='patrick', fullname='Patrick Star')\n",
            "2025-10-20 07:19:22,493 INFO sqlalchemy.engine.Engine ROLLBACK\n"
          ]
        },
        {
          "output_type": "stream",
          "name": "stderr",
          "text": [
            "INFO:sqlalchemy.engine.Engine:ROLLBACK\n"
          ]
        },
        {
          "output_type": "stream",
          "name": "stdout",
          "text": [
            "\n",
            "--- [R]ead: 모든 사용자 조회 ---\n",
            "2025-10-20 07:19:22,497 INFO sqlalchemy.engine.Engine BEGIN (implicit)\n"
          ]
        },
        {
          "output_type": "stream",
          "name": "stderr",
          "text": [
            "INFO:sqlalchemy.engine.Engine:BEGIN (implicit)\n"
          ]
        },
        {
          "output_type": "stream",
          "name": "stdout",
          "text": [
            "2025-10-20 07:19:22,502 INFO sqlalchemy.engine.Engine SELECT users.id AS users_id, users.name AS users_name, users.fullname AS users_fullname \n",
            "FROM users\n"
          ]
        },
        {
          "output_type": "stream",
          "name": "stderr",
          "text": [
            "INFO:sqlalchemy.engine.Engine:SELECT users.id AS users_id, users.name AS users_name, users.fullname AS users_fullname \n",
            "FROM users\n"
          ]
        },
        {
          "output_type": "stream",
          "name": "stdout",
          "text": [
            "2025-10-20 07:19:22,504 INFO sqlalchemy.engine.Engine [generated in 0.00252s] ()\n"
          ]
        },
        {
          "output_type": "stream",
          "name": "stderr",
          "text": [
            "INFO:sqlalchemy.engine.Engine:[generated in 0.00252s] ()\n"
          ]
        },
        {
          "output_type": "stream",
          "name": "stdout",
          "text": [
            "User(id=1, name='spongebob', fullname='Spongebob Squarepants')\n",
            "User(id=2, name='patrick', fullname='Patrick Star')\n",
            "2025-10-20 07:19:22,508 INFO sqlalchemy.engine.Engine ROLLBACK\n"
          ]
        },
        {
          "output_type": "stream",
          "name": "stderr",
          "text": [
            "INFO:sqlalchemy.engine.Engine:ROLLBACK\n"
          ]
        },
        {
          "output_type": "stream",
          "name": "stdout",
          "text": [
            ">> Session Closed\n",
            "\n",
            "--- [U]pdate: spongebob의 이름 수정 ---\n",
            "2025-10-20 07:19:22,511 INFO sqlalchemy.engine.Engine BEGIN (implicit)\n"
          ]
        },
        {
          "output_type": "stream",
          "name": "stderr",
          "text": [
            "INFO:sqlalchemy.engine.Engine:BEGIN (implicit)\n"
          ]
        },
        {
          "output_type": "stream",
          "name": "stdout",
          "text": [
            "2025-10-20 07:19:22,517 INFO sqlalchemy.engine.Engine SELECT users.id AS users_id, users.name AS users_name, users.fullname AS users_fullname \n",
            "FROM users \n",
            "WHERE users.name = ?\n",
            " LIMIT ? OFFSET ?\n"
          ]
        },
        {
          "output_type": "stream",
          "name": "stderr",
          "text": [
            "INFO:sqlalchemy.engine.Engine:SELECT users.id AS users_id, users.name AS users_name, users.fullname AS users_fullname \n",
            "FROM users \n",
            "WHERE users.name = ?\n",
            " LIMIT ? OFFSET ?\n"
          ]
        },
        {
          "output_type": "stream",
          "name": "stdout",
          "text": [
            "2025-10-20 07:19:22,521 INFO sqlalchemy.engine.Engine [generated in 0.00446s] ('spongebob', 1, 0)\n"
          ]
        },
        {
          "output_type": "stream",
          "name": "stderr",
          "text": [
            "INFO:sqlalchemy.engine.Engine:[generated in 0.00446s] ('spongebob', 1, 0)\n"
          ]
        },
        {
          "output_type": "stream",
          "name": "stdout",
          "text": [
            "수정 전: User(id=1, name='spongebob', fullname='S. Squarepants')\n",
            "2025-10-20 07:19:22,527 INFO sqlalchemy.engine.Engine UPDATE users SET fullname=? WHERE users.id = ?\n"
          ]
        },
        {
          "output_type": "stream",
          "name": "stderr",
          "text": [
            "INFO:sqlalchemy.engine.Engine:UPDATE users SET fullname=? WHERE users.id = ?\n"
          ]
        },
        {
          "output_type": "stream",
          "name": "stdout",
          "text": [
            "2025-10-20 07:19:22,530 INFO sqlalchemy.engine.Engine [generated in 0.00352s] ('S. Squarepants', 1)\n"
          ]
        },
        {
          "output_type": "stream",
          "name": "stderr",
          "text": [
            "INFO:sqlalchemy.engine.Engine:[generated in 0.00352s] ('S. Squarepants', 1)\n"
          ]
        },
        {
          "output_type": "stream",
          "name": "stdout",
          "text": [
            "2025-10-20 07:19:22,533 INFO sqlalchemy.engine.Engine COMMIT\n"
          ]
        },
        {
          "output_type": "stream",
          "name": "stderr",
          "text": [
            "INFO:sqlalchemy.engine.Engine:COMMIT\n"
          ]
        },
        {
          "output_type": "stream",
          "name": "stdout",
          "text": [
            "수정 사항 커밋 완료.\n",
            "2025-10-20 07:19:22,548 INFO sqlalchemy.engine.Engine BEGIN (implicit)\n"
          ]
        },
        {
          "output_type": "stream",
          "name": "stderr",
          "text": [
            "INFO:sqlalchemy.engine.Engine:BEGIN (implicit)\n"
          ]
        },
        {
          "output_type": "stream",
          "name": "stdout",
          "text": [
            "2025-10-20 07:19:22,552 INFO sqlalchemy.engine.Engine SELECT users.id, users.name, users.fullname \n",
            "FROM users \n",
            "WHERE users.id = ?\n"
          ]
        },
        {
          "output_type": "stream",
          "name": "stderr",
          "text": [
            "INFO:sqlalchemy.engine.Engine:SELECT users.id, users.name, users.fullname \n",
            "FROM users \n",
            "WHERE users.id = ?\n"
          ]
        },
        {
          "output_type": "stream",
          "name": "stdout",
          "text": [
            "2025-10-20 07:19:22,555 INFO sqlalchemy.engine.Engine [cached since 0.07412s ago] (1,)\n"
          ]
        },
        {
          "output_type": "stream",
          "name": "stderr",
          "text": [
            "INFO:sqlalchemy.engine.Engine:[cached since 0.07412s ago] (1,)\n"
          ]
        },
        {
          "output_type": "stream",
          "name": "stdout",
          "text": [
            "수정 후: User(id=1, name='spongebob', fullname='S. Squarepants')\n",
            "2025-10-20 07:19:22,558 INFO sqlalchemy.engine.Engine ROLLBACK\n"
          ]
        },
        {
          "output_type": "stream",
          "name": "stderr",
          "text": [
            "INFO:sqlalchemy.engine.Engine:ROLLBACK\n"
          ]
        },
        {
          "output_type": "stream",
          "name": "stdout",
          "text": [
            ">> Session Closed\n",
            "\n",
            "--- [D]elete: 사용자 patrick 삭제 ---\n",
            "2025-10-20 07:19:22,563 INFO sqlalchemy.engine.Engine BEGIN (implicit)\n"
          ]
        },
        {
          "output_type": "stream",
          "name": "stderr",
          "text": [
            "INFO:sqlalchemy.engine.Engine:BEGIN (implicit)\n"
          ]
        },
        {
          "output_type": "stream",
          "name": "stdout",
          "text": [
            "2025-10-20 07:19:22,566 INFO sqlalchemy.engine.Engine SELECT users.id AS users_id, users.name AS users_name, users.fullname AS users_fullname \n",
            "FROM users \n",
            "WHERE users.name = ?\n",
            " LIMIT ? OFFSET ?\n"
          ]
        },
        {
          "output_type": "stream",
          "name": "stderr",
          "text": [
            "INFO:sqlalchemy.engine.Engine:SELECT users.id AS users_id, users.name AS users_name, users.fullname AS users_fullname \n",
            "FROM users \n",
            "WHERE users.name = ?\n",
            " LIMIT ? OFFSET ?\n"
          ]
        },
        {
          "output_type": "stream",
          "name": "stdout",
          "text": [
            "2025-10-20 07:19:22,567 INFO sqlalchemy.engine.Engine [cached since 0.05053s ago] ('patrick', 1, 0)\n"
          ]
        },
        {
          "output_type": "stream",
          "name": "stderr",
          "text": [
            "INFO:sqlalchemy.engine.Engine:[cached since 0.05053s ago] ('patrick', 1, 0)\n"
          ]
        },
        {
          "output_type": "stream",
          "name": "stdout",
          "text": [
            "삭제할 사용자: User(id=2, name='patrick', fullname='Patrick Star')\n",
            "2025-10-20 07:19:22,572 INFO sqlalchemy.engine.Engine DELETE FROM users WHERE users.id = ?\n"
          ]
        },
        {
          "output_type": "stream",
          "name": "stderr",
          "text": [
            "INFO:sqlalchemy.engine.Engine:DELETE FROM users WHERE users.id = ?\n"
          ]
        },
        {
          "output_type": "stream",
          "name": "stdout",
          "text": [
            "2025-10-20 07:19:22,576 INFO sqlalchemy.engine.Engine [generated in 0.00414s] (2,)\n"
          ]
        },
        {
          "output_type": "stream",
          "name": "stderr",
          "text": [
            "INFO:sqlalchemy.engine.Engine:[generated in 0.00414s] (2,)\n"
          ]
        },
        {
          "output_type": "stream",
          "name": "stdout",
          "text": [
            "2025-10-20 07:19:22,580 INFO sqlalchemy.engine.Engine COMMIT\n"
          ]
        },
        {
          "output_type": "stream",
          "name": "stderr",
          "text": [
            "INFO:sqlalchemy.engine.Engine:COMMIT\n"
          ]
        },
        {
          "output_type": "stream",
          "name": "stdout",
          "text": [
            "삭제 사항 커밋 완료.\n",
            "\n",
            "--- [R]ead: 모든 사용자 조회 ---\n",
            "2025-10-20 07:19:22,590 INFO sqlalchemy.engine.Engine BEGIN (implicit)\n"
          ]
        },
        {
          "output_type": "stream",
          "name": "stderr",
          "text": [
            "INFO:sqlalchemy.engine.Engine:BEGIN (implicit)\n"
          ]
        },
        {
          "output_type": "stream",
          "name": "stdout",
          "text": [
            "2025-10-20 07:19:22,592 INFO sqlalchemy.engine.Engine SELECT users.id AS users_id, users.name AS users_name, users.fullname AS users_fullname \n",
            "FROM users\n"
          ]
        },
        {
          "output_type": "stream",
          "name": "stderr",
          "text": [
            "INFO:sqlalchemy.engine.Engine:SELECT users.id AS users_id, users.name AS users_name, users.fullname AS users_fullname \n",
            "FROM users\n"
          ]
        },
        {
          "output_type": "stream",
          "name": "stdout",
          "text": [
            "2025-10-20 07:19:22,594 INFO sqlalchemy.engine.Engine [cached since 0.09175s ago] ()\n"
          ]
        },
        {
          "output_type": "stream",
          "name": "stderr",
          "text": [
            "INFO:sqlalchemy.engine.Engine:[cached since 0.09175s ago] ()\n"
          ]
        },
        {
          "output_type": "stream",
          "name": "stdout",
          "text": [
            "User(id=1, name='spongebob', fullname='S. Squarepants')\n",
            "2025-10-20 07:19:22,596 INFO sqlalchemy.engine.Engine ROLLBACK\n"
          ]
        },
        {
          "output_type": "stream",
          "name": "stderr",
          "text": [
            "INFO:sqlalchemy.engine.Engine:ROLLBACK\n"
          ]
        }
      ]
    },
    {
      "cell_type": "code",
      "source": [],
      "metadata": {
        "id": "EvbJ_k8QaNFg"
      },
      "execution_count": null,
      "outputs": []
    },
    {
      "cell_type": "code",
      "source": [],
      "metadata": {
        "id": "M9G_p5cSaNHg"
      },
      "execution_count": null,
      "outputs": []
    },
    {
      "cell_type": "code",
      "source": [],
      "metadata": {
        "id": "5EqVBbWeaNK4"
      },
      "execution_count": null,
      "outputs": []
    }
  ]
}