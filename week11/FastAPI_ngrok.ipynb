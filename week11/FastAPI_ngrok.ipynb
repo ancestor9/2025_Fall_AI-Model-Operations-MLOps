{
  "nbformat": 4,
  "nbformat_minor": 0,
  "metadata": {
    "colab": {
      "provenance": [],
      "authorship_tag": "ABX9TyPLaa22sxExXxAbteQkZa9x",
      "include_colab_link": true
    },
    "kernelspec": {
      "name": "python3",
      "display_name": "Python 3"
    },
    "language_info": {
      "name": "python"
    }
  },
  "cells": [
    {
      "cell_type": "markdown",
      "metadata": {
        "id": "view-in-github",
        "colab_type": "text"
      },
      "source": [
        "<a href=\"https://colab.research.google.com/github/ancestor9/2025_Fall_AI-Model-Operations-MLOps/blob/main/week09/FastAPI_ngrok.ipynb\" target=\"_parent\"><img src=\"https://colab.research.google.com/assets/colab-badge.svg\" alt=\"Open In Colab\"/></a>"
      ]
    },
    {
      "cell_type": "code",
      "source": [
        "# !pip install fastapi uvicorn\n",
        "! pip install pyngrok -q"
      ],
      "metadata": {
        "id": "2bsiFaGA9YU4"
      },
      "execution_count": null,
      "outputs": []
    },
    {
      "cell_type": "markdown",
      "source": [
        "### **[ngrok API Key 발급받기](https://ngrok.com/)**\n",
        "<img src='https://velog.velcdn.com/images/kya754/post/6890ccfe-7a49-40cb-bf99-d51807f8f450/68747470733a2f2f6e67726f6b2e636f6d2f7374617469632f696d672f6f766572766965772e706e67.png'>"
      ],
      "metadata": {
        "id": "U4mt_oxqiFx-"
      }
    },
    {
      "cell_type": "code",
      "source": [
        "from fastapi import FastAPI\n",
        "from pyngrok import ngrok\n",
        "import uvicorn\n",
        "import os\n",
        "import threading\n",
        "\n",
        "app = FastAPI()\n",
        "\n",
        "@app.get(\"/\")\n",
        "def read_root():\n",
        "    return {\"Hello\": \"World\"}\n",
        "\n",
        "\n",
        "################### ngrok #########################\n",
        "from google.colab import userdata\n",
        "NGROK_API_KEY = userdata.get('ngrok')\n",
        "print(NGROK_API_KEY[::2])\n",
        "ngrok.set_auth_token(NGROK_API_KEY)\n",
        "\n",
        "def run_uvicorn():\n",
        "    uvicorn.run(app, host=\"0.0.0.0\", port=8000)\n",
        "\n",
        "if __name__ == \"__main__\":\n",
        "    # Open a HTTP tunnel on the default port 8000\n",
        "    http_tunnel = ngrok.connect(8000)\n",
        "    print(f\"Public URL: {http_tunnel.public_url}\")\n",
        "\n",
        "    # Run uvicorn in a separate thread\n",
        "    uvicorn_thread = threading.Thread(target=run_uvicorn)\n",
        "    uvicorn_thread.start()"
      ],
      "metadata": {
        "id": "gSMiV3TlEvgl",
        "colab": {
          "base_uri": "https://localhost:8080/"
        },
        "outputId": "c1c15b83-cb68-4062-9bb2-268cca48c4b4"
      },
      "execution_count": null,
      "outputs": [
        {
          "output_type": "stream",
          "name": "stdout",
          "text": [
            "2c4ebpOXVlOcPt58UJ9CoevJ5\n",
            "Public URL: https://05e529c68f81.ngrok-free.app\n"
          ]
        }
      ]
    },
    {
      "cell_type": "code",
      "source": [
        "import uvicorn\n",
        "import nest_asyncio\n",
        "from fastapi import FastAPI\n",
        "from pyngrok import ngrok\n",
        "import threading\n",
        "import time\n",
        "\n",
        "from google.colab import userdata\n",
        "your_auth_token_here = userdata.get('ngrok')\n",
        "\n",
        "# FastAPI 애플리케이션 인스턴스 생성\n",
        "app = FastAPI(title=\"FastAPI with ngrok\", description=\"Lightning AI에서 실행되는 FastAPI 서버\")\n",
        "\n",
        "ngrok.set_auth_token(your_auth_token_here)\n",
        "\n",
        "# 루트 경로('/')에 대한 GET 요청 핸들러\n",
        "@app.get(\"/\")\n",
        "def home():\n",
        "    return {\n",
        "        \"message\": \"안녕하세요! FastAPI가 성공적으로 실행되고 있습니다!\",\n",
        "        \"status\": \"running\",\n",
        "        \"platform\": \"Lightning AI\"\n",
        "    }\n",
        "\n",
        "@app.get(\"/health\")\n",
        "def health_check():\n",
        "    return {\"status\": \"healthy\", \"service\": \"FastAPI\"}\n",
        "\n",
        "# Uvicorn 서버를 비동기적으로 실행하기 위한 설정\n",
        "nest_asyncio.apply()\n",
        "\n",
        "def run_server():\n",
        "    \"\"\"별도 스레드에서 FastAPI 서버 실행\"\"\"\n",
        "    print(\"FastAPI 서버를 시작합니다...\")\n",
        "    uvicorn.run(app, host=\"0.0.0.0\", port=8000, log_level=\"info\", reload=False)\n",
        "\n",
        "def setup_ngrok():\n",
        "    \"\"\"ngrok 터널 설정\"\"\"\n",
        "    try:\n",
        "        # ngrok authtoken 설정 (필요한 경우)\n",
        "        # ngrok.set_auth_token(\"your_auth_token_here\")  # 실제 토큰으로 교체하세요\n",
        "\n",
        "        print(\"ngrok 터널을 생성합니다...\")\n",
        "\n",
        "        # ngrok 터널 생성\n",
        "        public_url = ngrok.connect(8000, \"http\")\n",
        "\n",
        "        print(\"=\" * 50)\n",
        "        print(f\"🎉 성공! 외부에서 접근 가능한 URL: {public_url}\")\n",
        "        print(\"=\" * 50)\n",
        "        print(\"사용 가능한 엔드포인트:\")\n",
        "        print(f\"  • 홈페이지: {public_url}/\")\n",
        "        print(f\"  • 헬스체크: {public_url}/health\")\n",
        "        print(f\"  • API 문서: {public_url}/docs\")\n",
        "        print(f\"  • ReDoc: {public_url}/redoc\")\n",
        "        print(\"=\" * 50)\n",
        "\n",
        "        return public_url\n",
        "\n",
        "    except Exception as e:\n",
        "        print(f\"ngrok 설정 중 오류 발생: {e}\")\n",
        "        print(\"\\n해결 방법:\")\n",
        "        print(\"1. ngrok 계정이 있는지 확인하세요 (https://ngrok.com/)\")\n",
        "        print(\"2. authtoken을 설정하세요:\")\n",
        "        print(\"   ngrok.set_auth_token('your_token_here')\")\n",
        "        print(\"3. 또는 Lightning AI의 포트 포워딩을 사용하세요\")\n",
        "        return None\n",
        "\n",
        "if __name__ == \"__main__\":\n",
        "    # 서버를 별도 스레드에서 시작\n",
        "    server_thread = threading.Thread(target=run_server, daemon=True)\n",
        "    server_thread.start()\n",
        "\n",
        "    # 서버가 시작될 때까지 잠시 대기\n",
        "    print(\"서버 시작을 기다리는 중...\")\n",
        "    time.sleep(3)\n",
        "\n",
        "    # ngrok 터널 설정\n",
        "    public_url = setup_ngrok()\n",
        "\n",
        "    if public_url:\n",
        "        print(f\"\\n서버가 성공적으로 실행되었습니다!\")\n",
        "        print(\"서버를 중지하려면 Ctrl+C를 누르세요...\")\n",
        "\n",
        "        try:\n",
        "            # 서버가 계속 실행되도록 유지\n",
        "            server_thread.join()\n",
        "        except KeyboardInterrupt:\n",
        "            print(\"\\n서버를 종료합니다...\")\n",
        "            ngrok.disconnect(public_url)\n",
        "            ngrok.kill()\n",
        "    else:\n",
        "        print(\"\\nngrok 설정에 실패했습니다. Lightning AI 포트 포워딩을 사용하세요.\")\n",
        "        print(\"포트 8000이 포워딩되어 있는지 확인하세요.\")"
      ],
      "metadata": {
        "colab": {
          "base_uri": "https://localhost:8080/"
        },
        "id": "wHZC4Kkf9TYa",
        "outputId": "faf34b25-e160-40cd-90c6-fca3c2ff66d8"
      },
      "execution_count": 9,
      "outputs": [
        {
          "output_type": "stream",
          "name": "stdout",
          "text": [
            "FastAPI 서버를 시작합니다...\n",
            "서버 시작을 기다리는 중...\n"
          ]
        },
        {
          "output_type": "stream",
          "name": "stderr",
          "text": [
            "INFO:     Started server process [377]\n",
            "INFO:     Waiting for application startup.\n",
            "INFO:     Application startup complete.\n",
            "ERROR:    [Errno 98] error while attempting to bind on address ('0.0.0.0', 8000): [errno 98] address already in use\n",
            "INFO:     Waiting for application shutdown.\n",
            "INFO:     Application shutdown complete.\n"
          ]
        },
        {
          "output_type": "stream",
          "name": "stdout",
          "text": [
            "ngrok 터널을 생성합니다...\n",
            "==================================================\n",
            "🎉 성공! 외부에서 접근 가능한 URL: NgrokTunnel: \"https://a7524d89322d.ngrok-free.app\" -> \"http://localhost:8000\"\n",
            "==================================================\n",
            "사용 가능한 엔드포인트:\n",
            "  • 홈페이지: NgrokTunnel: \"https://a7524d89322d.ngrok-free.app\" -> \"http://localhost:8000\"/\n",
            "  • 헬스체크: NgrokTunnel: \"https://a7524d89322d.ngrok-free.app\" -> \"http://localhost:8000\"/health\n",
            "  • API 문서: NgrokTunnel: \"https://a7524d89322d.ngrok-free.app\" -> \"http://localhost:8000\"/docs\n",
            "  • ReDoc: NgrokTunnel: \"https://a7524d89322d.ngrok-free.app\" -> \"http://localhost:8000\"/redoc\n",
            "==================================================\n",
            "\n",
            "서버가 성공적으로 실행되었습니다!\n",
            "서버를 중지하려면 Ctrl+C를 누르세요...\n"
          ]
        }
      ]
    },
    {
      "cell_type": "code",
      "source": [
        "!kill $(lsof -t -i:8000)"
      ],
      "metadata": {
        "colab": {
          "base_uri": "https://localhost:8080/"
        },
        "id": "uvJuDHI8ETrB",
        "outputId": "b74f6d66-3acc-4e94-9bec-b50d3a8bb53c"
      },
      "execution_count": null,
      "outputs": [
        {
          "output_type": "stream",
          "name": "stdout",
          "text": [
            "kill: usage: kill [-s sigspec | -n signum | -sigspec] pid | jobspec ... or kill -l [sigspec]\n"
          ]
        }
      ]
    },
    {
      "cell_type": "code",
      "source": [],
      "metadata": {
        "id": "1bv9rvW-gTJh"
      },
      "execution_count": null,
      "outputs": []
    }
  ]
}