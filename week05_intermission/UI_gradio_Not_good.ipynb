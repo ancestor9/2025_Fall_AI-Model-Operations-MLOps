{
  "nbformat": 4,
  "nbformat_minor": 0,
  "metadata": {
    "colab": {
      "provenance": [],
      "authorship_tag": "ABX9TyPNYHIJMgcg+me9TS9AzD7L",
      "include_colab_link": true
    },
    "kernelspec": {
      "name": "python3",
      "display_name": "Python 3"
    },
    "language_info": {
      "name": "python"
    }
  },
  "cells": [
    {
      "cell_type": "markdown",
      "metadata": {
        "id": "view-in-github",
        "colab_type": "text"
      },
      "source": [
        "<a href=\"https://colab.research.google.com/github/ancestor9/2025_Fall_AI-Model-Operations-MLOps/blob/main/week05_intermission/UI_gradio_Not_good.ipynb\" target=\"_parent\"><img src=\"https://colab.research.google.com/assets/colab-badge.svg\" alt=\"Open In Colab\"/></a>"
      ]
    },
    {
      "cell_type": "code",
      "execution_count": 4,
      "metadata": {
        "colab": {
          "base_uri": "https://localhost:8080/"
        },
        "id": "oTXK3rQWZ1rF",
        "outputId": "db487284-1e5f-4085-963c-500814e7b4fe"
      },
      "outputs": [
        {
          "output_type": "stream",
          "name": "stdout",
          "text": [
            "기존 DB 파일 'faker_sales_data.db' 삭제 완료.\n",
            "✅ 10개의 가상 고객 데이터 생성 및 삽입 완료.\n",
            "✅ 10개의 가상 상품 데이터 생성 및 삽입 완료.\n",
            "\n",
            "==================================================\n",
            "      🛒 3가지 주요 거래 유형 시뮬레이션 시작\n",
            "==================================================\n",
            "1. 구매 (Purchase): 고객 '황지영' | 상품 ID 10 | 1개 | 금액: 33069.00\n",
            "   - (선행) 구매: 고객 '강영희' | 상품 ID 7 | 5개 | 금액: 162305.00\n",
            "2. 반품 (Return): 고객 '강영희' | 상품 ID 7 | 2개 | 금액: -64922.00\n",
            "3. 취소 (Cancel): 고객 '황지영' | 상품 ID 7 | 1개 | 금액: -32461.00\n",
            "==================================================\n",
            "\n",
            "██████████████████████████████████████████████████████████████████████\n",
            "      🧾 최종 거래 기록 조회 (Transaction Data with Details) 🧾\n",
            "██████████████████████████████████████████████████████████████████████\n",
            "ID   | 고객명    | 상품명              | 유형       | 수량   |         금액 | 날짜                 \n",
            "----------------------------------------------------------------------\n",
            "1    | 황지영    | atque 제품         | Purchase | 1    |   33069.00 | 2025-10-04 08:48:48\n",
            "2    | 강영희    | 대용량 보조배터리        | Purchase | 5    |  162305.00 | 2025-10-04 08:48:48\n",
            "3    | 강영희    | 대용량 보조배터리        | Return   | 2    |  -64922.00 | 2025-10-04 08:48:48\n",
            "4    | 황지영    | 대용량 보조배터리        | Cancel   | 1    |  -32461.00 | 2025-10-04 08:48:48\n",
            "██████████████████████████████████████████████████████████████████████\n",
            "\n",
            "데이터베이스 연결이 종료되었습니다.\n"
          ]
        }
      ],
      "source": [
        "import sqlite3\n",
        "from datetime import datetime\n",
        "import random\n",
        "from faker import Faker\n",
        "\n",
        "# Faker 인스턴스 생성 (한국어 로케일 사용)\n",
        "fake = Faker('ko_KR')\n",
        "\n",
        "DB_NAME = 'faker_sales_data.db'\n",
        "\n",
        "# --- 1. 데이터베이스 설정 및 테이블 생성 ---\n",
        "\n",
        "def setup_database(db_name):\n",
        "    \"\"\"DB에 연결하고 필요한 테이블을 생성합니다.\"\"\"\n",
        "    conn = sqlite3.connect(db_name)\n",
        "    cur = conn.cursor()\n",
        "\n",
        "    # 테이블 생성 쿼리\n",
        "    cur.execute(\"\"\"\n",
        "        CREATE TABLE IF NOT EXISTS product (\n",
        "            product_id INTEGER PRIMARY KEY,\n",
        "            name TEXT NOT NULL,\n",
        "            price REAL NOT NULL\n",
        "        )\n",
        "    \"\"\")\n",
        "\n",
        "    cur.execute(\"\"\"\n",
        "        CREATE TABLE IF NOT EXISTS customer (\n",
        "            customer_id INTEGER PRIMARY KEY,\n",
        "            name TEXT NOT NULL,\n",
        "            email TEXT\n",
        "        )\n",
        "    \"\"\")\n",
        "\n",
        "    cur.execute(\"\"\"\n",
        "        CREATE TABLE IF NOT EXISTS transactions (\n",
        "            transaction_id INTEGER PRIMARY KEY,\n",
        "            customer_id INTEGER NOT NULL,\n",
        "            product_id INTEGER NOT NULL,\n",
        "            transaction_type TEXT NOT NULL, -- 'Purchase', 'Return', 'Cancel'\n",
        "            quantity INTEGER NOT NULL,\n",
        "            amount REAL NOT NULL,\n",
        "            transaction_date TEXT NOT NULL,\n",
        "            FOREIGN KEY (customer_id) REFERENCES customer(customer_id),\n",
        "            FOREIGN KEY (product_id) REFERENCES product(product_id)\n",
        "        )\n",
        "    \"\"\")\n",
        "    conn.commit()\n",
        "    return conn, cur\n",
        "\n",
        "# --- 2. Faker를 사용한 가상 데이터 생성 ---\n",
        "\n",
        "def generate_sample_data(cur, num_records=10):\n",
        "    \"\"\"Faker를 사용하여 가상 고객 및 상품 데이터를 생성하고 DB에 삽입합니다.\"\"\"\n",
        "\n",
        "    # 2-1. 가상 고객 데이터 생성\n",
        "    customers = []\n",
        "    for _ in range(num_records):\n",
        "        name = fake.name()\n",
        "        email = fake.email()\n",
        "        customers.append((name, email))\n",
        "\n",
        "    # executemany로 한 번에 삽입\n",
        "    cur.executemany(\"INSERT INTO customer (name, email) VALUES (?, ?)\", customers)\n",
        "    print(f\"✅ {num_records}개의 가상 고객 데이터 생성 및 삽입 완료.\")\n",
        "\n",
        "    # 2-2. 가상 상품 데이터 생성\n",
        "    products = []\n",
        "    # 상품 이름을 좀 더 다양하게 하기 위해 리스트 정의\n",
        "    product_names = [fake.color_name() + \" 키보드\", \"프리미엄 \" + fake.word() + \" 마우스\",\n",
        "                     \"4K \" + fake.word() + \" 모니터\", \"최신형 \" + fake.word() + \" 노트북\",\n",
        "                     \"무선 \" + fake.word() + \" 이어폰\", \"대용량 보조배터리\",\n",
        "                     \"고속 충전기\", \"인체공학 \" + fake.word() + \" 의자\", fake.job() + \" 서적\"]\n",
        "\n",
        "    unique_names = random.sample(product_names, min(len(product_names), num_records))\n",
        "\n",
        "    for i in range(num_records):\n",
        "        name = unique_names[i] if i < len(unique_names) else fake.word() + \" 제품\"\n",
        "        # 가격은 만원 단위로 랜덤하게 설정\n",
        "        price = round(random.uniform(10.0, 500.0), 2) * 100\n",
        "        products.append((name, price))\n",
        "\n",
        "    cur.executemany(\"INSERT INTO product (name, price) VALUES (?, ?)\", products)\n",
        "    print(f\"✅ {num_records}개의 가상 상품 데이터 생성 및 삽입 완료.\")\n",
        "\n",
        "    # 삽입된 데이터를 가져와 거래에 사용하기 위함\n",
        "    cur.execute(\"SELECT customer_id, name FROM customer\")\n",
        "    customer_list = cur.fetchall()\n",
        "    cur.execute(\"SELECT product_id, price FROM product\")\n",
        "    product_list = cur.fetchall()\n",
        "\n",
        "    return customer_list, product_list\n",
        "\n",
        "# --- 3. 거래 기록 함수 ---\n",
        "\n",
        "def record_transaction(conn, cur, customer_id, product_id, trans_type, quantity, unit_price):\n",
        "    \"\"\"단일 거래를 DB의 transactions 테이블에 기록합니다.\"\"\"\n",
        "    trans_date = datetime.now().strftime('%Y-%m-%d %H:%M:%S')\n",
        "\n",
        "    # 거래 타입에 따라 금액 계산 (반품/취소는 마이너스)\n",
        "    if trans_type == 'Purchase':\n",
        "        amount = quantity * unit_price\n",
        "    elif trans_type in ['Return', 'Cancel']:\n",
        "        amount = -(quantity * unit_price)\n",
        "    else:\n",
        "        print(f\"알 수 없는 거래 유형: {trans_type}\")\n",
        "        return\n",
        "\n",
        "    cur.execute(\"\"\"\n",
        "        INSERT INTO transactions (customer_id, product_id, transaction_type, quantity, amount, transaction_date)\n",
        "        VALUES (?, ?, ?, ?, ?, ?)\n",
        "    \"\"\", (customer_id, product_id, trans_type, quantity, amount, trans_date))\n",
        "\n",
        "    conn.commit()\n",
        "\n",
        "# --- 4. 거래 시뮬레이션 함수 ---\n",
        "\n",
        "def simulate_transactions(conn, cur, customer_list, product_list):\n",
        "    \"\"\"3건의 주요 거래 유형(구매, 반품, 취소)을 시뮬레이션합니다.\"\"\"\n",
        "    print(\"\\n\" + \"=\"*50)\n",
        "    print(\"      🛒 3가지 주요 거래 유형 시뮬레이션 시작\")\n",
        "    print(\"=\"*50)\n",
        "\n",
        "    # 필요한 정보 무작위 추출\n",
        "    cust1_id, cust1_name = random.choice(customer_list)\n",
        "    cust2_id, cust2_name = random.choice([c for c in customer_list if c[0] != cust1_id]) # cust1과 다른 고객\n",
        "    prod1_id, prod1_price = random.choice(product_list)\n",
        "    prod2_id, prod2_price = random.choice([p for p in product_list if p[0] != prod1_id]) # prod1과 다른 상품\n",
        "\n",
        "    # 1. 구매 (Purchase) 거래\n",
        "    qty_purchase = random.randint(1, 3)\n",
        "    record_transaction(conn, cur, cust1_id, prod1_id, 'Purchase', qty_purchase, prod1_price)\n",
        "    print(f\"1. 구매 (Purchase): 고객 '{cust1_name}' | 상품 ID {prod1_id} | {qty_purchase}개 | 금액: {qty_purchase * prod1_price:.2f}\")\n",
        "\n",
        "    # 2. 반품 (Return) 거래 (구매 기록 후 반품)\n",
        "    # 2-1. 먼저 구매 기록\n",
        "    qty_bought = random.randint(2, 5)\n",
        "    record_transaction(conn, cur, cust2_id, prod2_id, 'Purchase', qty_bought, prod2_price)\n",
        "    print(f\"   - (선행) 구매: 고객 '{cust2_name}' | 상품 ID {prod2_id} | {qty_bought}개 | 금액: {qty_bought * prod2_price:.2f}\")\n",
        "\n",
        "    # 2-2. 반품 기록 (구매 수량보다 적거나 같게)\n",
        "    qty_return = random.randint(1, qty_bought)\n",
        "    record_transaction(conn, cur, cust2_id, prod2_id, 'Return', qty_return, prod2_price)\n",
        "    print(f\"2. 반품 (Return): 고객 '{cust2_name}' | 상품 ID {prod2_id} | {qty_return}개 | 금액: {-qty_return * prod2_price:.2f}\")\n",
        "\n",
        "    # 3. 취소 (Cancel) 거래\n",
        "    qty_cancel = 1\n",
        "    record_transaction(conn, cur, cust1_id, prod2_id, 'Cancel', qty_cancel, prod2_price)\n",
        "    print(f\"3. 취소 (Cancel): 고객 '{cust1_name}' | 상품 ID {prod2_id} | {qty_cancel}개 | 금액: {-qty_cancel * prod2_price:.2f}\")\n",
        "\n",
        "    print(\"=\"*50)\n",
        "\n",
        "# --- 5. 최종 거래 데이터 조회 함수 ---\n",
        "\n",
        "def view_transactions(cur):\n",
        "    \"\"\"모든 거래 기록을 JOIN하여 상세 정보와 함께 조회합니다.\"\"\"\n",
        "    print(\"\\n\" + \"█\"*70)\n",
        "    print(\"      🧾 최종 거래 기록 조회 (Transaction Data with Details) 🧾\")\n",
        "    print(\"█\"*70)\n",
        "\n",
        "    cur.execute(\"\"\"\n",
        "        SELECT\n",
        "            t.transaction_id,\n",
        "            c.name AS customer_name,\n",
        "            p.name AS product_name,\n",
        "            t.transaction_type,\n",
        "            t.quantity,\n",
        "            t.amount,\n",
        "            t.transaction_date\n",
        "        FROM transactions t\n",
        "        JOIN customer c ON t.customer_id = c.customer_id\n",
        "        JOIN product p ON t.product_id = p.product_id\n",
        "        ORDER BY t.transaction_id\n",
        "    \"\"\")\n",
        "    transactions = cur.fetchall()\n",
        "\n",
        "    if not transactions:\n",
        "        print(\"거래 기록이 없습니다.\")\n",
        "        return\n",
        "\n",
        "    # 결과 출력\n",
        "    header = f\"{'ID':<4} | {'고객명':<6} | {'상품명':<16} | {'유형':<8} | {'수량':<4} | {'금액':>10} | {'날짜':<19}\"\n",
        "    print(header)\n",
        "    print(\"-\" * 70)\n",
        "    for trans in transactions:\n",
        "        (trans_id, cust_name, prod_name, trans_type, qty, amt, date) = trans\n",
        "        print(f\"{trans_id:<4} | {cust_name:<6} | {prod_name[:14]:<16} | {trans_type:<8} | {qty:<4} | {amt:>10.2f} | {date}\")\n",
        "    print(\"█\"*70)\n",
        "\n",
        "\n",
        "# --- 메인 실행 로직 ---\n",
        "if __name__ == \"__main__\":\n",
        "\n",
        "    # 이전 실행 데이터 초기화를 위해 파일 삭제 (선택 사항)\n",
        "    import os\n",
        "    if os.path.exists(DB_NAME):\n",
        "        os.remove(DB_NAME)\n",
        "        print(f\"기존 DB 파일 '{DB_NAME}' 삭제 완료.\")\n",
        "\n",
        "    # 1. DB 설정 및 테이블 생성\n",
        "    conn, cur = setup_database(DB_NAME)\n",
        "\n",
        "    # 2. Faker로 가상 데이터 생성\n",
        "    customer_list, product_list = generate_sample_data(cur, num_records=10)\n",
        "\n",
        "    # 3. 거래 시뮬레이션\n",
        "    simulate_transactions(conn, cur, customer_list, product_list)\n",
        "\n",
        "    # 4. 최종 거래 내역 조회\n",
        "    view_transactions(cur)\n",
        "\n",
        "    # 5. 연결 종료\n",
        "    conn.close()\n",
        "    print(\"\\n데이터베이스 연결이 종료되었습니다.\")"
      ]
    },
    {
      "cell_type": "code",
      "metadata": {
        "colab": {
          "base_uri": "https://localhost:8080/"
        },
        "id": "fd6753cf",
        "outputId": "28081c4b-d1e5-4d00-cd25-4703582515db"
      },
      "source": [
        "!pip install faker"
      ],
      "execution_count": 2,
      "outputs": [
        {
          "output_type": "stream",
          "name": "stdout",
          "text": [
            "Collecting faker\n",
            "  Downloading faker-37.8.0-py3-none-any.whl.metadata (15 kB)\n",
            "Requirement already satisfied: tzdata in /usr/local/lib/python3.12/dist-packages (from faker) (2025.2)\n",
            "Downloading faker-37.8.0-py3-none-any.whl (2.0 MB)\n",
            "\u001b[2K   \u001b[90m━━━━━━━━━━━━━━━━━━━━━━━━━━━━━━━━━━━━━━━━\u001b[0m \u001b[32m2.0/2.0 MB\u001b[0m \u001b[31m34.3 MB/s\u001b[0m eta \u001b[36m0:00:00\u001b[0m\n",
            "\u001b[?25hInstalling collected packages: faker\n",
            "Successfully installed faker-37.8.0\n"
          ]
        }
      ]
    },
    {
      "cell_type": "code",
      "source": [
        "import gradio as gr\n",
        "import sqlite3\n",
        "import pandas as pd\n",
        "\n",
        "DB_NAME = 'faker_sales_data.db'\n",
        "\n",
        "def get_transactions():\n",
        "    \"\"\"데이터베이스에서 모든 거래 기록을 가져옵니다.\"\"\"\n",
        "    conn = sqlite3.connect(DB_NAME)\n",
        "    cur = conn.cursor()\n",
        "\n",
        "    cur.execute(\"\"\"\n",
        "        SELECT\n",
        "            t.transaction_id,\n",
        "            c.name AS customer_name,\n",
        "            p.name AS product_name,\n",
        "            t.transaction_type,\n",
        "            t.quantity,\n",
        "            t.amount,\n",
        "            t.transaction_date\n",
        "        FROM transactions t\n",
        "        JOIN customer c ON t.customer_id = c.customer_id\n",
        "        JOIN product p ON t.product_id = p.product_id\n",
        "        ORDER BY t.transaction_id\n",
        "    \"\"\")\n",
        "    transactions = cur.fetchall()\n",
        "    conn.close()\n",
        "\n",
        "    if not transactions:\n",
        "        return pd.DataFrame(columns=['ID', '고객명', '상품명', '유형', '수량', '금액', '날짜'])\n",
        "\n",
        "    # 결과를 Pandas DataFrame으로 변환\n",
        "    df = pd.DataFrame(transactions, columns=['ID', '고객명', '상품명', '유형', '수량', '금액', '날짜'])\n",
        "    return df\n",
        "\n",
        "# Gradio 인터페이스 생성\n",
        "with gr.Blocks() as demo:\n",
        "    gr.Markdown(\"# 가상 판매 거래 내역\")\n",
        "    gr.Interface(\n",
        "        fn=get_transactions,\n",
        "        inputs=None, # 입력 없음\n",
        "        outputs=gr.Dataframe(label=\"거래 기록\"),\n",
        "        title=\"판매 거래 조회\",\n",
        "        description=\"SQLite 데이터베이스에서 가상 판매 거래 내역을 조회합니다.\"\n",
        "    )\n",
        "\n",
        "if __name__ == \"__main__\":\n",
        "    demo.launch()"
      ],
      "metadata": {
        "colab": {
          "base_uri": "https://localhost:8080/",
          "height": 649
        },
        "id": "ktQHQF6zZ2d9",
        "outputId": "694d3274-5b38-4f35-a29e-654372675e38"
      },
      "execution_count": 6,
      "outputs": [
        {
          "output_type": "stream",
          "name": "stdout",
          "text": [
            "It looks like you are running Gradio on a hosted Jupyter notebook, which requires `share=True`. Automatically setting `share=True` (you can turn this off by setting `share=False` in `launch()` explicitly).\n",
            "\n",
            "Colab notebook detected. To show errors in colab notebook, set debug=True in launch()\n",
            "* Running on public URL: https://add57890a417073561.gradio.live\n",
            "\n",
            "This share link expires in 1 week. For free permanent hosting and GPU upgrades, run `gradio deploy` from the terminal in the working directory to deploy to Hugging Face Spaces (https://huggingface.co/spaces)\n"
          ]
        },
        {
          "output_type": "display_data",
          "data": {
            "text/plain": [
              "<IPython.core.display.HTML object>"
            ],
            "text/html": [
              "<div><iframe src=\"https://add57890a417073561.gradio.live\" width=\"100%\" height=\"500\" allow=\"autoplay; camera; microphone; clipboard-read; clipboard-write;\" frameborder=\"0\" allowfullscreen></iframe></div>"
            ]
          },
          "metadata": {}
        }
      ]
    },
    {
      "cell_type": "code",
      "metadata": {
        "colab": {
          "base_uri": "https://localhost:8080/"
        },
        "id": "1351ba06",
        "outputId": "53061e60-325a-407e-8d94-5c2d3160a110"
      },
      "source": [
        "!pip install gradio"
      ],
      "execution_count": 5,
      "outputs": [
        {
          "output_type": "stream",
          "name": "stdout",
          "text": [
            "Requirement already satisfied: gradio in /usr/local/lib/python3.12/dist-packages (5.47.2)\n",
            "Requirement already satisfied: aiofiles<25.0,>=22.0 in /usr/local/lib/python3.12/dist-packages (from gradio) (24.1.0)\n",
            "Requirement already satisfied: anyio<5.0,>=3.0 in /usr/local/lib/python3.12/dist-packages (from gradio) (4.11.0)\n",
            "Requirement already satisfied: brotli>=1.1.0 in /usr/local/lib/python3.12/dist-packages (from gradio) (1.1.0)\n",
            "Requirement already satisfied: fastapi<1.0,>=0.115.2 in /usr/local/lib/python3.12/dist-packages (from gradio) (0.118.0)\n",
            "Requirement already satisfied: ffmpy in /usr/local/lib/python3.12/dist-packages (from gradio) (0.6.1)\n",
            "Requirement already satisfied: gradio-client==1.13.3 in /usr/local/lib/python3.12/dist-packages (from gradio) (1.13.3)\n",
            "Requirement already satisfied: groovy~=0.1 in /usr/local/lib/python3.12/dist-packages (from gradio) (0.1.2)\n",
            "Requirement already satisfied: httpx<1.0,>=0.24.1 in /usr/local/lib/python3.12/dist-packages (from gradio) (0.28.1)\n",
            "Requirement already satisfied: huggingface-hub<2.0,>=0.33.5 in /usr/local/lib/python3.12/dist-packages (from gradio) (0.35.3)\n",
            "Requirement already satisfied: jinja2<4.0 in /usr/local/lib/python3.12/dist-packages (from gradio) (3.1.6)\n",
            "Requirement already satisfied: markupsafe<4.0,>=2.0 in /usr/local/lib/python3.12/dist-packages (from gradio) (3.0.3)\n",
            "Requirement already satisfied: numpy<3.0,>=1.0 in /usr/local/lib/python3.12/dist-packages (from gradio) (2.0.2)\n",
            "Requirement already satisfied: orjson~=3.0 in /usr/local/lib/python3.12/dist-packages (from gradio) (3.11.3)\n",
            "Requirement already satisfied: packaging in /usr/local/lib/python3.12/dist-packages (from gradio) (25.0)\n",
            "Requirement already satisfied: pandas<3.0,>=1.0 in /usr/local/lib/python3.12/dist-packages (from gradio) (2.2.2)\n",
            "Requirement already satisfied: pillow<12.0,>=8.0 in /usr/local/lib/python3.12/dist-packages (from gradio) (11.3.0)\n",
            "Requirement already satisfied: pydantic<2.12,>=2.0 in /usr/local/lib/python3.12/dist-packages (from gradio) (2.11.9)\n",
            "Requirement already satisfied: pydub in /usr/local/lib/python3.12/dist-packages (from gradio) (0.25.1)\n",
            "Requirement already satisfied: python-multipart>=0.0.18 in /usr/local/lib/python3.12/dist-packages (from gradio) (0.0.20)\n",
            "Requirement already satisfied: pyyaml<7.0,>=5.0 in /usr/local/lib/python3.12/dist-packages (from gradio) (6.0.3)\n",
            "Requirement already satisfied: ruff>=0.9.3 in /usr/local/lib/python3.12/dist-packages (from gradio) (0.13.2)\n",
            "Requirement already satisfied: safehttpx<0.2.0,>=0.1.6 in /usr/local/lib/python3.12/dist-packages (from gradio) (0.1.6)\n",
            "Requirement already satisfied: semantic-version~=2.0 in /usr/local/lib/python3.12/dist-packages (from gradio) (2.10.0)\n",
            "Requirement already satisfied: starlette<1.0,>=0.40.0 in /usr/local/lib/python3.12/dist-packages (from gradio) (0.48.0)\n",
            "Requirement already satisfied: tomlkit<0.14.0,>=0.12.0 in /usr/local/lib/python3.12/dist-packages (from gradio) (0.13.3)\n",
            "Requirement already satisfied: typer<1.0,>=0.12 in /usr/local/lib/python3.12/dist-packages (from gradio) (0.19.2)\n",
            "Requirement already satisfied: typing-extensions~=4.0 in /usr/local/lib/python3.12/dist-packages (from gradio) (4.15.0)\n",
            "Requirement already satisfied: uvicorn>=0.14.0 in /usr/local/lib/python3.12/dist-packages (from gradio) (0.37.0)\n",
            "Requirement already satisfied: fsspec in /usr/local/lib/python3.12/dist-packages (from gradio-client==1.13.3->gradio) (2025.3.0)\n",
            "Requirement already satisfied: websockets<16.0,>=13.0 in /usr/local/lib/python3.12/dist-packages (from gradio-client==1.13.3->gradio) (15.0.1)\n",
            "Requirement already satisfied: idna>=2.8 in /usr/local/lib/python3.12/dist-packages (from anyio<5.0,>=3.0->gradio) (3.10)\n",
            "Requirement already satisfied: sniffio>=1.1 in /usr/local/lib/python3.12/dist-packages (from anyio<5.0,>=3.0->gradio) (1.3.1)\n",
            "Requirement already satisfied: certifi in /usr/local/lib/python3.12/dist-packages (from httpx<1.0,>=0.24.1->gradio) (2025.8.3)\n",
            "Requirement already satisfied: httpcore==1.* in /usr/local/lib/python3.12/dist-packages (from httpx<1.0,>=0.24.1->gradio) (1.0.9)\n",
            "Requirement already satisfied: h11>=0.16 in /usr/local/lib/python3.12/dist-packages (from httpcore==1.*->httpx<1.0,>=0.24.1->gradio) (0.16.0)\n",
            "Requirement already satisfied: filelock in /usr/local/lib/python3.12/dist-packages (from huggingface-hub<2.0,>=0.33.5->gradio) (3.19.1)\n",
            "Requirement already satisfied: requests in /usr/local/lib/python3.12/dist-packages (from huggingface-hub<2.0,>=0.33.5->gradio) (2.32.4)\n",
            "Requirement already satisfied: tqdm>=4.42.1 in /usr/local/lib/python3.12/dist-packages (from huggingface-hub<2.0,>=0.33.5->gradio) (4.67.1)\n",
            "Requirement already satisfied: hf-xet<2.0.0,>=1.1.3 in /usr/local/lib/python3.12/dist-packages (from huggingface-hub<2.0,>=0.33.5->gradio) (1.1.10)\n",
            "Requirement already satisfied: python-dateutil>=2.8.2 in /usr/local/lib/python3.12/dist-packages (from pandas<3.0,>=1.0->gradio) (2.9.0.post0)\n",
            "Requirement already satisfied: pytz>=2020.1 in /usr/local/lib/python3.12/dist-packages (from pandas<3.0,>=1.0->gradio) (2025.2)\n",
            "Requirement already satisfied: tzdata>=2022.7 in /usr/local/lib/python3.12/dist-packages (from pandas<3.0,>=1.0->gradio) (2025.2)\n",
            "Requirement already satisfied: annotated-types>=0.6.0 in /usr/local/lib/python3.12/dist-packages (from pydantic<2.12,>=2.0->gradio) (0.7.0)\n",
            "Requirement already satisfied: pydantic-core==2.33.2 in /usr/local/lib/python3.12/dist-packages (from pydantic<2.12,>=2.0->gradio) (2.33.2)\n",
            "Requirement already satisfied: typing-inspection>=0.4.0 in /usr/local/lib/python3.12/dist-packages (from pydantic<2.12,>=2.0->gradio) (0.4.2)\n",
            "Requirement already satisfied: click>=8.0.0 in /usr/local/lib/python3.12/dist-packages (from typer<1.0,>=0.12->gradio) (8.3.0)\n",
            "Requirement already satisfied: shellingham>=1.3.0 in /usr/local/lib/python3.12/dist-packages (from typer<1.0,>=0.12->gradio) (1.5.4)\n",
            "Requirement already satisfied: rich>=10.11.0 in /usr/local/lib/python3.12/dist-packages (from typer<1.0,>=0.12->gradio) (13.9.4)\n",
            "Requirement already satisfied: six>=1.5 in /usr/local/lib/python3.12/dist-packages (from python-dateutil>=2.8.2->pandas<3.0,>=1.0->gradio) (1.17.0)\n",
            "Requirement already satisfied: markdown-it-py>=2.2.0 in /usr/local/lib/python3.12/dist-packages (from rich>=10.11.0->typer<1.0,>=0.12->gradio) (4.0.0)\n",
            "Requirement already satisfied: pygments<3.0.0,>=2.13.0 in /usr/local/lib/python3.12/dist-packages (from rich>=10.11.0->typer<1.0,>=0.12->gradio) (2.19.2)\n",
            "Requirement already satisfied: charset_normalizer<4,>=2 in /usr/local/lib/python3.12/dist-packages (from requests->huggingface-hub<2.0,>=0.33.5->gradio) (3.4.3)\n",
            "Requirement already satisfied: urllib3<3,>=1.21.1 in /usr/local/lib/python3.12/dist-packages (from requests->huggingface-hub<2.0,>=0.33.5->gradio) (2.5.0)\n",
            "Requirement already satisfied: mdurl~=0.1 in /usr/local/lib/python3.12/dist-packages (from markdown-it-py>=2.2.0->rich>=10.11.0->typer<1.0,>=0.12->gradio) (0.1.2)\n"
          ]
        }
      ]
    },
    {
      "cell_type": "code",
      "source": [],
      "metadata": {
        "id": "ZwYOQjfPawJt"
      },
      "execution_count": null,
      "outputs": []
    },
    {
      "cell_type": "markdown",
      "metadata": {
        "id": "131131d9"
      },
      "source": [
        "# Task\n",
        "Create a Gradio application with separate sections for viewing customer data, viewing product data, and recording transactions."
      ]
    },
    {
      "cell_type": "markdown",
      "metadata": {
        "id": "1cdfd2d6"
      },
      "source": [
        "## Refactor existing code\n",
        "\n",
        "### Subtask:\n",
        "Organize the current Gradio code to support multiple tabs or sections for different functionalities.\n"
      ]
    },
    {
      "cell_type": "markdown",
      "metadata": {
        "id": "3481543d"
      },
      "source": [
        "**Reasoning**:\n",
        "The subtask is to organize the existing Gradio code into a tabbed interface. This requires modifying the current Gradio interface definition to use `gr.TabbedInterface` and wrapping the existing transaction viewing logic within one of the tabs. I will also include the necessary imports and the database name constant.\n",
        "\n"
      ]
    },
    {
      "cell_type": "code",
      "metadata": {
        "colab": {
          "base_uri": "https://localhost:8080/",
          "height": 649
        },
        "id": "2f1e4b1f",
        "outputId": "4edc453b-555e-4640-a9a1-03287944128a"
      },
      "source": [
        "import gradio as gr\n",
        "import sqlite3\n",
        "import pandas as pd\n",
        "\n",
        "DB_NAME = 'faker_sales_data.db'\n",
        "\n",
        "def get_transactions():\n",
        "    \"\"\"데이터베이스에서 모든 거래 기록을 가져옵니다.\"\"\"\n",
        "    conn = sqlite3.connect(DB_NAME)\n",
        "    cur = conn.cursor()\n",
        "\n",
        "    cur.execute(\"\"\"\n",
        "        SELECT\n",
        "            t.transaction_id,\n",
        "            c.name AS customer_name,\n",
        "            p.name AS product_name,\n",
        "            t.transaction_type,\n",
        "            t.quantity,\n",
        "            t.amount,\n",
        "            t.transaction_date\n",
        "        FROM transactions t\n",
        "        JOIN customer c ON t.customer_id = c.customer_id\n",
        "        JOIN product p ON t.product_id = p.product_id\n",
        "        ORDER BY t.transaction_id\n",
        "    \"\"\")\n",
        "    transactions = cur.fetchall()\n",
        "    conn.close()\n",
        "\n",
        "    if not transactions:\n",
        "        return pd.DataFrame(columns=['ID', '고객명', '상품명', '유형', '수량', '금액', '날짜'])\n",
        "\n",
        "    # 결과를 Pandas DataFrame으로 변환\n",
        "    df = pd.DataFrame(transactions, columns=['ID', '고객명', '상품명', '유형', '수량', '금액', '날짜'])\n",
        "    return df\n",
        "\n",
        "# Gradio 인터페이스 생성\n",
        "with gr.Blocks() as demo:\n",
        "    gr.Markdown(\"# 가상 판매 거래 내역\")\n",
        "    gr.TabbedInterface(\n",
        "        [\n",
        "            gr.Interface(\n",
        "                fn=get_transactions,\n",
        "                inputs=None, # 입력 없음\n",
        "                outputs=gr.Dataframe(label=\"거래 기록\"),\n",
        "                title=\"판매 거래 조회\",\n",
        "                description=\"SQLite 데이터베이스에서 가상 판매 거래 내역을 조회합니다.\"\n",
        "            )\n",
        "        ],\n",
        "        [\"거래 내역 조회\"]\n",
        "    )\n",
        "\n",
        "\n",
        "if __name__ == \"__main__\":\n",
        "    demo.launch()"
      ],
      "execution_count": 7,
      "outputs": [
        {
          "output_type": "stream",
          "name": "stdout",
          "text": [
            "It looks like you are running Gradio on a hosted Jupyter notebook, which requires `share=True`. Automatically setting `share=True` (you can turn this off by setting `share=False` in `launch()` explicitly).\n",
            "\n",
            "Colab notebook detected. To show errors in colab notebook, set debug=True in launch()\n",
            "* Running on public URL: https://d87af77b7ce5f662d2.gradio.live\n",
            "\n",
            "This share link expires in 1 week. For free permanent hosting and GPU upgrades, run `gradio deploy` from the terminal in the working directory to deploy to Hugging Face Spaces (https://huggingface.co/spaces)\n"
          ]
        },
        {
          "output_type": "display_data",
          "data": {
            "text/plain": [
              "<IPython.core.display.HTML object>"
            ],
            "text/html": [
              "<div><iframe src=\"https://d87af77b7ce5f662d2.gradio.live\" width=\"100%\" height=\"500\" allow=\"autoplay; camera; microphone; clipboard-read; clipboard-write;\" frameborder=\"0\" allowfullscreen></iframe></div>"
            ]
          },
          "metadata": {}
        }
      ]
    },
    {
      "cell_type": "markdown",
      "metadata": {
        "id": "8caa91b4"
      },
      "source": [
        "## Add customer view\n",
        "\n",
        "### Subtask:\n",
        "Create a Gradio component to display customer data from the database.\n"
      ]
    },
    {
      "cell_type": "markdown",
      "metadata": {
        "id": "c2892509"
      },
      "source": [
        "**Reasoning**:\n",
        "Define the function to retrieve customer data and add a new tab to the Gradio interface for displaying customer data.\n",
        "\n"
      ]
    },
    {
      "cell_type": "code",
      "metadata": {
        "colab": {
          "base_uri": "https://localhost:8080/",
          "height": 649
        },
        "id": "45035518",
        "outputId": "e132aef1-7fc5-4f7c-b6ae-9fb03756773e"
      },
      "source": [
        "import gradio as gr\n",
        "import sqlite3\n",
        "import pandas as pd\n",
        "\n",
        "DB_NAME = 'faker_sales_data.db'\n",
        "\n",
        "def get_transactions():\n",
        "    \"\"\"데이터베이스에서 모든 거래 기록을 가져옵니다.\"\"\"\n",
        "    conn = sqlite3.connect(DB_NAME)\n",
        "    cur = conn.cursor()\n",
        "\n",
        "    cur.execute(\"\"\"\n",
        "        SELECT\n",
        "            t.transaction_id,\n",
        "            c.name AS customer_name,\n",
        "            p.name AS product_name,\n",
        "            t.transaction_type,\n",
        "            t.quantity,\n",
        "            t.amount,\n",
        "            t.transaction_date\n",
        "        FROM transactions t\n",
        "        JOIN customer c ON t.customer_id = c.customer_id\n",
        "        JOIN product p ON t.product_id = p.product_id\n",
        "        ORDER BY t.transaction_id\n",
        "    \"\"\")\n",
        "    transactions = cur.fetchall()\n",
        "    conn.close()\n",
        "\n",
        "    if not transactions:\n",
        "        return pd.DataFrame(columns=['ID', '고객명', '상품명', '유형', '수량', '금액', '날짜'])\n",
        "\n",
        "    # 결과를 Pandas DataFrame으로 변환\n",
        "    df = pd.DataFrame(transactions, columns=['ID', '고객명', '상품명', '유형', '수량', '금액', '날짜'])\n",
        "    return df\n",
        "\n",
        "def get_customers():\n",
        "    \"\"\"데이터베이스에서 모든 고객 데이터를 가져옵니다.\"\"\"\n",
        "    conn = sqlite3.connect(DB_NAME)\n",
        "    cur = conn.cursor()\n",
        "\n",
        "    cur.execute(\"\"\"\n",
        "        SELECT\n",
        "            customer_id,\n",
        "            name,\n",
        "            email\n",
        "        FROM customer\n",
        "        ORDER BY customer_id\n",
        "    \"\"\")\n",
        "    customers = cur.fetchall()\n",
        "    conn.close()\n",
        "\n",
        "    if not customers:\n",
        "        return pd.DataFrame(columns=['Customer ID', 'Name', 'Email'])\n",
        "\n",
        "    df = pd.DataFrame(customers, columns=['Customer ID', 'Name', 'Email'])\n",
        "    return df\n",
        "\n",
        "\n",
        "# Gradio 인터페이스 생성\n",
        "with gr.Blocks() as demo:\n",
        "    gr.Markdown(\"# 가상 판매 거래 내역\")\n",
        "    gr.TabbedInterface(\n",
        "        [\n",
        "            gr.Interface(\n",
        "                fn=get_transactions,\n",
        "                inputs=None, # 입력 없음\n",
        "                outputs=gr.Dataframe(label=\"거래 기록\"),\n",
        "                title=\"판매 거래 조회\",\n",
        "                description=\"SQLite 데이터베이스에서 가상 판매 거래 내역을 조회합니다.\"\n",
        "            ),\n",
        "            gr.Interface(\n",
        "                fn=get_customers,\n",
        "                inputs=None,\n",
        "                outputs=gr.Dataframe(label=\"고객 목록\"),\n",
        "                title=\"고객 조회\",\n",
        "                description=\"SQLite 데이터베이스에서 고객 목록을 조회합니다.\"\n",
        "            )\n",
        "        ],\n",
        "        [\"거래 내역 조회\", \"고객 조회\"]\n",
        "    )\n",
        "\n",
        "\n",
        "if __name__ == \"__main__\":\n",
        "    demo.launch()"
      ],
      "execution_count": 8,
      "outputs": [
        {
          "output_type": "stream",
          "name": "stdout",
          "text": [
            "It looks like you are running Gradio on a hosted Jupyter notebook, which requires `share=True`. Automatically setting `share=True` (you can turn this off by setting `share=False` in `launch()` explicitly).\n",
            "\n",
            "Colab notebook detected. To show errors in colab notebook, set debug=True in launch()\n",
            "* Running on public URL: https://49b4bcfcc3933ca873.gradio.live\n",
            "\n",
            "This share link expires in 1 week. For free permanent hosting and GPU upgrades, run `gradio deploy` from the terminal in the working directory to deploy to Hugging Face Spaces (https://huggingface.co/spaces)\n"
          ]
        },
        {
          "output_type": "display_data",
          "data": {
            "text/plain": [
              "<IPython.core.display.HTML object>"
            ],
            "text/html": [
              "<div><iframe src=\"https://49b4bcfcc3933ca873.gradio.live\" width=\"100%\" height=\"500\" allow=\"autoplay; camera; microphone; clipboard-read; clipboard-write;\" frameborder=\"0\" allowfullscreen></iframe></div>"
            ]
          },
          "metadata": {}
        }
      ]
    },
    {
      "cell_type": "markdown",
      "metadata": {
        "id": "ba93580a"
      },
      "source": [
        "## Add product view\n",
        "\n",
        "### Subtask:\n",
        "Create a Gradio component to display product data from the database.\n"
      ]
    },
    {
      "cell_type": "markdown",
      "metadata": {
        "id": "c1941fa1"
      },
      "source": [
        "**Reasoning**:\n",
        "Define the function to retrieve product data and add a new tab for product viewing in the Gradio interface, following the instructions to complete the subtask.\n",
        "\n"
      ]
    },
    {
      "cell_type": "code",
      "metadata": {
        "colab": {
          "base_uri": "https://localhost:8080/",
          "height": 649
        },
        "id": "ffdec815",
        "outputId": "328d5467-5b4e-41a4-9eec-3046ec82b8e7"
      },
      "source": [
        "def get_products():\n",
        "    \"\"\"데이터베이스에서 모든 상품 데이터를 가져옵니다.\"\"\"\n",
        "    conn = sqlite3.connect(DB_NAME)\n",
        "    cur = conn.cursor()\n",
        "\n",
        "    cur.execute(\"\"\"\n",
        "        SELECT\n",
        "            product_id,\n",
        "            name,\n",
        "            price\n",
        "        FROM product\n",
        "        ORDER BY product_id\n",
        "    \"\"\")\n",
        "    products = cur.fetchall()\n",
        "    conn.close()\n",
        "\n",
        "    if not products:\n",
        "        return pd.DataFrame(columns=['Product ID', 'Name', 'Price'])\n",
        "\n",
        "    df = pd.DataFrame(products, columns=['Product ID', 'Name', 'Price'])\n",
        "    return df\n",
        "\n",
        "# Gradio 인터페이스 생성\n",
        "with gr.Blocks() as demo:\n",
        "    gr.Markdown(\"# 가상 판매 거래 내역\")\n",
        "    gr.TabbedInterface(\n",
        "        [\n",
        "            gr.Interface(\n",
        "                fn=get_transactions,\n",
        "                inputs=None, # 입력 없음\n",
        "                outputs=gr.Dataframe(label=\"거래 기록\"),\n",
        "                title=\"판매 거래 조회\",\n",
        "                description=\"SQLite 데이터베이스에서 가상 판매 거래 내역을 조회합니다.\"\n",
        "            ),\n",
        "            gr.Interface(\n",
        "                fn=get_customers,\n",
        "                inputs=None,\n",
        "                outputs=gr.Dataframe(label=\"고객 목록\"),\n",
        "                title=\"고객 조회\",\n",
        "                description=\"SQLite 데이터베이스에서 고객 목록을 조회합니다.\"\n",
        "            ),\n",
        "            gr.Interface(\n",
        "                fn=get_products,\n",
        "                inputs=None,\n",
        "                outputs=gr.Dataframe(label=\"상품 목록\"),\n",
        "                title=\"상품 조회\",\n",
        "                description=\"SQLite 데이터베이스에서 상품 목록을 조회합니다.\"\n",
        "            )\n",
        "        ],\n",
        "        [\"거래 내역 조회\", \"고객 조회\", \"상품 조회\"]\n",
        "    )\n",
        "\n",
        "\n",
        "if __name__ == \"__main__\":\n",
        "    demo.launch()"
      ],
      "execution_count": 9,
      "outputs": [
        {
          "output_type": "stream",
          "name": "stdout",
          "text": [
            "It looks like you are running Gradio on a hosted Jupyter notebook, which requires `share=True`. Automatically setting `share=True` (you can turn this off by setting `share=False` in `launch()` explicitly).\n",
            "\n",
            "Colab notebook detected. To show errors in colab notebook, set debug=True in launch()\n",
            "* Running on public URL: https://3535a0b453b6aaf741.gradio.live\n",
            "\n",
            "This share link expires in 1 week. For free permanent hosting and GPU upgrades, run `gradio deploy` from the terminal in the working directory to deploy to Hugging Face Spaces (https://huggingface.co/spaces)\n"
          ]
        },
        {
          "output_type": "display_data",
          "data": {
            "text/plain": [
              "<IPython.core.display.HTML object>"
            ],
            "text/html": [
              "<div><iframe src=\"https://3535a0b453b6aaf741.gradio.live\" width=\"100%\" height=\"500\" allow=\"autoplay; camera; microphone; clipboard-read; clipboard-write;\" frameborder=\"0\" allowfullscreen></iframe></div>"
            ]
          },
          "metadata": {}
        }
      ]
    },
    {
      "cell_type": "markdown",
      "metadata": {
        "id": "a6612757"
      },
      "source": [
        "## Add transaction recording functionality\n",
        "\n",
        "### Subtask:\n",
        "Create Gradio inputs and a button to allow users to record new transactions, and write the corresponding Python function to insert the data into the database.\n"
      ]
    },
    {
      "cell_type": "markdown",
      "metadata": {
        "id": "10e36ad7"
      },
      "source": [
        "**Reasoning**:\n",
        "Implement the function to record a new transaction and add the corresponding Gradio interface components to the Gradio application.\n",
        "\n"
      ]
    },
    {
      "cell_type": "code",
      "metadata": {
        "colab": {
          "base_uri": "https://localhost:8080/",
          "height": 649
        },
        "id": "8cfd50bd",
        "outputId": "523cbf81-396f-49bf-b2c4-52b8651a0cd0"
      },
      "source": [
        "from datetime import datetime\n",
        "\n",
        "def record_new_transaction(customer_id, product_id, transaction_type, quantity):\n",
        "    \"\"\"새로운 거래 기록을 DB의 transactions 테이블에 삽입합니다.\"\"\"\n",
        "    conn = None\n",
        "    try:\n",
        "        conn = sqlite3.connect(DB_NAME)\n",
        "        cur = conn.cursor()\n",
        "\n",
        "        # 상품 가격 조회\n",
        "        cur.execute(\"SELECT price FROM product WHERE product_id = ?\", (product_id,))\n",
        "        product_data = cur.fetchone()\n",
        "\n",
        "        if not product_data:\n",
        "            return \"오류: 해당 상품 ID를 찾을 수 없습니다.\"\n",
        "\n",
        "        unit_price = product_data[0]\n",
        "\n",
        "        # 거래 타입에 따라 금액 계산\n",
        "        quantity = int(quantity) # ensure quantity is integer\n",
        "        if transaction_type == 'Purchase':\n",
        "            amount = quantity * unit_price\n",
        "        elif transaction_type in ['Return', 'Cancel']:\n",
        "            amount = -(quantity * unit_price)\n",
        "        else:\n",
        "            return f\"오류: 알 수 없는 거래 유형 '{transaction_type}'.\"\n",
        "\n",
        "        # 현재 시간\n",
        "        trans_date = datetime.now().strftime('%Y-%m-%d %H:%M:%S')\n",
        "\n",
        "        # 거래 기록 삽입\n",
        "        cur.execute(\"\"\"\n",
        "            INSERT INTO transactions (customer_id, product_id, transaction_type, quantity, amount, transaction_date)\n",
        "            VALUES (?, ?, ?, ?, ?, ?)\n",
        "        \"\"\", (customer_id, product_id, transaction_type, quantity, amount, trans_date))\n",
        "\n",
        "        conn.commit()\n",
        "        return \"✅ 거래 기록 성공!\"\n",
        "\n",
        "    except sqlite3.Error as e:\n",
        "        if conn:\n",
        "            conn.rollback()\n",
        "        return f\"🚫 데이터베이스 오류: {e}\"\n",
        "    except ValueError:\n",
        "         if conn:\n",
        "            conn.rollback()\n",
        "         return \"🚫 입력 오류: 고객 ID, 상품 ID, 수량은 숫자로 입력해야 합니다.\"\n",
        "    finally:\n",
        "        if conn:\n",
        "            conn.close()\n",
        "\n",
        "\n",
        "# Gradio 인터페이스 생성\n",
        "with gr.Blocks() as demo:\n",
        "    gr.Markdown(\"# 가상 판매 거래 내역\")\n",
        "    with gr.TabbedInterface(\n",
        "        [\n",
        "            gr.Interface(\n",
        "                fn=get_transactions,\n",
        "                inputs=None, # 입력 없음\n",
        "                outputs=gr.Dataframe(label=\"거래 기록\"),\n",
        "                title=\"판매 거래 조회\",\n",
        "                description=\"SQLite 데이터베이스에서 가상 판매 거래 내역을 조회합니다.\"\n",
        "            ),\n",
        "            gr.Interface(\n",
        "                fn=get_customers,\n",
        "                inputs=None,\n",
        "                outputs=gr.Dataframe(label=\"고객 목록\"),\n",
        "                title=\"고객 조회\",\n",
        "                description=\"SQLite 데이터베이스에서 고객 목록을 조회합니다.\"\n",
        "            ),\n",
        "            gr.Interface(\n",
        "                fn=get_products,\n",
        "                inputs=None,\n",
        "                outputs=gr.Dataframe(label=\"상품 목록\"),\n",
        "                title=\"상품 조회\",\n",
        "                description=\"SQLite 데이터베이스에서 상품 목록을 조회합니다.\"\n",
        "            )\n",
        "        ],\n",
        "        [\"거래 내역 조회\", \"고객 조회\", \"상품 조회\"]\n",
        "    ):\n",
        "         pass # Placeholder for the new tab structure\n",
        "\n",
        "    # New Tab for Recording Transactions\n",
        "    with gr.Tab(\"거래 기록\"):\n",
        "        gr.Markdown(\"### 새 거래 기록\")\n",
        "        customer_id_input = gr.Number(label=\"고객 ID\", precision=0)\n",
        "        product_id_input = gr.Number(label=\"상품 ID\", precision=0)\n",
        "        transaction_type_input = gr.Dropdown(label=\"거래 유형\", choices=['Purchase', 'Return', 'Cancel'])\n",
        "        quantity_input = gr.Number(label=\"수량\", precision=0, value=1)\n",
        "        record_button = gr.Button(\"거래 기록\")\n",
        "        output_message = gr.Textbox(label=\"결과 메시지\")\n",
        "\n",
        "        record_button.click(\n",
        "            fn=record_new_transaction,\n",
        "            inputs=[customer_id_input, product_id_input, transaction_type_input, quantity_input],\n",
        "            outputs=output_message\n",
        "        )\n",
        "\n",
        "\n",
        "if __name__ == \"__main__\":\n",
        "    demo.launch()"
      ],
      "execution_count": 10,
      "outputs": [
        {
          "output_type": "stream",
          "name": "stdout",
          "text": [
            "It looks like you are running Gradio on a hosted Jupyter notebook, which requires `share=True`. Automatically setting `share=True` (you can turn this off by setting `share=False` in `launch()` explicitly).\n",
            "\n",
            "Colab notebook detected. To show errors in colab notebook, set debug=True in launch()\n",
            "* Running on public URL: https://945c8183a310985edd.gradio.live\n",
            "\n",
            "This share link expires in 1 week. For free permanent hosting and GPU upgrades, run `gradio deploy` from the terminal in the working directory to deploy to Hugging Face Spaces (https://huggingface.co/spaces)\n"
          ]
        },
        {
          "output_type": "display_data",
          "data": {
            "text/plain": [
              "<IPython.core.display.HTML object>"
            ],
            "text/html": [
              "<div><iframe src=\"https://945c8183a310985edd.gradio.live\" width=\"100%\" height=\"500\" allow=\"autoplay; camera; microphone; clipboard-read; clipboard-write;\" frameborder=\"0\" allowfullscreen></iframe></div>"
            ]
          },
          "metadata": {}
        }
      ]
    },
    {
      "cell_type": "markdown",
      "metadata": {
        "id": "3d9c4135"
      },
      "source": [
        "## Integrate components\n",
        "\n",
        "### Subtask:\n",
        "Combine all the views and the transaction recording feature into a single Gradio interface using tabs or another layout structure.\n"
      ]
    },
    {
      "cell_type": "markdown",
      "metadata": {
        "id": "c01652f9"
      },
      "source": [
        "**Reasoning**:\n",
        "The current code has successfully created the individual Gradio components for viewing data and recording transactions, but they are not yet combined into a single `gr.TabbedInterface`. The subtask requires combining all these sections into one interface using tabs. I will modify the `gr.TabbedInterface` definition to include the transaction recording section as a new tab, ensuring all components are correctly placed within the new tab's block.\n",
        "\n"
      ]
    },
    {
      "cell_type": "code",
      "metadata": {
        "colab": {
          "base_uri": "https://localhost:8080/",
          "height": 649
        },
        "id": "9a07cb47",
        "outputId": "41c8e762-a342-47c2-9d35-3434653a1981"
      },
      "source": [
        "import gradio as gr\n",
        "import sqlite3\n",
        "import pandas as pd\n",
        "from datetime import datetime\n",
        "\n",
        "DB_NAME = 'faker_sales_data.db'\n",
        "\n",
        "def get_transactions():\n",
        "    \"\"\"데이터베이스에서 모든 거래 기록을 가져옵니다.\"\"\"\n",
        "    conn = sqlite3.connect(DB_NAME)\n",
        "    cur = conn.cursor()\n",
        "\n",
        "    cur.execute(\"\"\"\n",
        "        SELECT\n",
        "            t.transaction_id,\n",
        "            c.name AS customer_name,\n",
        "            p.name AS product_name,\n",
        "            t.transaction_type,\n",
        "            t.quantity,\n",
        "            t.amount,\n",
        "            t.transaction_date\n",
        "        FROM transactions t\n",
        "        JOIN customer c ON t.customer_id = c.customer_id\n",
        "        JOIN product p ON t.product_id = p.product_id\n",
        "        ORDER BY t.transaction_id\n",
        "    \"\"\")\n",
        "    transactions = cur.fetchall()\n",
        "    conn.close()\n",
        "\n",
        "    if not transactions:\n",
        "        return pd.DataFrame(columns=['ID', '고객명', '상품명', '유형', '수량', '금액', '날짜'])\n",
        "\n",
        "    # 결과를 Pandas DataFrame으로 변환\n",
        "    df = pd.DataFrame(transactions, columns=['ID', '고객명', '상품명', '유형', '수량', '금액', '날짜'])\n",
        "    return df\n",
        "\n",
        "def get_customers():\n",
        "    \"\"\"데이터베이스에서 모든 고객 데이터를 가져옵니다.\"\"\"\n",
        "    conn = sqlite3.connect(DB_NAME)\n",
        "    cur = conn.cursor()\n",
        "\n",
        "    cur.execute(\"\"\"\n",
        "        SELECT\n",
        "            customer_id,\n",
        "            name,\n",
        "            email\n",
        "        FROM customer\n",
        "        ORDER BY customer_id\n",
        "    \"\"\")\n",
        "    customers = cur.fetchall()\n",
        "    conn.close()\n",
        "\n",
        "    if not customers:\n",
        "        return pd.DataFrame(columns=['Customer ID', 'Name', 'Email'])\n",
        "\n",
        "    df = pd.DataFrame(customers, columns=['Customer ID', 'Name', 'Email'])\n",
        "    return df\n",
        "\n",
        "def get_products():\n",
        "    \"\"\"데이터베이스에서 모든 상품 데이터를 가져옵니다.\"\"\"\n",
        "    conn = sqlite3.connect(DB_NAME)\n",
        "    cur = conn.cursor()\n",
        "\n",
        "    cur.execute(\"\"\"\n",
        "        SELECT\n",
        "            product_id,\n",
        "            name,\n",
        "            price\n",
        "        FROM product\n",
        "        ORDER BY product_id\n",
        "    \"\"\")\n",
        "    products = cur.fetchall()\n",
        "    conn.close()\n",
        "\n",
        "    if not products:\n",
        "        return pd.DataFrame(columns=['Product ID', 'Name', 'Price'])\n",
        "\n",
        "    df = pd.DataFrame(products, columns=['Product ID', 'Name', 'Price'])\n",
        "    return df\n",
        "\n",
        "def record_new_transaction(customer_id, product_id, transaction_type, quantity):\n",
        "    \"\"\"새로운 거래 기록을 DB의 transactions 테이블에 삽입합니다.\"\"\"\n",
        "    conn = None\n",
        "    try:\n",
        "        conn = sqlite3.connect(DB_NAME)\n",
        "        cur = conn.cursor()\n",
        "\n",
        "        # 상품 가격 조회\n",
        "        cur.execute(\"SELECT price FROM product WHERE product_id = ?\", (product_id,))\n",
        "        product_data = cur.fetchone()\n",
        "\n",
        "        if not product_data:\n",
        "            return \"오류: 해당 상품 ID를 찾을 수 없습니다.\"\n",
        "\n",
        "        unit_price = product_data[0]\n",
        "\n",
        "        # 거래 타입에 따라 금액 계산\n",
        "        quantity = int(quantity) # ensure quantity is integer\n",
        "        if transaction_type == 'Purchase':\n",
        "            amount = quantity * unit_price\n",
        "        elif transaction_type in ['Return', 'Cancel']:\n",
        "            amount = -(quantity * unit_price)\n",
        "        else:\n",
        "            return f\"오류: 알 수 없는 거래 유형 '{transaction_type}'.\"\n",
        "\n",
        "        # 현재 시간\n",
        "        trans_date = datetime.now().strftime('%Y-%m-%d %H:%M:%S')\n",
        "\n",
        "        # 거래 기록 삽입\n",
        "        cur.execute(\"\"\"\n",
        "            INSERT INTO transactions (customer_id, product_id, transaction_type, quantity, amount, transaction_date)\n",
        "            VALUES (?, ?, ?, ?, ?, ?)\n",
        "        \"\"\", (customer_id, product_id, transaction_type, quantity, amount, trans_date))\n",
        "\n",
        "        conn.commit()\n",
        "        return \"✅ 거래 기록 성공!\"\n",
        "\n",
        "    except sqlite3.Error as e:\n",
        "        if conn:\n",
        "            conn.rollback()\n",
        "        return f\"🚫 데이터베이스 오류: {e}\"\n",
        "    except ValueError:\n",
        "         if conn:\n",
        "            conn.rollback()\n",
        "         return \"🚫 입력 오류: 고객 ID, 상품 ID, 수량은 숫자로 입력해야 합니다.\"\n",
        "    finally:\n",
        "        if conn:\n",
        "            conn.close()\n",
        "\n",
        "\n",
        "# Gradio 인터페이스 생성\n",
        "with gr.Blocks() as demo:\n",
        "    gr.Markdown(\"# 가상 판매 거래 내역\")\n",
        "\n",
        "    # Define the transaction recording tab content within a gr.Blocks\n",
        "    with gr.Blocks() as record_transaction_block:\n",
        "        gr.Markdown(\"### 새 거래 기록\")\n",
        "        customer_id_input = gr.Number(label=\"고객 ID\", precision=0)\n",
        "        product_id_input = gr.Number(label=\"상품 ID\", precision=0)\n",
        "        transaction_type_input = gr.Dropdown(label=\"거래 유형\", choices=['Purchase', 'Return', 'Cancel'])\n",
        "        quantity_input = gr.Number(label=\"수량\", precision=0, value=1)\n",
        "        record_button = gr.Button(\"거래 기록\")\n",
        "        output_message = gr.Textbox(label=\"결과 메시지\")\n",
        "\n",
        "        record_button.click(\n",
        "            fn=record_new_transaction,\n",
        "            inputs=[customer_id_input, product_id_input, transaction_type_input, quantity_input],\n",
        "            outputs=output_message\n",
        "        )\n",
        "\n",
        "\n",
        "    gr.TabbedInterface(\n",
        "        [\n",
        "            gr.Interface(\n",
        "                fn=get_transactions,\n",
        "                inputs=None, # 입력 없음\n",
        "                outputs=gr.Dataframe(label=\"거래 기록\"),\n",
        "                title=\"판매 거래 조회\",\n",
        "                description=\"SQLite 데이터베이스에서 가상 판매 거래 내역을 조회합니다.\"\n",
        "            ),\n",
        "            gr.Interface(\n",
        "                fn=get_customers,\n",
        "                inputs=None,\n",
        "                outputs=gr.Dataframe(label=\"고객 목록\"),\n",
        "                title=\"고객 조회\",\n",
        "                description=\"SQLite 데이터베이스에서 고객 목록을 조회합니다.\"\n",
        "            ),\n",
        "            gr.Interface(\n",
        "                fn=get_products,\n",
        "                inputs=None,\n",
        "                outputs=gr.Dataframe(label=\"상품 목록\"),\n",
        "                title=\"상품 조회\",\n",
        "                description=\"SQLite 데이터베이스에서 상품 목록을 조회합니다.\"\n",
        "            ),\n",
        "            record_transaction_block # Include the new block here\n",
        "        ],\n",
        "        [\"거래 내역 조회\", \"고객 조회\", \"상품 조회\", \"거래 기록\"] # Add the new tab title\n",
        "    )\n",
        "\n",
        "\n",
        "if __name__ == \"__main__\":\n",
        "    demo.launch()"
      ],
      "execution_count": 11,
      "outputs": [
        {
          "output_type": "stream",
          "name": "stdout",
          "text": [
            "It looks like you are running Gradio on a hosted Jupyter notebook, which requires `share=True`. Automatically setting `share=True` (you can turn this off by setting `share=False` in `launch()` explicitly).\n",
            "\n",
            "Colab notebook detected. To show errors in colab notebook, set debug=True in launch()\n",
            "* Running on public URL: https://7242aeceaf358f107c.gradio.live\n",
            "\n",
            "This share link expires in 1 week. For free permanent hosting and GPU upgrades, run `gradio deploy` from the terminal in the working directory to deploy to Hugging Face Spaces (https://huggingface.co/spaces)\n"
          ]
        },
        {
          "output_type": "display_data",
          "data": {
            "text/plain": [
              "<IPython.core.display.HTML object>"
            ],
            "text/html": [
              "<div><iframe src=\"https://7242aeceaf358f107c.gradio.live\" width=\"100%\" height=\"500\" allow=\"autoplay; camera; microphone; clipboard-read; clipboard-write;\" frameborder=\"0\" allowfullscreen></iframe></div>"
            ]
          },
          "metadata": {}
        }
      ]
    },
    {
      "cell_type": "markdown",
      "metadata": {
        "id": "d9200091"
      },
      "source": [
        "## Test and refine\n",
        "\n",
        "### Subtask:\n",
        "Test the integrated application to ensure all parts work correctly and refine the layout and functionality as needed.\n"
      ]
    },
    {
      "cell_type": "markdown",
      "metadata": {
        "id": "30d080c2"
      },
      "source": [
        "## Summary:\n",
        "\n",
        "### Data Analysis Key Findings\n",
        "\n",
        "*   The Gradio application was successfully structured using `gr.TabbedInterface` to create separate sections for different functionalities.\n",
        "*   Functions (`get_transactions`, `get_customers`, `get_products`) were created to retrieve data from the SQLite database and display it in `gr.Dataframe` components within dedicated tabs.\n",
        "*   A `record_new_transaction` function was implemented to insert new transaction data into the database, including calculation of the transaction amount based on product price and quantity, and basic error handling.\n",
        "*   A new tab labeled \"거래 기록\" (Record Transaction) was added to the Gradio interface, containing input fields (`gr.Number`, `gr.Dropdown`) for transaction details and a button (`gr.Button`) linked to the recording function.\n",
        "*   All components were successfully integrated into a single Gradio application with four distinct tabs: \"거래 내역 조회\", \"고객 조회\", \"상품 조회\", and \"거래 기록\".\n",
        "\n",
        "### Insights or Next Steps\n",
        "\n",
        "*   Implement input validation and feedback mechanisms in the \"거래 기록\" tab to guide users and prevent errors before attempting database insertion.\n",
        "*   Add a refresh mechanism to the data viewing tabs (\"거래 내역 조회\", \"고객 조회\", \"상품 조회\") so that newly recorded data is automatically displayed after a successful transaction recording.\n"
      ]
    }
  ]
}